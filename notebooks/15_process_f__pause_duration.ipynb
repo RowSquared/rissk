{
 "cells": [
  {
   "cell_type": "code",
   "execution_count": null,
   "metadata": {
    "ExecuteTime": {
     "end_time": "2023-08-30T00:03:04.117375Z",
     "start_time": "2023-08-30T00:03:04.112854Z"
    }
   },
   "outputs": [],
   "source": [
    "import pandas as pd\n",
    "from utils.import_utils import *\n",
    "from hydra import initialize, initialize_config_module, initialize_config_dir, compose\n",
    "from src.unit_proccessing import  *\n",
    "from src.utils.stats_utils import *\n",
    "import plotly.express as px\n",
    "import seaborn as sns\n",
    "import pandas as pd\n",
    "import matplotlib.pyplot as plt\n",
    "from pyod.models.ecod import ECOD\n",
    "from pythresh.thresholds.hist import HIST\n",
    "from pythresh.thresholds.hist import HIST\n",
    "from pythresh.thresholds.filter import FILTER"
   ]
  },
  {
   "cell_type": "code",
   "execution_count": null,
   "metadata": {
    "ExecuteTime": {
     "end_time": "2023-08-30T00:03:04.359211Z",
     "start_time": "2023-08-30T00:03:04.309214Z"
    }
   },
   "outputs": [],
   "source": [
    "with initialize(config_path='../configuration', version_base='1.1'):\n",
    "    config = compose(config_name='main.yaml')"
   ]
  },
  {
   "cell_type": "code",
   "execution_count": null,
   "metadata": {
    "ExecuteTime": {
     "end_time": "2023-08-30T00:03:07.068347Z",
     "start_time": "2023-08-30T00:03:04.549485Z"
    }
   },
   "outputs": [],
   "source": [
    "features_class = UnitDataProcessing(config)"
   ]
  },
  {
   "cell_type": "code",
   "execution_count": null,
   "metadata": {
    "ExecuteTime": {
     "end_time": "2023-08-30T00:03:07.104034Z",
     "start_time": "2023-08-30T00:03:07.063808Z"
    }
   },
   "outputs": [],
   "source": [
    "df_unit = features_class.df_unit\n",
    "self = features_class\n",
    "feature_name = 'f__pause_duration'\n",
    "score_name = 's__pause_duration'\n",
    "df = df_unit[(~pd.isnull(df_unit[feature_name]))].copy()\n",
    "df[feature_name] = df[feature_name].astype(float)\n",
    "#df[feature_name] = round(df[feature_name]/(3600*2),0)\n",
    "#df[feature_name] = df[feature_name].apply(lambda x: round(x/12)*12 if x>12 else x)\n",
    "#.apply(transform_duartion)#/df_unit[~pd.isnull(df_unit[feature_name])]['f__number_answered']\n",
    "#/df_unit[~pd.isnull(df_unit[feature_name])]['f__number_answered']"
   ]
  },
  {
   "cell_type": "markdown",
   "metadata": {
    "collapsed": false
   },
   "source": [
    "|## Plot the distribution of pause duration"
   ]
  },
  {
   "cell_type": "code",
   "execution_count": null,
   "metadata": {
    "ExecuteTime": {
     "end_time": "2023-08-30T00:57:42.182304Z",
     "start_time": "2023-08-30T00:57:42.053409Z"
    }
   },
   "outputs": [],
   "source": [
    "df = self.get_df_time()"
   ]
  },
  {
   "cell_type": "code",
   "execution_count": null,
   "metadata": {
    "ExecuteTime": {
     "end_time": "2023-08-30T00:57:42.666013Z",
     "start_time": "2023-08-30T00:57:42.664548Z"
    }
   },
   "outputs": [],
   "source": [
    "def custom_format(seconds):\n",
    "    if seconds < 3600:\n",
    "        return round(seconds / 300) * 5    \n",
    "    elif 3600 <= seconds < 3600*2:\n",
    "        return round(seconds / 600) * 10\n",
    "    elif 3600*2 <= seconds < 3600*6:\n",
    "        return round(seconds / 1800) * 30\n",
    "    elif 3600*6 <= seconds < 3600*24:\n",
    "        return round(seconds / 3600) * 60\n",
    "    else:\n",
    "        return round(seconds / (3600*24)) * 60*24"
   ]
  },
  {
   "cell_type": "code",
   "execution_count": null,
   "metadata": {
    "ExecuteTime": {
     "end_time": "2023-08-30T00:56:13.969456Z",
     "start_time": "2023-08-30T00:56:13.910560Z"
    }
   },
   "outputs": [],
   "source": [
    "mask = df['event'].isin(['AnswerSet', 'AnswerRemoved'])\n",
    "df['previous_answer_count'] = df.where(mask).groupby('interview__id').cumcount()\n",
    "df['previous_answer_count'] = df.groupby('interview__id')['previous_answer_count'].fillna(method='ffill').fillna(0).astype(int)"
   ]
  },
  {
   "cell_type": "code",
   "execution_count": null,
   "metadata": {
    "ExecuteTime": {
     "end_time": "2023-08-30T00:41:05.445048Z",
     "start_time": "2023-08-30T00:41:05.430455Z"
    }
   },
   "outputs": [],
   "source": [
    "\n",
    "df = df[(~pd.isnull(df[feature_name]))].copy()\n",
    "df.sort_values(['interview__id','timestamp_local'], inplace=True)\n",
    "df['minutes_from_start'] = (df['timestamp_local'] - df['f__starting_timestamp']).dt.total_seconds()\n",
    "df['minutes_from_start'] = df['minutes_from_start'].apply(custom_format)\n",
    "df[feature_name] = df[feature_name].apply(custom_format)\n",
    "df[feature_name] = df[feature_name].astype(float)\n",
    "df['previous_pause_count'] = df.groupby('interview__id').cumcount()\n",
    "\n",
    "\n"
   ]
  },
  {
   "cell_type": "code",
   "execution_count": null,
   "metadata": {
    "ExecuteTime": {
     "end_time": "2023-08-30T00:59:07.899094Z",
     "start_time": "2023-08-30T00:59:07.847764Z"
    }
   },
   "outputs": [],
   "source": [
    "df = df.groupby('interview__id').agg(\n",
    "    f__pause_duration = (feature_name,'sum'),\n",
    "    f__pause_count = (feature_name,'count'),\n",
    "    f__total_count = ('f__total_duration','count'),\n",
    "    f__total_duration = ('f__total_duration','sum'),\n",
    ")\n",
    "df = df.reset_index()\n",
    "df[feature_name] = df[feature_name].apply(custom_format)"
   ]
  },
  {
   "cell_type": "code",
   "execution_count": null,
   "metadata": {
    "ExecuteTime": {
     "end_time": "2023-08-30T00:59:16.388260Z",
     "start_time": "2023-08-30T00:59:16.366657Z"
    }
   },
   "outputs": [],
   "source": [
    "df.columns"
   ]
  },
  {
   "cell_type": "code",
   "execution_count": null,
   "metadata": {
    "ExecuteTime": {
     "end_time": "2023-08-30T00:34:52.846842Z",
     "start_time": "2023-08-30T00:34:52.810787Z"
    }
   },
   "outputs": [],
   "source": [
    "sns.scatterplot(df, x='previous_pause_count',y=feature_name)"
   ]
  },
  {
   "cell_type": "code",
   "execution_count": null,
   "metadata": {
    "ExecuteTime": {
     "end_time": "2023-08-30T00:35:22.508942Z",
     "start_time": "2023-08-30T00:35:22.414147Z"
    }
   },
   "outputs": [],
   "source": [
    "df[df[feature_name]<3000][feature_name].hist()"
   ]
  },
  {
   "cell_type": "code",
   "execution_count": null,
   "metadata": {
    "ExecuteTime": {
     "end_time": "2023-08-30T12:27:42.440948Z",
     "start_time": "2023-08-30T12:27:41.430860Z"
    }
   },
   "outputs": [],
   "source": [
    "from pyod.models.gmm import GMM\n",
    "from pyod.models.copod import COPOD\n",
    "from pyod.models.cblof import CBLOF\n",
    "from pyod.models.knn import KNN\n",
    "from pyod.models.pca import PCA\n",
    "from pyod.models.kpca import KPCA\n",
    "from pyod.models.lof import LOF\n",
    "from pyod.models.lscp import LSCP\n",
    "\n",
    "\n",
    "#model = LOF(contamination=0.11,n_neighbors=80, metric='correlation')#, method='median')#FILTER( random_state=42))\n",
    "#model = COF(contamination=0.11,n_neighbors=45)#, random_state=42)\n",
    "#model = ECOD(contamination=FILTER(method='medfilt', random_state=42))\n",
    "#model = MAD(threshold=2.5)\n",
    "k_list = [20, 30, 40, 50, 60]\n",
    "# Number of classifiers being trained\n",
    "\n",
    "detector_list = [COF(n_neighbors=k) for k in k_list]\n",
    "model = LSCP(detector_list)\n",
    "#model.fit(df[df['f__time_changed']>=0][[feature_name]])\n",
    "df1 = df[['f__pause_duration']].copy()##, 'f__pause_count','f__total_count']].copy()\n",
    "scaler = StandardScaler()\n",
    "df1 = windsorize_95_percentile(df1)\n",
    "df1 = pd.DataFrame(scaler.fit_transform(df1), columns=df1.columns)\n",
    "model.fit(df1)"
   ]
  },
  {
   "cell_type": "code",
   "execution_count": null,
   "metadata": {
    "ExecuteTime": {
     "end_time": "2023-08-30T12:27:44.474828Z",
     "start_time": "2023-08-30T12:27:43.678348Z"
    }
   },
   "outputs": [],
   "source": [
    "df[score_name] = model.predict(df1)\n",
    "df[score_name].value_counts()"
   ]
  },
  {
   "cell_type": "code",
   "execution_count": null,
   "metadata": {
    "ExecuteTime": {
     "end_time": "2023-08-30T12:27:45.608913Z",
     "start_time": "2023-08-30T12:27:45.597900Z"
    }
   },
   "outputs": [],
   "source": [
    "df['survey_version'] = df['interview__id'].map(self.df_unit.set_index('interview__id')['survey_version'])\n",
    "df['survey_label'] = df['survey_version'].apply(lambda x: False if int(x.split('_')[2])<13 else True)"
   ]
  },
  {
   "cell_type": "code",
   "execution_count": null,
   "metadata": {
    "ExecuteTime": {
     "end_time": "2023-08-30T12:27:46.911954Z",
     "start_time": "2023-08-30T12:27:46.904123Z"
    }
   },
   "outputs": [],
   "source": [
    "df.groupby('survey_label')[score_name].mean()"
   ]
  },
  {
   "cell_type": "code",
   "execution_count": null,
   "metadata": {
    "ExecuteTime": {
     "end_time": "2023-08-30T12:27:25.123137Z",
     "start_time": "2023-08-30T12:27:25.026321Z"
    }
   },
   "outputs": [],
   "source": [
    "sns.scatterplot(df[(df['survey_label']==True)&(df[feature_name]<200000)],x='f__total_count',y=feature_name, hue=score_name)\n",
    "plt.show()"
   ]
  },
  {
   "cell_type": "code",
   "execution_count": null,
   "metadata": {
    "ExecuteTime": {
     "end_time": "2023-08-30T00:20:51.220660Z",
     "start_time": "2023-08-30T00:20:51.078269Z"
    }
   },
   "outputs": [],
   "source": [
    "sns.scatterplot(df[(df['order']<20000)&(df[feature_name]<200)],x='previous_pause_count',y='previous_answer_count', hue=score_name)\n",
    "plt.show()"
   ]
  },
  {
   "cell_type": "code",
   "execution_count": null,
   "metadata": {
    "ExecuteTime": {
     "end_time": "2023-08-30T00:38:10.681947Z",
     "start_time": "2023-08-30T00:38:10.577571Z"
    }
   },
   "outputs": [],
   "source": [
    "\n",
    "\n",
    "c=60*123\n",
    "data_true = df[(df[score_name]==0)&(df[feature_name]<c)][feature_name]\n",
    "data_false = df[(df[score_name]==1)&(df[feature_name]<c)][feature_name]\n",
    "\n",
    "# Determine the bin edges based on the entire dataset\n",
    "bins = np.histogram_bin_edges(df[(df[feature_name]<c)][feature_name], bins=30)\n",
    "\n",
    "\n",
    "plt.hist(data_true, bins=bins, alpha=0.5, color='blue', label='True')\n",
    "plt.hist(data_false, bins=bins, alpha=0.5, color='red', label='False')\n",
    "plt.show()\n"
   ]
  },
  {
   "cell_type": "code",
   "execution_count": null,
   "metadata": {},
   "outputs": [],
   "source": [
    "df = self.get_df_pause()\n",
    "df[feature_name].hist()"
   ]
  },
  {
   "cell_type": "code",
   "execution_count": null,
   "metadata": {},
   "outputs": [],
   "source": [
    "df = self.get_df_pause()\n",
    "df[feature_name] = round(df[feature_name]/(3600),0)\n",
    "df[feature_name] = df[feature_name].apply(lambda x: round(x/24)*24 if x>24 else x)"
   ]
  },
  {
   "cell_type": "code",
   "execution_count": null,
   "metadata": {},
   "outputs": [],
   "source": [
    "df[feature_name].hist()"
   ]
  },
  {
   "cell_type": "markdown",
   "metadata": {
    "collapsed": false
   },
   "source": [
    "## USE ECOD algorithm that makes use of cumulative function and is non-parametric for detecting anomalies in answer time set"
   ]
  },
  {
   "cell_type": "code",
   "execution_count": null,
   "metadata": {},
   "outputs": [],
   "source": [
    "from pyod.models.mad import MAD\n",
    "from  pyod.models.iforest import IForest #NO\n",
    "from  pyod.models.gmm import GMM #NO\n",
    "from  pyod.models.copod import COPOD#NO\n",
    "from  pyod.models.qmcd import QMCD # NO\n",
    "from  pyod.models.cof import COF\n",
    "from  pyod.models.cblof import CBLOF#NO\n",
    "from  pyod.models.hbos import HBOS#NO\n",
    "from  pyod.models.inne import INNE #NO\n",
    "from  pyod.models.lscp import LSCP#NO\n",
    "from  pyod.models.lmdd import LMDD #NO\n",
    "from  pyod.models.lof import LOF #NO\n",
    "model = COF(contamination=0.11)#FILTER( random_state=42))\n",
    "#model = ECOD(contamination=FILTER(method='medfilt', random_state=42))\n",
    "#model = MAD(threshold=2.5)\n",
    "#model.fit(df[df['f__time_changed']>=0][[feature_name]])\n",
    "model.fit(df[[feature_name]])"
   ]
  },
  {
   "cell_type": "code",
   "execution_count": null,
   "metadata": {},
   "outputs": [],
   "source": [
    "from pythresh.thresholds.dsn import DSN\n",
    "from pythresh.thresholds.comb import COMB\n",
    "\n",
    "\n",
    "from pythresh.thresholds.yj import YJ\n",
    "decision_scores = model.decision_scores_  # raw outlier scores on the train data\n",
    "\n",
    "# get outlier labels\n",
    "#thres = HIST()\n",
    "#thres = DSN()\n",
    "thres = FILTER( random_state=42)\n",
    "labels = thres.eval(decision_scores)\n",
    "thres.thresh_"
   ]
  },
  {
   "cell_type": "code",
   "execution_count": null,
   "metadata": {},
   "outputs": [],
   "source": [
    "df['anomaly'] = model.predict(df[[feature_name]])"
   ]
  },
  {
   "cell_type": "code",
   "execution_count": null,
   "metadata": {},
   "outputs": [],
   "source": [
    "df['anomaly'].value_counts(), df['anomaly'].value_counts()/df['anomaly'].count()"
   ]
  },
  {
   "cell_type": "code",
   "execution_count": null,
   "metadata": {},
   "outputs": [],
   "source": [
    "df[df['anomaly']==0][feature_name].min(), df[df['anomaly']==0][feature_name].max()"
   ]
  },
  {
   "cell_type": "code",
   "execution_count": null,
   "metadata": {},
   "outputs": [],
   "source": [
    "#df.loc[ df[feature_name]<df[df['anomaly']==0][feature_name].max(), 'anomaly'] =0\n",
    "df['anomaly'].value_counts()"
   ]
  },
  {
   "cell_type": "code",
   "execution_count": null,
   "metadata": {},
   "outputs": [],
   "source": [
    "c=12*31#48*5\n",
    "data_true = df[(df['anomaly']==0)&(df[feature_name]<c)][feature_name]/12\n",
    "data_false = df[(df['anomaly']==1)&(df[feature_name]<c)][feature_name]/12\n",
    "\n",
    "# Determine the bin edges based on the entire dataset\n",
    "bins = np.histogram_bin_edges(df[(df[feature_name]<c)][feature_name]/12, bins=48)\n",
    "\n",
    "\n",
    "plt.hist(data_true, bins=bins, alpha=0.5, color='blue', label='True')\n",
    "plt.hist(data_false, bins=bins, alpha=0.5, color='red', label='False')\n",
    "plt.show()"
   ]
  },
  {
   "cell_type": "code",
   "execution_count": null,
   "metadata": {},
   "outputs": [],
   "source": [
    "sns.boxplot(df,y=feature_name, x='anomaly')\n",
    "plt.show()"
   ]
  },
  {
   "cell_type": "code",
   "execution_count": null,
   "metadata": {},
   "outputs": [],
   "source": [
    "bins = np.histogram_bin_edges(df[df[feature_name]<df[df['anomaly']==0][feature_name].max()][feature_name], bins=48)\n",
    "plt.hist(df[df[feature_name]<df[df['anomaly']==0][feature_name].max()][feature_name], bins=bins, alpha=0.5, color='blue', label='True')\n",
    "plt.show()"
   ]
  },
  {
   "cell_type": "code",
   "execution_count": null,
   "metadata": {},
   "outputs": [],
   "source": [
    "df.groupby('survey_version').anomaly.value_counts()"
   ]
  },
  {
   "cell_type": "code",
   "execution_count": null,
   "metadata": {},
   "outputs": [],
   "source": []
  }
 ],
 "metadata": {
  "kernelspec": {
   "display_name": "mlss",
   "language": "python",
   "name": "mlss"
  },
  "language_info": {
   "codemirror_mode": {
    "name": "ipython",
    "version": 2
   },
   "file_extension": ".py",
   "mimetype": "text/x-python",
   "name": "python",
   "nbconvert_exporter": "python",
   "pygments_lexer": "ipython2",
   "version": "2.7.6"
  }
 },
 "nbformat": 4,
 "nbformat_minor": 0
}
