{
 "cells": [
  {
   "cell_type": "code",
   "execution_count": null,
   "metadata": {},
   "outputs": [],
   "source": [
    "%load_ext autoreload\n",
    "%autoreload 2"
   ]
  },
  {
   "cell_type": "code",
   "execution_count": null,
   "metadata": {},
   "outputs": [],
   "source": [
    "%load_ext memory_profiler"
   ]
  },
  {
   "cell_type": "code",
   "execution_count": null,
   "metadata": {},
   "outputs": [],
   "source": [
    "\n",
    "from hydra import initialize, initialize_config_module, initialize_config_dir, compose\n",
    "from src.item_processing import  *\n",
    "import seaborn as sns\n",
    "import pandas as pd\n",
    "import matplotlib.pyplot as plt"
   ]
  },
  {
   "cell_type": "code",
   "execution_count": null,
   "metadata": {},
   "outputs": [],
   "source": [
    "with initialize(config_path='../configuration', version_base='1.1'):\n",
    "    config = compose(config_name='main.yaml')"
   ]
  },
  {
   "cell_type": "code",
   "execution_count": null,
   "metadata": {},
   "outputs": [],
   "source": [
    "\n",
    "features_class = ItemFeatureProcessing(config)"
   ]
  },
  {
   "cell_type": "code",
   "execution_count": null,
   "metadata": {},
   "outputs": [],
   "source": [
    "df_item = features_class.df_item\n",
    "self = features_class"
   ]
  },
  {
   "cell_type": "code",
   "execution_count": null,
   "metadata": {},
   "outputs": [],
   "source": [
    "feature_name = 'f__first_decimal'\n",
    "score_name = 's__first_decimal'\n",
    "df = df_item[~pd.isnull(df_item[feature_name])].copy()\n",
    "# Select only those variables that have at least three distinct values and more than one hundred records\n",
    "\n",
    "valid_variables =  self.filter_variable_name_by_frequency(df, feature_name, frequency=100, min_unique_values=3)\n"
   ]
  },
  {
   "cell_type": "code",
   "execution_count": null,
   "metadata": {},
   "outputs": [],
   "source": [
    "for index_range in range(0, len(valid_variables), 50):\n",
    "    variables = valid_variables[index_range:index_range+50]\n",
    "    plt.figure(figsize=(15, 6))\n",
    "    sns.boxplot(df[df['variable_name'].isin(variables)],x='variable_name', y=feature_name)\n",
    "    plt.xticks(rotation=90)\n",
    "    plt.show()"
   ]
  },
  {
   "cell_type": "code",
   "execution_count": null,
   "metadata": {},
   "outputs": [],
   "source": [
    "for var in valid_variables:\n",
    "    mask = (df['variable_name'] == var)\n",
    "    contamination = self.get_contamination_parameter(feature_name, method='medfilt', random_state=42)    \n",
    "    model = COF(contamination=0.11)\n",
    "    model.fit(df[mask][[feature_name]])\n",
    "    df.loc[mask, score_name] = model.predict(df[mask][[feature_name]])\n",
    "    \n",
    "    data_true = df[(df[score_name]==0) & mask][feature_name]\n",
    "    data_false = df[(df[score_name]==1) & mask][feature_name]\n",
    "\n",
    "    bins = np.histogram_bin_edges(df[mask][feature_name], bins=10)\n",
    "    plt.hist(data_true, bins=bins, alpha=0.5, color='blue', label='True')\n",
    "    plt.hist(data_false, bins=bins, alpha=0.5, color='red', label='False')\n",
    "    plt.title(var)\n",
    "    plt.show()"
   ]
  },
  {
   "cell_type": "code",
   "execution_count": null,
   "metadata": {},
   "outputs": [],
   "source": [
    "for index_range in range(0, len(valid_variables), 50):\n",
    "    variables = valid_variables[index_range:index_range+50]\n",
    "    plt.figure(figsize=(15, 6))\n",
    "    sns.boxplot(df[df['variable_name'].isin(variables)],x='variable_name', y=feature_name, hue=score_name)\n",
    "    plt.xticks(rotation=90)\n",
    "    plt.show()"
   ]
  },
  {
   "cell_type": "markdown",
   "metadata": {
    "collapsed": false
   },
   "source": [
    "# First Decimal UNIT Level Processing"
   ]
  },
  {
   "cell_type": "code",
   "execution_count": null,
   "metadata": {},
   "outputs": [],
   "source": [
    "data = df.groupby(['interview__id']).agg({score_name: 'mean'})\n",
    "data = data.reset_index()\n",
    "data[score_name].hist()\n",
    "plt.title(score_name)\n",
    "plt.show()"
   ]
  },
  {
   "cell_type": "code",
   "execution_count": null,
   "metadata": {},
   "outputs": [],
   "source": [
    "total_unit = data['interview__id'].count()\n",
    "mean_value1 = data[score_name].mean()\n",
    "mean_value2 = data[score_name].mean()\n",
    "print(f\" Total UNITS: {total_unit}, with an average of anomalies in selected items {mean_value1}\")"
   ]
  },
  {
   "cell_type": "code",
   "execution_count": null,
   "metadata": {},
   "outputs": [],
   "source": [
    "data = df.groupby(['interview__id','responsible']).agg({score_name: 'mean'})\n",
    "data = data.reset_index()\n",
    "\n",
    "resp_df = {}\n",
    "for resp in data['responsible'].unique():\n",
    "    mask = (data['responsible']==resp)\n",
    "\n",
    "    total_unit = data[mask]['interview__id'].count()\n",
    "    mean_value1 = data[mask][score_name].mean()\n",
    "    resp_df[resp] = [mean_value1]\n",
    "    print(f\"{resp} - Total UNITS: {total_unit}, with an average of anomalies in selected items {mean_value1}\")\n",
    "\n",
    "resp_df = pd.DataFrame.from_records(resp_df).T\n",
    "resp_df = resp_df.reset_index()\n",
    "resp_df.columns = ['responsible', 'mean_value1']\n",
    "resp_df.set_index('responsible')['mean_value1'].plot(kind='bar')\n",
    "plt.title(score_name)\n"
   ]
  },
  {
   "cell_type": "code",
   "execution_count": null,
   "metadata": {},
   "outputs": [],
   "source": []
  }
 ],
 "metadata": {
  "kernelspec": {
   "display_name": "mlss",
   "language": "python",
   "name": "mlss"
  },
  "language_info": {
   "codemirror_mode": {
    "name": "ipython",
    "version": 2
   },
   "file_extension": ".py",
   "mimetype": "text/x-python",
   "name": "python",
   "nbconvert_exporter": "python",
   "pygments_lexer": "ipython2",
   "version": "2.7.6"
  }
 },
 "nbformat": 4,
 "nbformat_minor": 0
}
