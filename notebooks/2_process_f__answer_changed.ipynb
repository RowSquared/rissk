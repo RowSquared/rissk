{
 "cells": [
  {
   "cell_type": "code",
   "execution_count": null,
   "metadata": {
    "ExecuteTime": {
     "end_time": "2023-08-27T21:31:21.335613Z",
     "start_time": "2023-08-27T21:31:20.829303Z"
    }
   },
   "outputs": [],
   "source": [
    "import pandas as pd\n",
    "from utils.import_utils import *\n",
    "from hydra import initialize, initialize_config_module, initialize_config_dir, compose\n",
    "from src.unit_proccessing import  *\n",
    "from src.utils.stats_utils import *\n",
    "import plotly.express as px\n",
    "import seaborn as sns\n",
    "import pandas as pd\n",
    "import matplotlib.pyplot as plt"
   ]
  },
  {
   "cell_type": "code",
   "execution_count": null,
   "metadata": {
    "ExecuteTime": {
     "end_time": "2023-08-27T21:31:21.587230Z",
     "start_time": "2023-08-27T21:31:21.337508Z"
    }
   },
   "outputs": [],
   "source": [
    "with initialize(config_path='../configuration', version_base='1.1'):\n",
    "    config = compose(config_name='main.yaml')"
   ]
  },
  {
   "cell_type": "code",
   "execution_count": null,
   "metadata": {
    "ExecuteTime": {
     "end_time": "2023-08-27T21:31:41.185461Z",
     "start_time": "2023-08-27T21:31:21.587962Z"
    }
   },
   "outputs": [],
   "source": [
    "features_class = ItemFeatureProcessing(config)"
   ]
  },
  {
   "cell_type": "markdown",
   "metadata": {
    "collapsed": false
   },
   "source": [
    "# Answer Changed ITEM Level Processing"
   ]
  },
  {
   "cell_type": "code",
   "execution_count": null,
   "metadata": {
    "ExecuteTime": {
     "end_time": "2023-08-27T21:31:44.176005Z",
     "start_time": "2023-08-27T21:31:41.210972Z"
    }
   },
   "outputs": [],
   "source": [
    "df_item = features_class.df_item\n",
    "self = features_class\n",
    "feature_name = 'f__answer_changed'\n",
    "score_name = 's__answer_changed'\n",
    "df = df_item[~pd.isnull(df_item[feature_name])].copy()"
   ]
  },
  {
   "cell_type": "code",
   "execution_count": null,
   "metadata": {
    "ExecuteTime": {
     "end_time": "2023-08-27T21:31:44.186265Z",
     "start_time": "2023-08-27T21:31:44.181305Z"
    }
   },
   "outputs": [],
   "source": [
    "variables = list(df.variable_name.unique())"
   ]
  },
  {
   "cell_type": "code",
   "execution_count": null,
   "metadata": {
    "ExecuteTime": {
     "end_time": "2023-08-27T21:31:47.338422Z",
     "start_time": "2023-08-27T21:31:44.187853Z"
    }
   },
   "outputs": [],
   "source": [
    "# Plot the number of times each variable_name has been changed with a cap of 5 to make visualizatione easier\n",
    "df[score_name] = None\n",
    "df['value'] = None\n",
    "for index_range in range(0, len(variables)):\n",
    "    mask = (df['variable_name'] == variables[index_range])\n",
    "    #df.loc[mask,score_name] = model.fit_predict(df[mask][[feature_name]])\n",
    "    df.loc[mask,'value'] = df[mask][feature_name].apply(lambda x: 5 if x>5 else x)"
   ]
  },
  {
   "cell_type": "code",
   "execution_count": null,
   "metadata": {
    "ExecuteTime": {
     "end_time": "2023-08-27T21:31:47.636624Z",
     "start_time": "2023-08-27T21:31:47.340198Z"
    }
   },
   "outputs": [],
   "source": [
    "# Train and predict the answer_changed alongside the variable_name. Here it uses the qnr_seq as it's a numeric variable that maps the variable name into numeric fied\n",
    "model = ECOD(contamination=0.1)\n",
    "df[score_name] = model.fit_predict(df[['qnr_seq',feature_name]])"
   ]
  },
  {
   "cell_type": "code",
   "execution_count": null,
   "metadata": {
    "ExecuteTime": {
     "end_time": "2023-08-27T21:31:52.273150Z",
     "start_time": "2023-08-27T21:31:47.637718Z"
    }
   },
   "outputs": [],
   "source": [
    "# Plot the anomalies in answer_changed\n",
    "for index_range in range(0, len(variables), 50):\n",
    "    plt.figure(figsize=(15, 6))\n",
    "    sns.boxplot(df[df['variable_name'].isin(variables[index_range:index_range+50])],x='variable_name', y='value', hue=score_name)\n",
    "    plt.xticks(rotation=90)\n",
    "    plt.show()"
   ]
  },
  {
   "cell_type": "markdown",
   "metadata": {
    "collapsed": false
   },
   "source": [
    "# Answer Changed UNIT Level Processing\n"
   ]
  },
  {
   "cell_type": "code",
   "execution_count": null,
   "metadata": {
    "ExecuteTime": {
     "end_time": "2023-08-27T21:31:52.380258Z",
     "start_time": "2023-08-27T21:31:52.278132Z"
    }
   },
   "outputs": [],
   "source": [
    "# Plot the anomalies in answer_changed by interview__id \n",
    "data = df.groupby(['interview__id'])[score_name].mean()\n",
    "data = data.reset_index()\n",
    "data[score_name].hist()"
   ]
  },
  {
   "cell_type": "code",
   "execution_count": null,
   "metadata": {},
   "outputs": [],
   "source": [
    "sns.boxplot(data,y=score_name)\n",
    "plt.show()"
   ]
  },
  {
   "cell_type": "code",
   "execution_count": null,
   "metadata": {},
   "outputs": [],
   "source": [
    "total_unit = data['interview__id'].count()\n",
    "mean_value = data[score_name].mean()\n",
    "print(f\" Total UNITS: {total_unit}, with an average of change {mean_value}\")"
   ]
  },
  {
   "cell_type": "code",
   "execution_count": null,
   "metadata": {},
   "outputs": [],
   "source": [
    "data = df.groupby(['interview__id','responsible'])[score_name].mean()\n",
    "data = data.reset_index()\n",
    "\n",
    "resp_df = {}\n",
    "for resp in data['responsible'].unique():\n",
    "    mask = (data['responsible']==resp)\n",
    "\n",
    "    total_unit = data[mask]['interview__id'].count()\n",
    "    mean_value = data[mask][score_name].mean()\n",
    "    resp_df[resp] = [mean_value]\n",
    "    print(f\"{resp} - Total UNITS: {total_unit}, with an average of change {mean_value}\")\n",
    "\n",
    "resp_df = pd.DataFrame.from_records(resp_df).T\n",
    "resp_df = resp_df.reset_index()\n",
    "resp_df.columns = ['responsible', 'perc']\n",
    "resp_df.set_index('responsible')['perc'].plot(kind='bar')"
   ]
  },
  {
   "cell_type": "code",
   "execution_count": null,
   "metadata": {},
   "outputs": [],
   "source": []
  }
 ],
 "metadata": {
  "kernelspec": {
   "display_name": "mlss",
   "language": "python",
   "name": "mlss"
  },
  "language_info": {
   "codemirror_mode": {
    "name": "ipython",
    "version": 2
   },
   "file_extension": ".py",
   "mimetype": "text/x-python",
   "name": "python",
   "nbconvert_exporter": "python",
   "pygments_lexer": "ipython2",
   "version": "2.7.6"
  }
 },
 "nbformat": 4,
 "nbformat_minor": 0
}
