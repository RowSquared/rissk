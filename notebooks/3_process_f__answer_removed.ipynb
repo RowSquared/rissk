{
 "cells": [
  {
   "cell_type": "code",
   "execution_count": null,
   "metadata": {
    "ExecuteTime": {
     "end_time": "2023-08-18T20:06:42.723154Z",
     "start_time": "2023-08-18T20:06:42.205527Z"
    }
   },
   "outputs": [],
   "source": [
    "import pandas as pd\n",
    "from utils.import_utils import *\n",
    "from hydra import initialize, initialize_config_module, initialize_config_dir, compose\n",
    "from src.unit_proccessing import  *\n",
    "from src.utils.stats_utils import *\n",
    "import plotly.express as px\n",
    "import seaborn as sns\n",
    "import pandas as pd\n",
    "import matplotlib.pyplot as plt"
   ]
  },
  {
   "cell_type": "code",
   "execution_count": null,
   "metadata": {
    "ExecuteTime": {
     "end_time": "2023-08-18T20:06:42.974507Z",
     "start_time": "2023-08-18T20:06:42.716481Z"
    }
   },
   "outputs": [],
   "source": [
    "with initialize(config_path='../configuration', version_base='1.1'):\n",
    "    config = compose(config_name='main.yaml')"
   ]
  },
  {
   "cell_type": "code",
   "execution_count": null,
   "metadata": {
    "ExecuteTime": {
     "end_time": "2023-08-18T20:07:02.582459Z",
     "start_time": "2023-08-18T20:06:42.975178Z"
    }
   },
   "outputs": [],
   "source": [
    "features_class = ItemFeatureProcessing(config)"
   ]
  },
  {
   "cell_type": "code",
   "execution_count": null,
   "metadata": {
    "ExecuteTime": {
     "end_time": "2023-08-18T20:07:05.912343Z",
     "start_time": "2023-08-18T20:07:02.604118Z"
    }
   },
   "outputs": [],
   "source": [
    "df_item = features_class.df_item\n",
    "self = features_class\n",
    "feature_name = 'f__answer_removed'\n",
    "df = df_item[~pd.isnull(df_item[feature_name])].copy()"
   ]
  },
  {
   "cell_type": "code",
   "execution_count": null,
   "metadata": {
    "ExecuteTime": {
     "end_time": "2023-08-18T20:07:05.915831Z",
     "start_time": "2023-08-18T20:07:05.912965Z"
    }
   },
   "outputs": [],
   "source": [
    "variables = list(df.variable_name.unique())"
   ]
  },
  {
   "cell_type": "code",
   "execution_count": null,
   "metadata": {
    "ExecuteTime": {
     "end_time": "2023-08-18T20:07:05.970756Z",
     "start_time": "2023-08-18T20:07:05.917962Z"
    }
   },
   "outputs": [],
   "source": [
    "from pyod.models.ecod import ECOD\n",
    "model = ECOD(contamination=0.1)\n",
    "\n",
    "df['anomaly'] = None\n",
    "df['value'] = None\n",
    "for index_range in range(0, len(variables)):\n",
    "    mask = (df['variable_name'] == variables[index_range])\n",
    "    #df.loc[mask,'anomaly'] = model.fit_predict(df[mask][[feature_name]])\n",
    "    df.loc[mask,'value'] = df[mask][feature_name].apply(lambda x: 5 if x>5 else x)"
   ]
  },
  {
   "cell_type": "code",
   "execution_count": null,
   "metadata": {
    "ExecuteTime": {
     "end_time": "2023-08-18T20:07:06.184002Z",
     "start_time": "2023-08-18T20:07:05.972169Z"
    }
   },
   "outputs": [],
   "source": [
    "model = ECOD(contamination=0.15)\n",
    "df['anomaly'] = model.fit_predict(df[['qnr_seq',feature_name]])"
   ]
  },
  {
   "cell_type": "code",
   "execution_count": null,
   "metadata": {
    "ExecuteTime": {
     "end_time": "2023-08-18T20:07:06.188160Z",
     "start_time": "2023-08-18T20:07:06.185753Z"
    }
   },
   "outputs": [],
   "source": [
    "print(df['anomaly'].value_counts(), df['anomaly'].value_counts()/df['anomaly'].count())"
   ]
  },
  {
   "cell_type": "code",
   "execution_count": null,
   "metadata": {
    "ExecuteTime": {
     "end_time": "2023-08-18T18:58:46.786901Z",
     "start_time": "2023-08-18T18:58:45.804768Z"
    }
   },
   "outputs": [],
   "source": [
    "mask = df['value']>0\n",
    "for index_range in [x for x in range(0, len(variables), 50)]:\n",
    "    plt.figure(figsize=(15, 6))\n",
    "    sns.boxplot(df[(df['variable_name'].isin(variables[index_range:index_range+50]))&mask],x='variable_name', y='value', hue='anomaly')\n",
    "    plt.xticks(rotation=90)\n",
    "    plt.show()"
   ]
  },
  {
   "cell_type": "code",
   "execution_count": null,
   "metadata": {},
   "outputs": [],
   "source": []
  }
 ],
 "metadata": {
  "kernelspec": {
   "display_name": "mlss",
   "language": "python",
   "name": "mlss"
  },
  "language_info": {
   "codemirror_mode": {
    "name": "ipython",
    "version": 2
   },
   "file_extension": ".py",
   "mimetype": "text/x-python",
   "name": "python",
   "nbconvert_exporter": "python",
   "pygments_lexer": "ipython2",
   "version": "2.7.6"
  }
 },
 "nbformat": 4,
 "nbformat_minor": 0
}
