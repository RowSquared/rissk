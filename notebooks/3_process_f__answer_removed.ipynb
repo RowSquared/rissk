{
 "cells": [
  {
   "cell_type": "code",
   "execution_count": null,
   "metadata": {
    "ExecuteTime": {
     "end_time": "2023-08-27T21:33:14.424597Z",
     "start_time": "2023-08-27T21:33:13.940299Z"
    }
   },
   "outputs": [],
   "source": [
    "import pandas as pd\n",
    "from utils.import_utils import *\n",
    "from hydra import initialize, initialize_config_module, initialize_config_dir, compose\n",
    "from src.unit_proccessing import  *\n",
    "from src.utils.stats_utils import *\n",
    "import plotly.express as px\n",
    "import seaborn as sns\n",
    "import pandas as pd\n",
    "import matplotlib.pyplot as plt"
   ]
  },
  {
   "cell_type": "code",
   "execution_count": null,
   "metadata": {
    "ExecuteTime": {
     "end_time": "2023-08-27T21:33:14.659234Z",
     "start_time": "2023-08-27T21:33:14.424975Z"
    }
   },
   "outputs": [],
   "source": [
    "with initialize(config_path='../configuration', version_base='1.1'):\n",
    "    config = compose(config_name='main.yaml')"
   ]
  },
  {
   "cell_type": "code",
   "execution_count": null,
   "metadata": {
    "ExecuteTime": {
     "end_time": "2023-08-27T21:33:34.186908Z",
     "start_time": "2023-08-27T21:33:14.659790Z"
    }
   },
   "outputs": [],
   "source": [
    "features_class = ItemFeatureProcessing(config)"
   ]
  },
  {
   "cell_type": "markdown",
   "metadata": {
    "collapsed": false
   },
   "source": [
    "# Answer Removed ITEM Level Processing\n"
   ]
  },
  {
   "cell_type": "code",
   "execution_count": null,
   "metadata": {
    "ExecuteTime": {
     "end_time": "2023-08-27T21:33:34.236167Z",
     "start_time": "2023-08-27T21:33:34.206230Z"
    }
   },
   "outputs": [],
   "source": [
    "self = features_class\n",
    "feature_name = 'f__answer_removed'\n",
    "score_name = 's__answer_changed'\n",
    "df = self.get_feature_item__answer_removed(feature_name)\n",
    "df = df[~pd.isnull(df[feature_name])].copy()"
   ]
  },
  {
   "cell_type": "code",
   "execution_count": null,
   "metadata": {
    "ExecuteTime": {
     "end_time": "2023-08-27T21:33:34.291252Z",
     "start_time": "2023-08-27T21:33:34.234930Z"
    }
   },
   "outputs": [],
   "source": [
    "variables = list(df.variable_name.unique())"
   ]
  },
  {
   "cell_type": "code",
   "execution_count": null,
   "metadata": {
    "ExecuteTime": {
     "end_time": "2023-08-27T21:33:35.668018Z",
     "start_time": "2023-08-27T21:33:35.578597Z"
    }
   },
   "outputs": [],
   "source": [
    "from pyod.models.ecod import ECOD\n",
    "model = ECOD(contamination=0.1)\n",
    "\n",
    "df[score_name] = None\n",
    "df['value'] = None\n",
    "for index_range in range(0, len(variables)):\n",
    "    mask = (df['variable_name'] == variables[index_range])\n",
    "    #df.loc[mask,score_name] = model.fit_predict(df[mask][[feature_name]])\n",
    "    df.loc[mask,'value'] = df[mask][feature_name].apply(lambda x: 5 if x>5 else x)"
   ]
  },
  {
   "cell_type": "code",
   "execution_count": null,
   "metadata": {
    "ExecuteTime": {
     "end_time": "2023-08-27T21:33:37.123027Z",
     "start_time": "2023-08-27T21:33:36.904938Z"
    }
   },
   "outputs": [],
   "source": [
    "model = ECOD(contamination=0.1)\n",
    "df[score_name] = model.fit_predict(df[['qnr_seq',feature_name]])"
   ]
  },
  {
   "cell_type": "code",
   "execution_count": null,
   "metadata": {
    "ExecuteTime": {
     "end_time": "2023-08-27T21:33:38.176189Z",
     "start_time": "2023-08-27T21:33:38.169562Z"
    }
   },
   "outputs": [],
   "source": [
    "print(df[score_name].value_counts(), df[score_name].value_counts()/df[score_name].count())"
   ]
  },
  {
   "cell_type": "code",
   "execution_count": null,
   "metadata": {
    "ExecuteTime": {
     "end_time": "2023-08-27T21:33:42.270356Z",
     "start_time": "2023-08-27T21:33:39.743848Z"
    }
   },
   "outputs": [],
   "source": [
    "mask = df['value']>0\n",
    "for index_range in [x for x in range(0, len(variables), 50)]:\n",
    "    plt.figure(figsize=(15, 6))\n",
    "    sns.boxplot(df[(df['variable_name'].isin(variables[index_range:index_range+50]))&mask],x='variable_name', y='value', hue=score_name)\n",
    "    plt.xticks(rotation=90)\n",
    "    plt.show()"
   ]
  },
  {
   "cell_type": "markdown",
   "metadata": {
    "collapsed": false
   },
   "source": [
    "# Answer Removed UNIT Level Processing\n"
   ]
  },
  {
   "cell_type": "code",
   "execution_count": null,
   "metadata": {
    "ExecuteTime": {
     "end_time": "2023-08-26T17:08:33.596477Z",
     "start_time": "2023-08-26T17:08:33.401616Z"
    }
   },
   "outputs": [],
   "source": [
    "# Plot the anomalies in answer_changed by interview__id  in the calculation it fill by zero empty values as it would imply \"no anmalies detected\"\n",
    "data = df.groupby(['interview__id'])[score_name].sum() / df.groupby(['interview__id'])[score_name].count()\n",
    "data = data.reset_index()\n",
    "data[score_name].hist()"
   ]
  },
  {
   "cell_type": "code",
   "execution_count": null,
   "metadata": {
    "ExecuteTime": {
     "end_time": "2023-08-26T17:08:33.647667Z",
     "start_time": "2023-08-26T17:08:33.611045Z"
    }
   },
   "outputs": [],
   "source": [
    "sns.boxplot(data,y=score_name)\n",
    "plt.show()"
   ]
  },
  {
   "cell_type": "code",
   "execution_count": null,
   "metadata": {
    "ExecuteTime": {
     "end_time": "2023-08-26T17:08:33.648434Z",
     "start_time": "2023-08-26T17:08:33.645497Z"
    }
   },
   "outputs": [],
   "source": [
    "total_unit = data['interview__id'].count()\n",
    "mean_value = data[score_name].mean()\n",
    "print(f\" Total UNITS: {total_unit}, with an average of removed {mean_value}\")"
   ]
  },
  {
   "cell_type": "code",
   "execution_count": null,
   "metadata": {
    "ExecuteTime": {
     "end_time": "2023-08-26T17:08:33.792497Z",
     "start_time": "2023-08-26T17:08:33.650663Z"
    }
   },
   "outputs": [],
   "source": [
    "data = df.groupby(['interview__id','responsible'])[score_name].sum() / df.groupby(['interview__id','responsible'])[score_name].count()\n",
    "data = data.reset_index()\n",
    "\n",
    "resp_df = {}\n",
    "for resp in data['responsible'].unique():\n",
    "    mask = (data['responsible']==resp)\n",
    "\n",
    "    total_unit = data[mask]['interview__id'].count()\n",
    "    mean_value = data[mask][score_name].mean()\n",
    "    resp_df[resp] = [mean_value]\n",
    "    print(f\"{resp} - Total UNITS: {total_unit}, with an average of removed {mean_value}\")\n",
    "\n",
    "resp_df = pd.DataFrame.from_records(resp_df).T\n",
    "resp_df = resp_df.reset_index()\n",
    "resp_df.columns = ['responsible', 'perc']\n",
    "resp_df.set_index('responsible')['perc'].plot(kind='bar')"
   ]
  },
  {
   "cell_type": "code",
   "execution_count": null,
   "metadata": {},
   "outputs": [],
   "source": []
  }
 ],
 "metadata": {
  "kernelspec": {
   "display_name": "mlss",
   "language": "python",
   "name": "mlss"
  },
  "language_info": {
   "codemirror_mode": {
    "name": "ipython",
    "version": 2
   },
   "file_extension": ".py",
   "mimetype": "text/x-python",
   "name": "python",
   "nbconvert_exporter": "python",
   "pygments_lexer": "ipython2",
   "version": "2.7.6"
  }
 },
 "nbformat": 4,
 "nbformat_minor": 0
}
