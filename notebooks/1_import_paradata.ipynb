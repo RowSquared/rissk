{
 "cells": [
  {
   "cell_type": "code",
   "execution_count": 15,
   "metadata": {
    "collapsed": true,
    "ExecuteTime": {
     "end_time": "2023-06-25T21:51:57.809866Z",
     "start_time": "2023-06-25T21:51:57.808282Z"
    }
   },
   "outputs": [],
   "source": [
    "import pandas as pd\n",
    "import os\n",
    "import sqlite3"
   ]
  },
  {
   "cell_type": "code",
   "execution_count": 17,
   "outputs": [],
   "source": [
    "%load_ext sql\n",
    "%config SqlMagic.autocommit=False # for engines that do not support autommit"
   ],
   "metadata": {
    "collapsed": false,
    "ExecuteTime": {
     "end_time": "2023-06-25T21:53:42.464553Z",
     "start_time": "2023-06-25T21:53:42.326793Z"
    }
   }
  },
  {
   "cell_type": "code",
   "execution_count": 13,
   "outputs": [],
   "source": [
    "DATA_PATH = '../data/1_raw'\n",
    "GISMS_2022_PATH = os.path.join(DATA_PATH,'GISMS_2022')\n",
    "FILE_PATH1 = os.path.join(GISMS_2022_PATH,'GISMS_2022_1_Paradata_All (5)', 'paradata.tab')\n",
    "FILE_PATH2 = os.path.join(GISMS_2022_PATH,'GISMS_2022_2_Paradata_All (4)', 'paradata.tab')\n"
   ],
   "metadata": {
    "collapsed": false,
    "ExecuteTime": {
     "end_time": "2023-06-25T21:50:20.432260Z",
     "start_time": "2023-06-25T21:50:20.430843Z"
    }
   }
  },
  {
   "cell_type": "code",
   "execution_count": 14,
   "outputs": [],
   "source": [
    "df1 = pd.read_table(FILE_PATH1)\n",
    "df2 = pd.read_table(FILE_PATH2)\n"
   ],
   "metadata": {
    "collapsed": false,
    "ExecuteTime": {
     "end_time": "2023-06-25T21:50:25.813349Z",
     "start_time": "2023-06-25T21:50:21.191642Z"
    }
   }
  },
  {
   "cell_type": "code",
   "execution_count": 16,
   "outputs": [],
   "source": [
    "\n",
    "# Create your connection to sql lite.\n",
    "cnx = sqlite3.connect(os.path.join(DATA_PATH,'paradata'))\n",
    "df1.to_sql(name='gisms_1', con=cnx)\n",
    "df2.to_sql(name='gisms_2', con=cnx)\n",
    "cnx.close()"
   ],
   "metadata": {
    "collapsed": false,
    "ExecuteTime": {
     "end_time": "2023-06-25T21:52:30.677722Z",
     "start_time": "2023-06-25T21:52:21.750525Z"
    }
   }
  },
  {
   "cell_type": "code",
   "execution_count": null,
   "outputs": [],
   "source": [],
   "metadata": {
    "collapsed": false
   }
  }
 ],
 "metadata": {
  "kernelspec": {
   "name": "ml4qc",
   "language": "python",
   "display_name": "ml4qc"
  },
  "language_info": {
   "codemirror_mode": {
    "name": "ipython",
    "version": 2
   },
   "file_extension": ".py",
   "mimetype": "text/x-python",
   "name": "python",
   "nbconvert_exporter": "python",
   "pygments_lexer": "ipython2",
   "version": "2.7.6"
  }
 },
 "nbformat": 4,
 "nbformat_minor": 0
}
