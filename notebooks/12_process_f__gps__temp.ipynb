{
 "cells": [
  {
   "cell_type": "code",
   "execution_count": null,
   "metadata": {
    "ExecuteTime": {
     "end_time": "2023-08-23T00:47:44.100698Z",
     "start_time": "2023-08-23T00:47:44.046306Z"
    }
   },
   "outputs": [],
   "source": [
    "import numpy as np\n",
    "%load_ext autoreload\n",
    "%autoreload 2"
   ]
  },
  {
   "cell_type": "code",
   "execution_count": null,
   "metadata": {
    "ExecuteTime": {
     "end_time": "2023-08-23T00:47:44.327045Z",
     "start_time": "2023-08-23T00:47:44.290578Z"
    }
   },
   "outputs": [],
   "source": [
    "%load_ext memory_profiler"
   ]
  },
  {
   "cell_type": "code",
   "execution_count": null,
   "metadata": {
    "ExecuteTime": {
     "end_time": "2023-08-23T12:44:14.792066Z",
     "start_time": "2023-08-23T12:44:14.720512Z"
    }
   },
   "outputs": [],
   "source": [
    "import pandas as pd\n",
    "from utils.import_utils import *\n",
    "from hydra import initialize, initialize_config_module, initialize_config_dir, compose\n",
    "from src.feature_processing import *\n",
    "from src.unit_proccessing import  *\n",
    "from src.utils.stats_utils import *\n",
    "import plotly.express as px\n",
    "import seaborn as sns\n",
    "import pandas as pd\n",
    "import matplotlib.pyplot as plt"
   ]
  },
  {
   "cell_type": "code",
   "execution_count": null,
   "metadata": {
    "ExecuteTime": {
     "end_time": "2023-08-23T12:44:15.034945Z",
     "start_time": "2023-08-23T12:44:14.949683Z"
    }
   },
   "outputs": [],
   "source": [
    "with initialize(config_path='../configuration', version_base='1.1'):\n",
    "    config = compose(config_name='main.yaml')"
   ]
  },
  {
   "cell_type": "code",
   "execution_count": null,
   "metadata": {
    "ExecuteTime": {
     "end_time": "2023-08-23T12:44:36.737554Z",
     "start_time": "2023-08-23T12:44:15.183078Z"
    }
   },
   "outputs": [],
   "source": [
    "features_class = UnitDataProcessing(config)"
   ]
  },
  {
   "cell_type": "code",
   "execution_count": null,
   "metadata": {
    "ExecuteTime": {
     "end_time": "2023-08-23T12:44:37.986686Z",
     "start_time": "2023-08-23T12:44:36.738131Z"
    }
   },
   "outputs": [],
   "source": [
    "self = features_class"
   ]
  },
  {
   "cell_type": "code",
   "execution_count": null,
   "metadata": {
    "ExecuteTime": {
     "end_time": "2023-08-23T12:44:41.920253Z",
     "start_time": "2023-08-23T12:44:37.987219Z"
    }
   },
   "outputs": [],
   "source": [
    "df_item = features_class.df_item\n"
   ]
  },
  {
   "cell_type": "code",
   "execution_count": null,
   "metadata": {
    "ExecuteTime": {
     "end_time": "2023-08-23T12:44:42.057315Z",
     "start_time": "2023-08-23T12:44:41.920966Z"
    }
   },
   "outputs": [],
   "source": [
    "feature_name = ['f__gps_latitude', 'f__gps_longitude', 'f__gps_accuracy']\n",
    "data, index_col = self.get_clean_pivot_table(feature_name, remove_low_freq_col=False)\n",
    "\n",
    "def replace_with_feature_name(columns, feature_names):\n",
    "    for i, s in enumerate(columns):\n",
    "        for sub in feature_names:\n",
    "            if sub in s:\n",
    "                columns[i] = sub\n",
    "                break\n",
    "    return columns\n",
    "\n",
    "data.columns = replace_with_feature_name(list(data.columns), feature_name)\n",
    "data = data.reset_index()"
   ]
  },
  {
   "cell_type": "code",
   "execution_count": null,
   "metadata": {
    "ExecuteTime": {
     "end_time": "2023-08-23T12:46:32.901350Z",
     "start_time": "2023-08-23T12:46:32.763684Z"
    }
   },
   "outputs": [],
   "source": [
    "from pyod.models.cof import COF\n",
    "from pyod.models.cblof import CBLOF\n",
    "from pyod.models.knn import KNN\n",
    "from sklearn.cluster import DBSCAN, HDBSCAN\n",
    "\n",
    "\n",
    "model = COF(n_neighbors=20)\n",
    "#model = CBLOF(contamination=0.01)\n",
    "#model = KNN()\n",
    "#model = HDBSCAN()\n",
    "\n",
    "columns =  ['f__gps_latitude', 'f__gps_longitude'] #['f__gps_latitude', 'f__gps_longitude', 'f__gps_accuracy']#['f__gps_latitude', 'f__gps_longitude'] #\n",
    "data = data[columns].drop_duplicates()\n",
    "model.fit(data)"
   ]
  },
  {
   "cell_type": "code",
   "execution_count": null,
   "metadata": {
    "ExecuteTime": {
     "end_time": "2023-08-23T12:46:33.508224Z",
     "start_time": "2023-08-23T12:46:33.462882Z"
    }
   },
   "outputs": [],
   "source": [
    "data[columns].shape, data[columns].drop_duplicates().shape"
   ]
  },
  {
   "cell_type": "code",
   "execution_count": null,
   "metadata": {
    "ExecuteTime": {
     "end_time": "2023-08-23T12:46:34.079894Z",
     "start_time": "2023-08-23T12:46:33.981133Z"
    }
   },
   "outputs": [],
   "source": [
    "data['anomaly'] = model.predict(data[columns])\n",
    "#data['anomaly'] = model.labels_\n",
    "#data['anomaly'] = data['anomaly'].apply(lambda x: 1 if x==-1 else 0)\n",
    "data['anomaly'].value_counts()#, data['anomaly'].value_counts()/data['anomaly'].count()"
   ]
  },
  {
   "cell_type": "code",
   "execution_count": null,
   "metadata": {
    "ExecuteTime": {
     "end_time": "2023-08-23T12:46:34.601509Z",
     "start_time": "2023-08-23T12:46:34.560831Z"
    }
   },
   "outputs": [],
   "source": [
    "import folium\n",
    "import matplotlib.colors\n",
    "\n",
    "def get_color(value, vmin, vmax):\n",
    "    norm = plt.Normalize(vmin, vmax)\n",
    "    cmap = plt.get_cmap(\"viridis_r\")  # You can use any other colormap\n",
    "    rgba = cmap(norm(value))\n",
    "    return matplotlib.colors.rgb2hex(rgba)"
   ]
  },
  {
   "cell_type": "code",
   "execution_count": null,
   "metadata": {
    "ExecuteTime": {
     "end_time": "2023-08-23T12:46:35.391577Z",
     "start_time": "2023-08-23T12:46:35.350691Z"
    }
   },
   "outputs": [],
   "source": [
    "data['anomaly'].value_counts()"
   ]
  },
  {
   "cell_type": "code",
   "execution_count": null,
   "metadata": {
    "ExecuteTime": {
     "end_time": "2023-08-23T12:46:36.705362Z",
     "start_time": "2023-08-23T12:46:36.316234Z"
    }
   },
   "outputs": [],
   "source": [
    "import folium\n",
    "import matplotlib.colors\n",
    "\n",
    "def get_color(value, vmin, vmax):\n",
    "    norm = plt.Normalize(vmin, vmax)\n",
    "    cmap = plt.get_cmap(\"viridis_r\")  # You can use any other colormap\n",
    "    rgba = cmap(norm(value))\n",
    "    return matplotlib.colors.rgb2hex(rgba)\n",
    "df = data\n",
    "m = folium.Map(location=[df['f__gps_latitude'].mean(), df['f__gps_longitude'].mean()], zoom_start=10)\n",
    "\n",
    "vmin = df['anomaly'].min()\n",
    "vmax = df['anomaly'].max()\n",
    "#df['color'] = df['s__proximity_counts'].apply(lambda x: 'green' if x>0 else 'blue')\n",
    "df['color'] = df['anomaly'].apply(lambda x: 'red' if x>0 else 'blue')\n",
    "\n",
    "for idx, row in df.iterrows():\n",
    "    color = get_color(row['anomaly'], vmin, vmax)\n",
    "\n",
    "    marker = folium.CircleMarker(\n",
    "        location=(row['f__gps_latitude'], row['f__gps_longitude']),\n",
    "        radius=5,#+row['s__proximity_counts'],\n",
    "        color=row['color'],\n",
    "        fill=True,\n",
    "        #tooltip = row['s__proximity_counts'],\n",
    "        fill_color=color\n",
    "    )\n",
    "\n",
    "    # Add a popup label to display the value of s__spacial_outlier\n",
    "    folium.Popup(f\"Value: {row['anomaly']}\").add_to(marker)\n",
    "\n",
    "    marker.add_to(m)\n",
    "    \n",
    "m.save('map_with_labels.html')"
   ]
  },
  {
   "cell_type": "code",
   "execution_count": null,
   "metadata": {},
   "outputs": [],
   "source": []
  }
 ],
 "metadata": {
  "kernelspec": {
   "display_name": "mlss",
   "language": "python",
   "name": "mlss"
  },
  "language_info": {
   "codemirror_mode": {
    "name": "ipython",
    "version": 2
   },
   "file_extension": ".py",
   "mimetype": "text/x-python",
   "name": "python",
   "nbconvert_exporter": "python",
   "pygments_lexer": "ipython2",
   "version": "2.7.6"
  }
 },
 "nbformat": 4,
 "nbformat_minor": 0
}
