{
 "cells": [
  {
   "cell_type": "markdown",
   "source": [
    "# Generate Features"
   ],
   "metadata": {
    "collapsed": false
   }
  },
  {
   "cell_type": "code",
   "execution_count": 84,
   "outputs": [
    {
     "name": "stdout",
     "output_type": "stream",
     "text": [
      "The autoreload extension is already loaded. To reload it, use:\n",
      "  %reload_ext autoreload\n"
     ]
    },
    {
     "name": "stderr",
     "output_type": "stream",
     "text": [
      "/Users/andreas/projects/mlss/venv/lib/python3.10/site-packages/hydra/_internal/defaults_list.py:251: UserWarning: In 'main.yaml': Defaults list is missing `_self_`. See https://hydra.cc/docs/1.2/upgrades/1.0_to_1.1/default_composition_order for more information\n",
      "  warnings.warn(msg, UserWarning)\n"
     ]
    }
   ],
   "source": [
    "%load_ext autoreload\n",
    "%autoreload 2\n",
    "import pandas as pd\n",
    "from utils.import_utils import *\n",
    "from hydra import initialize, initialize_config_module, initialize_config_dir, compose\n",
    "from omegaconf import OmegaConf\n",
    "with initialize(config_path='../configuration', version_base='1.1'):\n",
    "    config = compose(config_name='main.yaml')\n",
    "survey_list = SurveyManager(config)\n",
    "dfs_paradata, dfs_questionnaires, dfs_microdata = survey_list.get_dataframes(reload=True)"
   ],
   "metadata": {
    "collapsed": false,
    "ExecuteTime": {
     "end_time": "2023-07-12T13:44:24.083503Z",
     "start_time": "2023-07-12T13:43:52.215788Z"
    }
   }
  },
  {
   "cell_type": "markdown",
   "source": [
    "# Microdata based features"
   ],
   "metadata": {
    "collapsed": false
   }
  },
  {
   "cell_type": "code",
   "execution_count": 85,
   "outputs": [],
   "source": [
    "#group_columns = [col for col in dfs_microdata.columns if col.endswith(\"__id\")]+['survey_name', 'survey_version']\n",
    "feat_item = dfs_microdata[['interview__id', 'variable', 'value', 'type', 'IsInteger', 'n_answers', 'answer_sequence']].copy()\n",
    "\n",
    "feat_item['value'].fillna('', inplace=True)\n",
    "\n",
    "text_question_mask = (feat_item['type'] == 'TextQuestion')\n",
    "numeric_question_mask = (feat_item['type'] == 'NumericQuestion') & (feat_item['value'] != '')\n",
    "decimal_question_mask = (feat_item['IsInteger'] == False) & (feat_item['value'] != '')\n"
   ],
   "metadata": {
    "collapsed": false,
    "ExecuteTime": {
     "end_time": "2023-07-12T13:59:38.120367Z",
     "start_time": "2023-07-12T13:59:37.829468Z"
    }
   }
  },
  {
   "cell_type": "code",
   "execution_count": 86,
   "outputs": [],
   "source": [
    "# f__string_length, length of string answer, if TextQuestions, empty if not\n",
    "feat_item['f__string_length'] = pd.NA\n",
    "feat_item.loc[text_question_mask, 'f__string_length'] = feat_item.loc[text_question_mask, 'value'].str.len()\n",
    "feat_item['f__string_length']=feat_item['f__string_length'].astype('Int64')\n"
   ],
   "metadata": {
    "collapsed": false,
    "ExecuteTime": {
     "end_time": "2023-07-12T13:59:38.905196Z",
     "start_time": "2023-07-12T13:59:38.844167Z"
    }
   }
  },
  {
   "cell_type": "code",
   "execution_count": 87,
   "outputs": [],
   "source": [
    "# f__first_digit, first digit of the response if numeric question, empty if not\n",
    "feat_item['f__first_digit'] = pd.NA\n",
    "feat_item.loc[numeric_question_mask, 'f__first_digit'] = feat_item.loc[numeric_question_mask, 'value'].astype(str).str[0].astype('Int64')"
   ],
   "metadata": {
    "collapsed": false,
    "ExecuteTime": {
     "end_time": "2023-07-12T13:59:39.704194Z",
     "start_time": "2023-07-12T13:59:39.667836Z"
    }
   }
  },
  {
   "cell_type": "code",
   "execution_count": 88,
   "outputs": [],
   "source": [
    "# f__last_digit, modulus of 10 of the response if numeric question, empty if not\n",
    "feat_item['f__last_digit'] = pd.NA\n",
    "feat_item.loc[numeric_question_mask, 'f__last_digit'] = feat_item.loc[numeric_question_mask, 'value'].astype(int) % 10"
   ],
   "metadata": {
    "collapsed": false,
    "ExecuteTime": {
     "end_time": "2023-07-12T13:59:40.712893Z",
     "start_time": "2023-07-12T13:59:40.684623Z"
    }
   }
  },
  {
   "cell_type": "code",
   "execution_count": 89,
   "outputs": [],
   "source": [
    "# f__first_decimal, first decimal digit if numeric question, empty if not\n",
    "feat_item['f__first_decimal'] = pd.NA\n",
    "values = feat_item.loc[decimal_question_mask, 'value'].astype(float)\n",
    "feat_item.loc[decimal_question_mask, 'f__first_decimal'] = np.floor(values * 10) % 10\n",
    "feat_item['f__first_decimal']=feat_item['f__first_decimal'].astype('Int64')"
   ],
   "metadata": {
    "collapsed": false,
    "ExecuteTime": {
     "end_time": "2023-07-12T13:59:41.414097Z",
     "start_time": "2023-07-12T13:59:41.356324Z"
    }
   }
  },
  {
   "cell_type": "code",
   "execution_count": 90,
   "outputs": [],
   "source": [
    "# f__rel_answer_position, relative position of the selected answer\n",
    "feat_item['f__answer_position'] = pd.NA\n",
    "single_question_mask = (feat_item['type']=='SingleQuestion') & (feat_item['n_answers'] > 2 ) # only questions with more than two answers\n",
    "feat_item.loc[single_question_mask, 'f__answer_position'] = feat_item.loc[single_question_mask].apply(lambda row: round(row['answer_sequence'].index(row['value'])/(row['n_answers']-1),3) if (row['value'] in row['answer_sequence']) and pd.notnull(row['value']) else None, axis=1)"
   ],
   "metadata": {
    "collapsed": false,
    "ExecuteTime": {
     "end_time": "2023-07-12T13:59:43.455601Z",
     "start_time": "2023-07-12T13:59:42.589153Z"
    }
   }
  },
  {
   "cell_type": "code",
   "execution_count": 91,
   "outputs": [],
   "source": [
    "import numpy as np\n",
    "# f__answers_selected, number of answers selected in a multi-answer or list question\n",
    "# f__share_selected, share between answers selected, and available answers (only for unlinked questions)\n",
    "\n",
    "def count_elements_or_nan(val): # Function to calculate number of elements in a list or return nan\n",
    "    if isinstance(val, list):\n",
    "        return len(val)\n",
    "    else:\n",
    "        return np.nan\n",
    "\n",
    "multi_list_mask = feat_item['type'].isin(['MultyOptionsQuestion', 'TextListQuestion'])\n",
    "feat_item.loc[multi_list_mask,'f__answers_selected'] = feat_item.loc[multi_list_mask, 'value'].apply(count_elements_or_nan)\n",
    "feat_item['f__share_selected'] = round(feat_item['f__answers_selected'] / feat_item['n_answers'],3)"
   ],
   "metadata": {
    "collapsed": false,
    "ExecuteTime": {
     "end_time": "2023-07-12T13:59:44.578127Z",
     "start_time": "2023-07-12T13:59:44.523705Z"
    }
   }
  },
  {
   "cell_type": "markdown",
   "source": [
    "# Paradata based features"
   ],
   "metadata": {
    "collapsed": false
   }
  },
  {
   "cell_type": "code",
   "execution_count": 83,
   "outputs": [],
   "source": [
    "# keep only last AnswerSet\n",
    "\n",
    "item_level_columns = ['interview__id', 'VariableName', 'roster_level', 'survey_name', 'survey_version']\n",
    "df_time = dfs_paradata[dfs_paradata['event']=='AnswerSet'].groupby(item_level_columns).last().reset_index()\n",
    "\n",
    "# TODO, limit to pre-rejection event, only interviewer questions, no hidden questions"
   ],
   "metadata": {
    "collapsed": false,
    "ExecuteTime": {
     "end_time": "2023-07-12T13:21:35.883830Z",
     "start_time": "2023-07-12T13:21:35.040084Z"
    }
   }
  },
  {
   "cell_type": "code",
   "execution_count": 82,
   "outputs": [],
   "source": [
    "# f__half_hour, half-hour interval of last time answered\n",
    "df_time['f__half_hour'] = df_time['datetime_utc'].dt.hour + df_time['datetime_utc'].dt.round('30min').dt.minute / 60\n",
    "half_hour_counts = df_time['f__half_hour'].value_counts().sort_index()\n",
    "\n",
    "threshold = half_hour_counts.median()*0.33  # approach 1: interval < 1/3 of the median count of answers set\n",
    "working_hours_1 = half_hour_counts[half_hour_counts >= threshold].index.tolist()\n",
    "\n",
    "cumulative_share = (half_hour_counts.sort_values().cumsum()/half_hour_counts.sum()).sort_index()\n",
    "working_hours_2 = half_hour_counts[cumulative_share >= 0.05].index.tolist() # approach 2: the least frequent intervals with total of 5% of answers set\n",
    "\n",
    "df_time['f__in_working_hours'] = df_time['f__half_hour'].isin(working_hours_2)\n",
    "\n",
    "# TODO: add timezone offset, think about if we want to do this by day of the week or by calendar day?\n",
    "\n"
   ],
   "metadata": {
    "collapsed": false,
    "ExecuteTime": {
     "end_time": "2023-07-12T12:52:49.545019Z",
     "start_time": "2023-07-12T12:52:49.166023Z"
    }
   }
  },
  {
   "cell_type": "code",
   "execution_count": 65,
   "outputs": [
    {
     "data": {
      "text/plain": "<Figure size 1000x600 with 1 Axes>",
      "image/png": "[encoded data removed]"
     },
     "metadata": {},
     "output_type": "display_data"
    }
   ],
   "source": [
    "import matplotlib.pyplot as plt\n",
    "\n",
    "# Count the frequency of each quarter-hour\n",
    "half_hour_counts = dfs_paradata['half_hour'].value_counts().sort_index()\n",
    "\n",
    "# Plot the histogram\n",
    "plt.figure(figsize=(10,6))\n",
    "plt.bar(half_hour_counts.index, half_hour_counts.values)\n",
    "plt.xlabel('Quarter Hours')\n",
    "plt.ylabel('Frequency')\n",
    "plt.title('Distribution of Event Times')\n",
    "plt.grid(True)\n",
    "plt.show()\n"
   ],
   "metadata": {
    "collapsed": false,
    "ExecuteTime": {
     "end_time": "2023-07-12T12:21:54.188641Z",
     "start_time": "2023-07-12T12:21:53.974154Z"
    }
   }
  },
  {
   "cell_type": "code",
   "execution_count": null,
   "outputs": [],
   "source": [],
   "metadata": {
    "collapsed": false
   }
  }
 ],
 "metadata": {
  "kernelspec": {
   "display_name": "Python 3",
   "language": "python",
   "name": "python3"
  },
  "language_info": {
   "codemirror_mode": {
    "name": "ipython",
    "version": 2
   },
   "file_extension": ".py",
   "mimetype": "text/x-python",
   "name": "python",
   "nbconvert_exporter": "python",
   "pygments_lexer": "ipython2",
   "version": "2.7.6"
  }
 },
 "nbformat": 4,
 "nbformat_minor": 0
}
