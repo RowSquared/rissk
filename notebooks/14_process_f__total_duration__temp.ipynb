{
 "cells": [
  {
   "cell_type": "code",
   "execution_count": null,
   "metadata": {
    "ExecuteTime": {
     "end_time": "2023-08-30T23:28:17.519667Z",
     "start_time": "2023-08-30T23:28:17.005424Z"
    }
   },
   "outputs": [],
   "source": [
    "\n",
    "from hydra import initialize, initialize_config_module, initialize_config_dir, compose\n",
    "from src.unit_proccessing import  *\n",
    "from src.utils.stats_utils import *\n",
    "\n",
    "import seaborn as sns\n",
    "import pandas as pd\n",
    "import matplotlib.pyplot as plt\n",
    "from pyod.models.ecod import ECOD\n",
    "from pyod.models.thresholds import FILTER"
   ]
  },
  {
   "cell_type": "code",
   "execution_count": null,
   "metadata": {
    "ExecuteTime": {
     "end_time": "2023-08-30T23:28:17.711312Z",
     "start_time": "2023-08-30T23:28:17.520180Z"
    }
   },
   "outputs": [],
   "source": [
    "with initialize(config_path='../configuration', version_base='1.1'):\n",
    "    config = compose(config_name='main.yaml')"
   ]
  },
  {
   "cell_type": "code",
   "execution_count": null,
   "metadata": {
    "ExecuteTime": {
     "end_time": "2023-08-30T23:28:33.449878Z",
     "start_time": "2023-08-30T23:28:17.712163Z"
    }
   },
   "outputs": [],
   "source": [
    "features_class = UnitDataProcessing(config)"
   ]
  },
  {
   "cell_type": "code",
   "execution_count": null,
   "metadata": {
    "ExecuteTime": {
     "end_time": "2023-08-30T23:28:33.570923Z",
     "start_time": "2023-08-30T23:28:33.449062Z"
    }
   },
   "outputs": [],
   "source": [
    "df_unit = features_class.df_unit\n",
    "self = features_class\n",
    "feature_name = 'f__total_duration'\n",
    "df = df_unit[~pd.isnull(df_unit[feature_name])].copy()\n",
    "df[feature_name] = round(df[feature_name]/(3600/6))*10#/df_unit[~pd.isnull(df_unit[feature_name])]['f__number_answered']"
   ]
  },
  {
   "cell_type": "markdown",
   "metadata": {
    "collapsed": false
   },
   "source": [
    "## Plot the distribution of answer time set"
   ]
  },
  {
   "cell_type": "code",
   "execution_count": null,
   "metadata": {
    "ExecuteTime": {
     "end_time": "2023-08-30T23:28:33.706815Z",
     "start_time": "2023-08-30T23:28:33.571780Z"
    }
   },
   "outputs": [],
   "source": [
    "df[feature_name].hist(bins=48)"
   ]
  },
  {
   "cell_type": "markdown",
   "metadata": {
    "collapsed": false
   },
   "source": [
    "## USE ECOD algorithm that makes use of cumulative function and is non-parametric for detecting anomalies in answer time set"
   ]
  },
  {
   "cell_type": "code",
   "execution_count": null,
   "metadata": {
    "ExecuteTime": {
     "end_time": "2023-08-30T23:28:33.999636Z",
     "start_time": "2023-08-30T23:28:33.705195Z"
    }
   },
   "outputs": [],
   "source": [
    "model = ECOD(contamination=0.11)#FILTER(method='medfilt', random_state=42))\n",
    "model.fit(df[[feature_name]])"
   ]
  },
  {
   "cell_type": "code",
   "execution_count": null,
   "metadata": {
    "ExecuteTime": {
     "end_time": "2023-08-30T23:28:34.040337Z",
     "start_time": "2023-08-30T23:28:33.997754Z"
    }
   },
   "outputs": [],
   "source": [
    "from pythresh.thresholds.dsn import DSN\n",
    "from pythresh.thresholds.comb import COMB\n",
    "\n",
    "from pythresh.thresholds.yj import YJ\n",
    "decision_scores = model.decision_scores_  # raw outlier scores on the train data\n",
    "\n",
    "# get outlier labels\n",
    "#thres = HIST()\n",
    "#thres = DSN()\n",
    "thres = FILTER(method='medfilt', random_state=42)\n",
    "labels = thres.eval(decision_scores)\n",
    "thres.thresh_"
   ]
  },
  {
   "cell_type": "code",
   "execution_count": null,
   "metadata": {
    "ExecuteTime": {
     "end_time": "2023-08-30T23:28:34.044068Z",
     "start_time": "2023-08-30T23:28:34.039479Z"
    }
   },
   "outputs": [],
   "source": [
    "df['anomaly'] = model.predict(df[[feature_name]])\n",
    "df['anomaly'].value_counts(), df['anomaly'].value_counts()/df['anomaly'].count()"
   ]
  },
  {
   "cell_type": "code",
   "execution_count": null,
   "metadata": {
    "ExecuteTime": {
     "end_time": "2023-08-30T23:28:34.048663Z",
     "start_time": "2023-08-30T23:28:34.044968Z"
    }
   },
   "outputs": [],
   "source": [
    "df[df['anomaly']==0][feature_name].min(), df[df['anomaly']==0][feature_name].max()"
   ]
  },
  {
   "cell_type": "code",
   "execution_count": null,
   "metadata": {
    "ExecuteTime": {
     "end_time": "2023-08-30T23:28:36.261597Z",
     "start_time": "2023-08-30T23:28:36.157194Z"
    }
   },
   "outputs": [],
   "source": [
    "data_true = df[df['anomaly']==0][feature_name]\n",
    "data_false = df[df['anomaly']==1][feature_name]\n",
    "\n",
    "# Determine the bin edges based on the entire dataset\n",
    "bins = np.histogram_bin_edges(df[feature_name], bins=48)\n",
    "\n",
    "\n",
    "plt.hist(data_true, bins=bins, alpha=0.5, color='blue', label='True')\n",
    "plt.hist(data_false, bins=bins, alpha=0.5, color='red', label='False')\n",
    "plt.show()"
   ]
  },
  {
   "cell_type": "code",
   "execution_count": null,
   "metadata": {
    "ExecuteTime": {
     "end_time": "2023-08-30T23:28:55.583354Z",
     "start_time": "2023-08-30T23:28:55.513847Z"
    }
   },
   "outputs": [],
   "source": [
    "sns.boxplot(df,y=feature_name, x='anomaly')\n",
    "plt.show()"
   ]
  },
  {
   "cell_type": "code",
   "execution_count": null,
   "metadata": {
    "ExecuteTime": {
     "end_time": "2023-08-23T22:27:20.598186Z",
     "start_time": "2023-08-23T22:27:11.449469Z"
    }
   },
   "outputs": [],
   "source": []
  },
  {
   "cell_type": "code",
   "execution_count": null,
   "metadata": {},
   "outputs": [],
   "source": []
  }
 ],
 "metadata": {
  "kernelspec": {
   "display_name": "mlss",
   "language": "python",
   "name": "mlss"
  },
  "language_info": {
   "codemirror_mode": {
    "name": "ipython",
    "version": 2
   },
   "file_extension": ".py",
   "mimetype": "text/x-python",
   "name": "python",
   "nbconvert_exporter": "python",
   "pygments_lexer": "ipython2",
   "version": "2.7.6"
  }
 },
 "nbformat": 4,
 "nbformat_minor": 0
}
