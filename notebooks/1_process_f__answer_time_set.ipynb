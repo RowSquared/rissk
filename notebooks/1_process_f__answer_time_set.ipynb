{
 "cells": [
  {
   "cell_type": "code",
   "execution_count": null,
   "metadata": {
    "ExecuteTime": {
     "end_time": "2023-08-19T00:29:00.478767Z",
     "start_time": "2023-08-19T00:28:59.946909Z"
    }
   },
   "outputs": [],
   "source": [
    "import pandas as pd\n",
    "from utils.import_utils import *\n",
    "from hydra import initialize, initialize_config_module, initialize_config_dir, compose\n",
    "from src.unit_proccessing import  *\n",
    "from src.utils.stats_utils import *\n",
    "import plotly.express as px\n",
    "import seaborn as sns\n",
    "import pandas as pd\n",
    "import matplotlib.pyplot as plt\n",
    "from pyod.models.ecod import ECOD\n",
    "from pythresh.thresholds.hist import HIST\n",
    "from pythresh.thresholds.hist import HIST\n",
    "from pythresh.thresholds.filter import FILTER"
   ]
  },
  {
   "cell_type": "code",
   "execution_count": null,
   "metadata": {
    "ExecuteTime": {
     "end_time": "2023-08-19T00:29:00.712555Z",
     "start_time": "2023-08-19T00:29:00.479273Z"
    }
   },
   "outputs": [],
   "source": [
    "with initialize(config_path='../configuration', version_base='1.1'):\n",
    "    config = compose(config_name='main.yaml')"
   ]
  },
  {
   "cell_type": "code",
   "execution_count": null,
   "metadata": {
    "ExecuteTime": {
     "end_time": "2023-08-19T00:29:19.986604Z",
     "start_time": "2023-08-19T00:29:00.712964Z"
    }
   },
   "outputs": [],
   "source": [
    "features_class = UnitDataProcessing(config)"
   ]
  },
  {
   "cell_type": "code",
   "execution_count": null,
   "metadata": {
    "ExecuteTime": {
     "end_time": "2023-08-19T00:29:23.351069Z",
     "start_time": "2023-08-19T00:29:19.991299Z"
    }
   },
   "outputs": [],
   "source": [
    "df_item = features_class.df_item\n",
    "self = features_class\n",
    "feature_name = 'f__answer_time_set'\n",
    "df = df_item[~pd.isnull(df_item[feature_name])].copy()"
   ]
  },
  {
   "cell_type": "markdown",
   "metadata": {
    "collapsed": false
   },
   "source": [
    "## Plot the distribution of answer time set"
   ]
  },
  {
   "cell_type": "code",
   "execution_count": null,
   "metadata": {
    "ExecuteTime": {
     "end_time": "2023-08-19T00:29:23.480634Z",
     "start_time": "2023-08-19T00:29:23.352723Z"
    }
   },
   "outputs": [],
   "source": [
    "df[feature_name].hist(bins=48)"
   ]
  },
  {
   "cell_type": "markdown",
   "metadata": {
    "collapsed": false
   },
   "source": [
    "## USE ECOD algorithm that makes use of cumulative function and is non-parametric for detecting anomalies in answer time set"
   ]
  },
  {
   "cell_type": "code",
   "execution_count": null,
   "metadata": {
    "ExecuteTime": {
     "end_time": "2023-08-19T00:29:23.718870Z",
     "start_time": "2023-08-19T00:29:23.484335Z"
    }
   },
   "outputs": [],
   "source": [
    "model = ECOD(contamination=0.11)\n",
    "model.fit(df[[feature_name]])"
   ]
  },
  {
   "cell_type": "code",
   "execution_count": null,
   "metadata": {
    "ExecuteTime": {
     "end_time": "2023-08-19T00:29:23.784067Z",
     "start_time": "2023-08-19T00:29:23.713659Z"
    }
   },
   "outputs": [],
   "source": [
    "df['anomaly'] = model.predict(df[[feature_name]])\n",
    "df['anomaly'].value_counts(), df['anomaly'].value_counts()/df['anomaly'].count()"
   ]
  },
  {
   "cell_type": "code",
   "execution_count": null,
   "metadata": {
    "ExecuteTime": {
     "end_time": "2023-08-19T00:29:23.867927Z",
     "start_time": "2023-08-19T00:29:23.780080Z"
    }
   },
   "outputs": [],
   "source": [
    "df[df['anomaly']==0][feature_name].min(), df[df['anomaly']==0][feature_name].max()"
   ]
  },
  {
   "cell_type": "code",
   "execution_count": null,
   "metadata": {
    "ExecuteTime": {
     "start_time": "2023-08-19T00:28:21.448598Z"
    },
    "is_executing": true
   },
   "outputs": [],
   "source": [
    "# fig = px.box(df, y=feature_name, color='anomaly', points='all')\n",
    "# fig.show()"
   ]
  },
  {
   "cell_type": "code",
   "execution_count": null,
   "metadata": {
    "ExecuteTime": {
     "end_time": "2023-08-19T00:29:35.842628Z",
     "start_time": "2023-08-19T00:29:35.815085Z"
    }
   },
   "outputs": [],
   "source": [
    "df['total'] =1\n",
    "df_count = df.groupby(feature_name).agg({'total':'count', 'anomaly':'max'})\n",
    "df_count = df_count.reset_index()\n",
    "fig = px.bar(df_count, x=feature_name, y = 'total', color='anomaly')\n",
    "fig.show()"
   ]
  },
  {
   "cell_type": "code",
   "execution_count": null,
   "metadata": {
    "ExecuteTime": {
     "end_time": "2023-08-19T00:29:39.029421Z",
     "start_time": "2023-08-19T00:29:38.831359Z"
    }
   },
   "outputs": [],
   "source": [
    "df_unit = features_class.df_unit"
   ]
  },
  {
   "cell_type": "code",
   "execution_count": null,
   "metadata": {
    "ExecuteTime": {
     "end_time": "2023-08-19T00:35:25.003699Z",
     "start_time": "2023-08-19T00:35:24.907965Z"
    }
   },
   "outputs": [],
   "source": [
    "df['roster_variable'] = df['roster_level'].astype(str) +df['variable_name'].astype(str) \n",
    "data = df.groupby(['interview__id','roster_variable'])['anomaly'].max()\n",
    "data = data.reset_index()\n",
    "data = data.groupby('interview__id')['anomaly'].sum()"
   ]
  },
  {
   "cell_type": "code",
   "execution_count": null,
   "metadata": {
    "ExecuteTime": {
     "end_time": "2023-08-19T00:35:28.232357Z",
     "start_time": "2023-08-19T00:35:28.220747Z"
    }
   },
   "outputs": [],
   "source": [
    "df_unit[feature_name.replace('f__','s__')] = df_unit['interview__id'].map(data)\n",
    "df_unit[feature_name.replace('f__','s__')] = df_unit[feature_name.replace('f__','s__')]/ df_unit['f__number_answered']"
   ]
  },
  {
   "cell_type": "code",
   "execution_count": null,
   "metadata": {
    "ExecuteTime": {
     "end_time": "2023-08-19T00:46:44.610727Z",
     "start_time": "2023-08-19T00:46:44.522845Z"
    }
   },
   "outputs": [],
   "source": [
    "df_unit[feature_name.replace('f__','s__')].hist()"
   ]
  },
  {
   "cell_type": "code",
   "execution_count": null,
   "metadata": {
    "ExecuteTime": {
     "end_time": "2023-08-19T00:35:29.179899Z",
     "start_time": "2023-08-19T00:35:29.173099Z"
    }
   },
   "outputs": [],
   "source": [
    "fig = px.box(df_unit, y=feature_name.replace('f__','s__'))\n",
    "fig.show()"
   ]
  },
  {
   "cell_type": "code",
   "execution_count": null,
   "metadata": {
    "ExecuteTime": {
     "end_time": "2023-08-19T00:36:34.532488Z",
     "start_time": "2023-08-19T00:36:34.501556Z"
    }
   },
   "outputs": [],
   "source": [
    "df_unit[df_unit[feature_name.replace('f__','s__')]>1]"
   ]
  },
  {
   "cell_type": "code",
   "execution_count": null,
   "metadata": {
    "ExecuteTime": {
     "end_time": "2023-08-19T00:37:42.119743Z",
     "start_time": "2023-08-19T00:37:42.072253Z"
    }
   },
   "outputs": [],
   "source": [
    "df[df['interview__id']=='023ededbb82c4a95bac03dbc18369af1']['anomaly'].sum()"
   ]
  },
  {
   "cell_type": "code",
   "execution_count": null,
   "metadata": {},
   "outputs": [],
   "source": [
    "##########################################################################################################################################################"
   ]
  },
  {
   "cell_type": "code",
   "execution_count": null,
   "metadata": {
    "ExecuteTime": {
     "end_time": "2023-08-19T00:19:02.037202Z",
     "start_time": "2023-08-19T00:19:01.942130Z"
    }
   },
   "outputs": [],
   "source": [
    "df_item['v_r'] = df_item['roster_level'].astype(str) +df_item['variable_name'].astype(str) \n",
    "df['v_r'] = df['roster_level'].astype(str) +df['variable_name'].astype(str) "
   ]
  },
  {
   "cell_type": "code",
   "execution_count": null,
   "metadata": {
    "ExecuteTime": {
     "end_time": "2023-08-19T00:20:28.703145Z",
     "start_time": "2023-08-19T00:20:28.228883Z"
    }
   },
   "outputs": [],
   "source": [
    "df.shape"
   ]
  },
  {
   "cell_type": "code",
   "execution_count": null,
   "metadata": {
    "ExecuteTime": {
     "end_time": "2023-08-19T00:20:42.195305Z",
     "start_time": "2023-08-19T00:20:41.726808Z"
    }
   },
   "outputs": [],
   "source": [
    "x =df.groupby('interview__id').agg({'v_r':'nunique','f__number_answered': 'max','f__number_unanswered': 'max'})\n",
    "\n",
    "x[x['v_r']==x['f__number_answered']+x['f__number_unanswered']]"
   ]
  },
  {
   "cell_type": "code",
   "execution_count": null,
   "metadata": {},
   "outputs": [],
   "source": [
    "df['006c75cd761b4adf9286e63d9779e679']"
   ]
  },
  {
   "cell_type": "code",
   "execution_count": null,
   "metadata": {
    "ExecuteTime": {
     "end_time": "2023-08-18T21:53:05.449643Z",
     "start_time": "2023-08-18T21:53:05.372252Z"
    }
   },
   "outputs": [],
   "source": [
    "x =df_item.groupby('interview__id').agg({'v_r':'nunique','f__number_answered': 'max','f__number_unanswered': 'max'})\n",
    "x = x.reset_index()\n",
    "x[x['v_r']!=x['f__number_answered']+x['f__number_unanswered']]['interview__id'].nunique()"
   ]
  },
  {
   "cell_type": "code",
   "execution_count": null,
   "metadata": {
    "ExecuteTime": {
     "end_time": "2023-08-18T21:38:27.933789Z",
     "start_time": "2023-08-18T21:38:27.854274Z"
    }
   },
   "outputs": [],
   "source": [
    "df[df['f__time_changed']<0]['interview__id'].nunique()"
   ]
  },
  {
   "cell_type": "code",
   "execution_count": null,
   "metadata": {
    "ExecuteTime": {
     "end_time": "2023-08-18T22:23:10.626626Z",
     "start_time": "2023-08-18T22:23:09.162789Z"
    }
   },
   "outputs": [],
   "source": [
    "a = list(df_item[(df_item['type']!='Variable')&(df_item['interview__id']=='14aa0ec823204d258b6fb04162f4fd1a')]['index_col'].unique())\n",
    "b = list(self.df_active_paradata[(self.df_active_paradata['type']!='Variable')&(self.df_active_paradata['interview__id']=='14aa0ec823204d258b6fb04162f4fd1a')]['index_col'].unique())\n"
   ]
  },
  {
   "cell_type": "code",
   "execution_count": null,
   "metadata": {
    "ExecuteTime": {
     "end_time": "2023-08-18T22:23:11.564046Z",
     "start_time": "2023-08-18T22:23:11.542189Z"
    }
   },
   "outputs": [],
   "source": [
    "diff = set(a) - set(b)\n",
    "diff"
   ]
  },
  {
   "cell_type": "code",
   "execution_count": null,
   "metadata": {
    "ExecuteTime": {
     "end_time": "2023-08-18T22:23:26.816126Z",
     "start_time": "2023-08-18T22:23:26.662452Z"
    }
   },
   "outputs": [],
   "source": [
    "df1 = df_item[pd.isnull(df_item['f__answer_time_set'])].copy()\n",
    "mask = (df1['interview__id']=='14aa0ec823204d258b6fb04162f4fd1a') & (df1['variable_name'] =='toilet')\n",
    "df1[mask]"
   ]
  },
  {
   "cell_type": "code",
   "execution_count": null,
   "metadata": {
    "ExecuteTime": {
     "end_time": "2023-08-18T22:23:41.958774Z",
     "start_time": "2023-08-18T22:23:41.726684Z"
    }
   },
   "outputs": [],
   "source": [
    "df1 = self.df_paradata.copy()\n",
    "mask = (df1['interview__id']=='14aa0ec823204d258b6fb04162f4fd1a') #& (df1['variable_name'] =='toilet')\n",
    "df1[mask]"
   ]
  },
  {
   "cell_type": "code",
   "execution_count": null,
   "metadata": {
    "ExecuteTime": {
     "end_time": "2023-08-18T22:24:09.331951Z",
     "start_time": "2023-08-18T22:24:08.816073Z"
    }
   },
   "outputs": [],
   "source": [
    "df1 = self.df_active_paradata.copy()\n",
    "mask = (df1['interview__id']=='14aa0ec823204d258b6fb04162f4fd1a') #& (df1['variable_name'] =='toilet')\n",
    "df1[mask]"
   ]
  },
  {
   "cell_type": "code",
   "execution_count": null,
   "metadata": {
    "ExecuteTime": {
     "end_time": "2023-08-18T22:38:35.972942Z",
     "start_time": "2023-08-18T22:38:35.963944Z"
    }
   },
   "outputs": [],
   "source": [
    "self.df_paradata[self.df_paradata['variable_name']=='GPS']['answers'].astype(str).unique()"
   ]
  },
  {
   "cell_type": "code",
   "execution_count": null,
   "metadata": {
    "ExecuteTime": {
     "end_time": "2023-08-18T22:37:58.119124Z",
     "start_time": "2023-08-18T22:37:58.072469Z"
    }
   },
   "outputs": [],
   "source": [
    "self.df_microdata['value1'] = self.df_microdata['value'].astype(str)\n",
    "self.df_microdata.groupby('variable_name')['value1'].unique()"
   ]
  },
  {
   "cell_type": "code",
   "execution_count": null,
   "metadata": {},
   "outputs": [],
   "source": [
    "df_item = self._df_microdata[['value', 'type', 'is_integer', 'qnr_seq',\n",
    "                              'n_answers', 'answer_sequence',\n",
    "                              'cascade_from_question_id', 'is_filtered_combobox',\n",
    "                              'index_col'] + self.item_level_columns].copy()\n",
    "\n",
    "paradata_columns = ['responsible', 'f__answer_year_set', 'f__answer_month_set',\n",
    "                    'f__answer_day_set', 'f__half_hour', 'f__answer_time_set']\n",
    "df_item = df_item.merge(self.df_paradata[paradata_columns + ['index_col']], how='left',\n",
    "                        on='index_col')"
   ]
  }
 ],
 "metadata": {
  "kernelspec": {
   "display_name": "mlss",
   "language": "python",
   "name": "mlss"
  },
  "language_info": {
   "codemirror_mode": {
    "name": "ipython",
    "version": 2
   },
   "file_extension": ".py",
   "mimetype": "text/x-python",
   "name": "python",
   "nbconvert_exporter": "python",
   "pygments_lexer": "ipython2",
   "version": "2.7.6"
  }
 },
 "nbformat": 4,
 "nbformat_minor": 0
}
