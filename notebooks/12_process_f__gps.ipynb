{
 "cells": [
  {
   "cell_type": "code",
   "execution_count": null,
   "metadata": {
    "ExecuteTime": {
     "end_time": "2023-08-30T22:58:48.226839Z",
     "start_time": "2023-08-30T22:58:44.077028Z"
    }
   },
   "outputs": [],
   "source": [
    "import numpy as np\n",
    "%load_ext autoreload\n",
    "%autoreload 2"
   ]
  },
  {
   "cell_type": "code",
   "execution_count": null,
   "metadata": {
    "ExecuteTime": {
     "end_time": "2023-08-30T22:58:48.330291Z",
     "start_time": "2023-08-30T22:58:48.293247Z"
    }
   },
   "outputs": [],
   "source": [
    "from hydra import initialize, initialize_config_module, initialize_config_dir, compose\n",
    "from src.unit_proccessing import  *\n",
    "from src.utils.stats_utils import *\n"
   ]
  },
  {
   "cell_type": "code",
   "execution_count": null,
   "metadata": {
    "ExecuteTime": {
     "end_time": "2023-08-30T22:58:48.451742Z",
     "start_time": "2023-08-30T22:58:48.331419Z"
    }
   },
   "outputs": [],
   "source": [
    "with initialize(config_path='../configuration', version_base='1.1'):\n",
    "    config = compose(config_name='main.yaml')"
   ]
  },
  {
   "cell_type": "code",
   "execution_count": null,
   "metadata": {
    "ExecuteTime": {
     "end_time": "2023-08-30T22:59:08.040859Z",
     "start_time": "2023-08-30T22:58:48.451244Z"
    }
   },
   "outputs": [],
   "source": [
    "features_class = UnitDataProcessing(config)"
   ]
  },
  {
   "cell_type": "code",
   "execution_count": null,
   "metadata": {
    "ExecuteTime": {
     "end_time": "2023-08-30T22:59:10.747692Z",
     "start_time": "2023-08-30T22:59:08.041757Z"
    }
   },
   "outputs": [],
   "source": [
    "self = features_class"
   ]
  },
  {
   "cell_type": "code",
   "execution_count": null,
   "metadata": {
    "ExecuteTime": {
     "end_time": "2023-08-30T22:59:14.172210Z",
     "start_time": "2023-08-30T22:59:10.747063Z"
    }
   },
   "outputs": [],
   "source": [
    "df_item = features_class.df_item"
   ]
  },
  {
   "cell_type": "code",
   "execution_count": null,
   "metadata": {
    "ExecuteTime": {
     "end_time": "2023-08-30T22:59:14.336651Z",
     "start_time": "2023-08-30T22:59:14.172456Z"
    }
   },
   "outputs": [],
   "source": [
    "# PROCES DATA IN A PIVOT TABLE\n",
    "feature_name = ['f__gps_latitude', 'f__gps_longitude', 'f__gps_accuracy']\n",
    "data, index_col = self.get_clean_pivot_table(feature_name, remove_low_freq_col=False)\n",
    "\n",
    "def replace_with_feature_name(columns, feature_names):\n",
    "    for i, s in enumerate(columns):\n",
    "        for sub in feature_names:\n",
    "            if sub in s:\n",
    "                columns[i] = sub\n",
    "                break\n",
    "    return columns\n",
    "\n",
    "data.columns = replace_with_feature_name(list(data.columns), feature_name)\n",
    "data = data.reset_index()"
   ]
  },
  {
   "cell_type": "code",
   "execution_count": null,
   "metadata": {
    "ExecuteTime": {
     "end_time": "2023-08-30T22:59:14.386569Z",
     "start_time": "2023-08-30T22:59:14.340975Z"
    }
   },
   "outputs": [],
   "source": [
    "\n",
    "# Everything that has 0,0 as coordinates is an outlier\n",
    "data['s__gps_spatial__extreme_outlier'] = data['f__gps_latitude'].apply(lambda x: 1 if x == 0.000000 else 0)\n",
    "data['s__gps_spatial__extreme_outlier'] = data['f__gps_longitude'].apply(lambda x: 1 if x == 0.000000 else 0)\n",
    "\n",
    "\n",
    "mask = (data['s__gps_spatial__extreme_outlier'] < 1)\n",
    "# Convert to cartesian for faster computation\n",
    "data.loc[mask,'x'], data.loc[mask,'y'], data.loc[mask,'z'] = lat_lon_to_cartesian(data[mask]['f__gps_latitude'],\n",
    "                                                       data[mask]['f__gps_longitude'])\n",
    "median_x = data[mask].drop_duplicates(subset='x')['x'].median()\n",
    "median_y = data[mask].drop_duplicates(subset='y')['y'].median()\n",
    "median_z = data[mask].drop_duplicates(subset='z')['z'].median()\n",
    "\n",
    "# Calculate distances from the median point\n",
    "data['distance_to_median'] = np.sqrt((data[mask]['x'] - median_x)**2 + \n",
    "                                   (data[mask]['y'] - median_y)**2 +\n",
    "                                   (data[mask]['z'] - median_z)**2 \n",
    "                                     )\n",
    "\n",
    "# Set a threshold (e.g., 95th percentile of distances)\n",
    "threshold = data[mask]['distance_to_median'].quantile(0.95) + 50\n",
    "\n",
    "# Everything that is above 50 + the median distance is an outlier\n",
    "data.loc[mask, 's__gps_spatial__extreme_outlier'] = data[mask]['distance_to_median'] > threshold\n",
    "\n",
    "\n"
   ]
  },
  {
   "cell_type": "code",
   "execution_count": null,
   "metadata": {
    "ExecuteTime": {
     "end_time": "2023-08-30T22:59:14.440942Z",
     "start_time": "2023-08-30T22:59:14.387960Z"
    }
   },
   "outputs": [],
   "source": [
    "# DO A Further cleaning of extreme outliers by DBSCAN\n",
    "coords_columns = ['x', 'y']\n",
    "model = DBSCAN(eps=0.3, min_samples=5)  # tune these parameters for your data\n",
    "model.fit(data[mask][coords_columns])\n",
    "data.loc[mask, 'outlier'] = model.fit_predict(data[mask][coords_columns])\n",
    "data['outlier'] = data.apply(lambda row: 1 if row['outlier']==-1 or row['s__gps_spatial__extreme_outlier']==1 else 0, 1)\n"
   ]
  },
  {
   "cell_type": "code",
   "execution_count": null,
   "metadata": {
    "ExecuteTime": {
     "end_time": "2023-08-30T22:59:14.490357Z",
     "start_time": "2023-08-30T22:59:14.441599Z"
    }
   },
   "outputs": [],
   "source": [
    "data['s__gps_spatial__extreme_outlier'].value_counts()"
   ]
  },
  {
   "cell_type": "code",
   "execution_count": null,
   "metadata": {
    "ExecuteTime": {
     "end_time": "2023-08-30T22:59:14.537533Z",
     "start_time": "2023-08-30T22:59:14.481631Z"
    }
   },
   "outputs": [],
   "source": [
    "from pyod.models.cof import COF\n",
    "from pyod.models.lof import LOF\n",
    "\n",
    "# FIND OUTLIERS WHICH ARE NOT EXTREMES\n",
    "\n",
    "model = LOF(n_neighbors=20)\n",
    "columns =  ['x', 'y'] #['f__gps_latitude', 'f__gps_longitude', 'f__gps_accuracy']#['f__gps_latitude', 'f__gps_longitude'] #\n",
    "#data = data[mask][columns].drop_duplicates()\n",
    "model.fit(data[mask][columns])"
   ]
  },
  {
   "cell_type": "code",
   "execution_count": null,
   "metadata": {
    "ExecuteTime": {
     "end_time": "2023-08-30T22:59:14.588283Z",
     "start_time": "2023-08-30T22:59:14.525765Z"
    }
   },
   "outputs": [],
   "source": [
    "data.loc[mask,'s__gps_spatial_outlier'] = model.predict(data[mask][columns])\n",
    "#data['anomaly'] = model.labels_\n",
    "#data['anomaly'] = data['anomaly'].apply(lambda x: 1 if x==-1 else 0)\n",
    "data['s__gps_spatial_outlier'].value_counts()#, data['anomaly'].value_counts()/data['anomaly'].count()"
   ]
  },
  {
   "cell_type": "code",
   "execution_count": null,
   "metadata": {
    "ExecuteTime": {
     "end_time": "2023-08-30T22:59:15.170013Z",
     "start_time": "2023-08-30T22:59:14.580716Z"
    }
   },
   "outputs": [],
   "source": [
    "import folium\n",
    "import matplotlib.colors\n",
    "\n",
    "def get_color(row):\n",
    "    if row['s__gps_spatial_extreme_outlier'] ==1:\n",
    "        return 'red'\n",
    "    elif row['s__gps_spatial_outlier'] ==1:\n",
    "        return 'orange'\n",
    "    else:\n",
    "        return 'blue'\n",
    "\n",
    "df = data\n",
    "m = folium.Map(location=[df['f__gps_latitude'].mean(), df['f__gps_longitude'].mean()], zoom_start=10)\n",
    "\n",
    "vmin = df['s__gps_spatial_extreme_outlier'].min()\n",
    "vmax = df['s__gps_spatial_extreme_outlier'].max()\n",
    "#df['color'] = df['s__proximity_counts'].apply(lambda x: 'green' if x>0 else 'blue')\n",
    "df['color'] = df.apply(lambda row: get_color(row), 1)\n",
    "\n",
    "for idx, row in df.iterrows():\n",
    "\n",
    "\n",
    "    marker = folium.CircleMarker(\n",
    "        location=(row['f__gps_latitude'], row['f__gps_longitude']),\n",
    "        radius=5,#+row['s__proximity_counts'],\n",
    "        color=row['color'],\n",
    "        fill=True,\n",
    "        tooltip = (row['f__gps_latitude'], row['f__gps_longitude'], row['distance_to_median']),\n",
    "        fill_color=row['color']\n",
    "    )\n",
    "\n",
    "    # Add a popup label to display the value of s__spacial_outlier\n",
    "    folium.Popup(f\"Value: \").add_to(marker)\n",
    "\n",
    "    marker.add_to(m)\n",
    "    \n",
    "m.save('map_outliers.html')"
   ]
  },
  {
   "cell_type": "code",
   "execution_count": null,
   "metadata": {
    "ExecuteTime": {
     "end_time": "2023-08-30T22:40:07.993064Z",
     "start_time": "2023-08-30T22:39:31.255668Z"
    }
   },
   "outputs": [],
   "source": [
    "m.save('map_with_labels99.html')"
   ]
  }
 ],
 "metadata": {
  "kernelspec": {
   "display_name": "mlss",
   "language": "python",
   "name": "mlss"
  },
  "language_info": {
   "codemirror_mode": {
    "name": "ipython",
    "version": 2
   },
   "file_extension": ".py",
   "mimetype": "text/x-python",
   "name": "python",
   "nbconvert_exporter": "python",
   "pygments_lexer": "ipython2",
   "version": "2.7.6"
  }
 },
 "nbformat": 4,
 "nbformat_minor": 0
}
