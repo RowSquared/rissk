{
 "cells": [
  {
   "cell_type": "markdown",
   "metadata": {
    "collapsed": false
   },
   "source": [
    "# read create qnr df from json"
   ]
  },
  {
   "cell_type": "code",
   "execution_count": null,
   "metadata": {},
   "outputs": [],
   "source": [
    "import pandas as pd\n",
    "import json\n",
    "\n",
    "def get_gnr(qnr_path):\n",
    "    with open(os.path.join(qnr_path, 'Questionnaire/content/document.json')) as file:\n",
    "        json_data = json.load(file)\n",
    "\n",
    "    question_data = []\n",
    "    question_counter = 1\n",
    "\n",
    "    def process_json_structure(children, parent_group_title):\n",
    "        global question_counter\n",
    "        for child in children:\n",
    "            if \"$type\" in child:\n",
    "                question_data.append({\n",
    "                    \"question_seq\": question_counter,\n",
    "                    \"VariableName\": child.get(\"VariableName\"),\n",
    "                    \"type\": child[\"$type\"],\n",
    "                    \"QuestionType\": child.get(\"QuestionType\"),\n",
    "                    \"Answers\": child.get(\"Answers\"),\n",
    "                    \"Children\": child.get(\"Children\"),\n",
    "                    \"ConditionExpression\": child.get(\"ConditionExpression\"),\n",
    "                    \"HideIfDisabled\": child.get(\"HideIfDisabled\"),\n",
    "                    \"Featured\": child.get(\"Featured\"),\n",
    "                    \"Instructions\": child.get(\"Instructions\"),\n",
    "                    \"Properties\": child.get(\"Properties\"),\n",
    "                    \"PublicKey\": child.get(\"PublicKey\"),\n",
    "                    \"QuestionScope\": child.get(\"QuestionScope\"),\n",
    "                    \"QuestionText\": child.get(\"QuestionText\"),\n",
    "                    \"StataExportCaption\": child.get(\"StataExportCaption\"),\n",
    "                    \"VariableLabel\": child.get(\"VariableLabel\"),\n",
    "                    \"IsTimestamp\": child.get(\"IsTimestamp\"),\n",
    "                    \"ValidationConditions\": child.get(\"ValidationConditions\"),\n",
    "                    \"YesNoView\": child.get(\"YesNoView\"),\n",
    "                    \"Title\": child.get(\"Title\"),\n",
    "                    \"IsRoster\": child.get(\"IsRoster\"),\n",
    "                    \"parents\": parent_group_title\n",
    "                })\n",
    "                question_counter += 1\n",
    "\n",
    "            if \"Children\" in child:\n",
    "                child_group_title = child.get(\"Title\", \"\")\n",
    "                process_json_structure(child[\"Children\"], parent_group_title + \" > \" + child_group_title)\n",
    "\n",
    "    process_json_structure(json_data[\"Children\"], \"\")\n",
    "\n",
    "    qnr_df = pd.DataFrame(question_data)\n",
    "    qnr_df.loc[qnr_df['YesNoView']==True, 'type'] = 'YesNoQuestion' # create type for YesNoQuestions\n",
    "    qnr_df['parents'] = qnr_df['parents'].str.lstrip(' > ')\n",
    "    split_columns = qnr_df['parents'].str.split(' > ', expand=True)\n",
    "    split_columns.columns = [f\"parent_{i+1}\" for i in range(split_columns.shape[1])]\n",
    "    qnr_df = pd.concat([qnr_df, split_columns], axis=1)\n",
    "\n",
    "    return qnr_df"
   ]
  }
 ],
 "metadata": {
  "kernelspec": {
   "display_name": "Python 3",
   "language": "python",
   "name": "python3"
  },
  "language_info": {
   "codemirror_mode": {
    "name": "ipython",
    "version": 2
   },
   "file_extension": ".py",
   "mimetype": "text/x-python",
   "name": "python",
   "nbconvert_exporter": "python",
   "pygments_lexer": "ipython2",
   "version": "2.7.6"
  }
 },
 "nbformat": 4,
 "nbformat_minor": 0
}
