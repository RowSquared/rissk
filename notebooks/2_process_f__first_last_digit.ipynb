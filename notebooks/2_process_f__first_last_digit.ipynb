{
 "cells": [
  {
   "cell_type": "code",
   "execution_count": null,
   "metadata": {
    "ExecuteTime": {
     "end_time": "2023-08-17T09:51:47.570070Z",
     "start_time": "2023-08-17T09:51:47.542121Z"
    }
   },
   "outputs": [],
   "source": [
    "%load_ext autoreload\n",
    "%autoreload 2"
   ]
  },
  {
   "cell_type": "code",
   "execution_count": null,
   "metadata": {
    "ExecuteTime": {
     "end_time": "2023-08-17T09:51:47.600450Z",
     "start_time": "2023-08-17T09:51:47.570313Z"
    }
   },
   "outputs": [],
   "source": [
    "%load_ext memory_profiler"
   ]
  },
  {
   "cell_type": "code",
   "execution_count": null,
   "metadata": {
    "ExecuteTime": {
     "end_time": "2023-08-17T09:56:15.433025Z",
     "start_time": "2023-08-17T09:56:15.360510Z"
    }
   },
   "outputs": [],
   "source": [
    "import pandas as pd\n",
    "from utils.import_utils import *\n",
    "from hydra import initialize, initialize_config_module, initialize_config_dir, compose\n",
    "from src.feature_processing import *\n",
    "from src.item_processing import  *\n",
    "from src.utils.general_utils import *\n",
    "from src.utils.stats_utils import *\n",
    "import plotly.express as px\n",
    "import seaborn as sns\n",
    "import pandas as pd\n",
    "import matplotlib.pyplot as plt"
   ]
  },
  {
   "cell_type": "code",
   "execution_count": null,
   "metadata": {
    "ExecuteTime": {
     "end_time": "2023-08-17T09:52:03.465677Z",
     "start_time": "2023-08-17T09:52:03.365966Z"
    }
   },
   "outputs": [],
   "source": [
    "with initialize(config_path='../configuration', version_base='1.1'):\n",
    "    config = compose(config_name='main.yaml')"
   ]
  },
  {
   "cell_type": "code",
   "execution_count": null,
   "metadata": {
    "ExecuteTime": {
     "end_time": "2023-08-17T09:52:22.508796Z",
     "start_time": "2023-08-17T09:52:03.647579Z"
    }
   },
   "outputs": [],
   "source": [
    "\n",
    "features_class = ItemFeatureProcessing(config)"
   ]
  },
  {
   "cell_type": "code",
   "execution_count": null,
   "metadata": {
    "ExecuteTime": {
     "end_time": "2023-08-17T09:52:26.017825Z",
     "start_time": "2023-08-17T09:52:22.509043Z"
    }
   },
   "outputs": [],
   "source": [
    "df_item = features_class.df_item\n",
    "self = features_class"
   ]
  },
  {
   "cell_type": "code",
   "execution_count": null,
   "metadata": {
    "ExecuteTime": {
     "end_time": "2023-08-17T09:55:10.778266Z",
     "start_time": "2023-08-17T09:55:10.565745Z"
    }
   },
   "outputs": [],
   "source": [
    "pivot_table, index_col = self.get_clean_pivot_table('f__numeric_response',remove_low_freq_col=True)"
   ]
  },
  {
   "cell_type": "code",
   "execution_count": null,
   "metadata": {
    "ExecuteTime": {
     "end_time": "2023-08-17T09:55:12.698474Z",
     "start_time": "2023-08-17T09:55:12.608312Z"
    }
   },
   "outputs": [],
   "source": [
    "columns = []\n",
    "for col in pivot_table.drop(columns = ['interview__id', 'roster_level', 'responsible']).columns:\n",
    "    data = pivot_table[~pd.isnull(pivot_table[col])].copy()\n",
    "    #anomalies = get_outlier_by_magnitude(data[col])\n",
    "    #data = data[~anomalies]\n",
    "    new_col = filter_columns_by_magnitude(data.drop(columns = ['interview__id', 'roster_level', 'responsible']),3).columns\n",
    "    columns += list(new_col)\n",
    "columns = list(set(columns))\n",
    "columns"
   ]
  },
  {
   "cell_type": "code",
   "execution_count": null,
   "metadata": {},
   "outputs": [],
   "source": [
    "# Extract the first digit from each number\n",
    "for col in columns:\n",
    "    df = pivot_table[(~pd.isnull(pivot_table[col]))&(pivot_table[col]>=1)].copy()\n",
    "    df['first_digit'] = df[col].apply(lambda x: int(str(abs(x))[0]))\n",
    "    # Calculate the distribution of first digits in the dataset\n",
    "    actual_dist = df['first_digit'].value_counts(normalize=True).sort_index()\n",
    "    \n",
    "    # Calculate the expected distribution according to Benford's Law\n",
    "    digits = range(1, 10)\n",
    "    expected_dist = [np.log10(1 + 1/d) for d in digits]\n",
    "    expected_series = pd.Series(expected_dist, index=digits)\n",
    "    \n",
    "    # Plot the actual vs expected distributions\n",
    "    plt.bar(actual_dist.index, actual_dist.values, alpha=0.7, label='Actual')\n",
    "    plt.bar(expected_series.index, expected_series.values, alpha=0.4, label='Expected (Benford)')\n",
    "    plt.xlabel('Leading Digit')\n",
    "    plt.ylabel('Proportion')\n",
    "    plt.title(col)\n",
    "    plt.legend()\n",
    "    plt.show()"
   ]
  },
  {
   "cell_type": "code",
   "execution_count": null,
   "metadata": {
    "ExecuteTime": {
     "end_time": "2023-08-17T09:54:52.790726Z",
     "start_time": "2023-08-17T09:54:52.752192Z"
    }
   },
   "outputs": [],
   "source": [
    "pivot_table[['responsible']+columns]"
   ]
  },
  {
   "cell_type": "code",
   "execution_count": null,
   "metadata": {
    "ExecuteTime": {
     "end_time": "2023-08-17T10:02:08.121057Z",
     "start_time": "2023-08-17T10:02:07.562097Z"
    }
   },
   "outputs": [],
   "source": [
    "col = 'plot_area'\n",
    "results_df = apply_benford_tests(pivot_table[['responsible']+columns], 'responsible', col, apply_first_digit=False)\n",
    "results_df[col+'anomaly'] = results_df['p-value'].apply(lambda x: x<=0.05)\n",
    "results_df#[col+'anomaly']"
   ]
  },
  {
   "cell_type": "code",
   "execution_count": null,
   "metadata": {
    "ExecuteTime": {
     "end_time": "2023-08-16T16:50:44.262676Z",
     "start_time": "2023-08-16T16:50:44.142451Z"
    }
   },
   "outputs": [],
   "source": [
    "import pandas as pd\n",
    "import numpy as np\n",
    "\n",
    "\n",
    "\n",
    "\n",
    "# Apply on our dataframe\n",
    "col = columns[0]\n",
    "data = pivot_table[~pd.isnull(pivot_table[col])&(pivot_table[col]>=1)].copy()\n",
    "# Remove extreme outliers by order of magnitude\n",
    "extreme_outliers = get_outlier_by_magnitude(data[col], mode_deviation=3)\n",
    "data = data[~extreme_outliers].copy()\n",
    "data['box_cox'] = get_box_cox_rescaled(data[col])\n",
    "# remove oyutliers by zeta score on normalized data\n",
    "lower_limit, upper_limit = get_outlier_z_score(data, 'box_cox', 2.5)\n",
    "data = data[(~lower_limit)&(~upper_limit)].copy()  \n",
    "\n",
    "results_df = apply_benford_tests(data[['responsible']+columns], 'responsible', col)\n",
    "results_df['p-value'] = results_df['p-value'].apply(lambda x: x<=0.05)\n",
    "\n",
    "results_df\n",
    "#results_df['Chi2_p'].value_counts(), results_df['Fisher_p'].value_counts()\n",
    "\n"
   ]
  },
  {
   "cell_type": "code",
   "execution_count": null,
   "metadata": {
    "ExecuteTime": {
     "end_time": "2023-08-16T16:44:35.339975Z",
     "start_time": "2023-08-16T16:44:35.251011Z"
    }
   },
   "outputs": [],
   "source": [
    "col"
   ]
  },
  {
   "cell_type": "code",
   "execution_count": null,
   "metadata": {},
   "outputs": [],
   "source": [
    "pivot_table['anomaly_count'].value_counts()"
   ]
  },
  {
   "cell_type": "code",
   "execution_count": null,
   "metadata": {},
   "outputs": [],
   "source": [
    "import pandas as pd\n",
    "import numpy as np\n",
    "from scipy.stats import chisquare\n",
    "\n",
    "def benfords_law_for_value(value):\n",
    "    # Calculate expected counts for each leading digit according to Benford's Law\n",
    "    expected_counts = [np.log10(1 + 1/d) for d in range(1, 10)]\n",
    "\n",
    "    # Extract leading digit and calculate its observed frequency\n",
    "    leading_digit = int(str(value)[0])\n",
    "    if 1 <= leading_digit <= 9:\n",
    "        observed_freq = [1 if d == leading_digit else 0 for d in range(1, 10)]\n",
    "    else:\n",
    "        return 0  # Not a valid leading digit\n",
    "\n",
    "    # Chi-squared test\n",
    "    chi2_stat, p_val = chisquare(observed_freq, expected_counts)\n",
    "\n",
    "    # If p-value is below a certain significance level (e.g., 0.05), \n",
    "    # then we can reject the null hypothesis that the observed counts \n",
    "    # follow the expected distribution.\n",
    "    return p_val < 0.05\n",
    "\n",
    "def count_anomalies_for_row(row):\n",
    "    return sum([benfords_law_for_value(val) for val in row])\n",
    "\n",
    "df = pd.DataFrame({\n",
    "    'col1': [123, 456, 789, 101, 111, 555, 444],\n",
    "    'col2': [100, 200, 300, 1000, 2000, 3000, 4000],\n",
    "    'col3': [12, 23, 34, 45, 56, 67, 78]\n",
    "})\n",
    "\n",
    "# Count anomalies for each row\n",
    "df['anomalies_count'] = df.apply(count_anomalies_for_row, axis=1)\n",
    "print(df)\n"
   ]
  },
  {
   "cell_type": "code",
   "execution_count": null,
   "metadata": {},
   "outputs": [],
   "source": []
  }
 ],
 "metadata": {
  "kernelspec": {
   "display_name": "mlss",
   "language": "python",
   "name": "mlss"
  },
  "language_info": {
   "codemirror_mode": {
    "name": "ipython",
    "version": 2
   },
   "file_extension": ".py",
   "mimetype": "text/x-python",
   "name": "python",
   "nbconvert_exporter": "python",
   "pygments_lexer": "ipython2",
   "version": "2.7.6"
  }
 },
 "nbformat": 4,
 "nbformat_minor": 0
}
