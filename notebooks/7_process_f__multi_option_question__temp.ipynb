{
 "cells": [
  {
   "cell_type": "code",
   "execution_count": null,
   "metadata": {
    "ExecuteTime": {
     "end_time": "2023-08-28T00:11:09.718673Z",
     "start_time": "2023-08-28T00:11:09.690016Z"
    }
   },
   "outputs": [],
   "source": [
    "%load_ext autoreload\n",
    "%autoreload 2"
   ]
  },
  {
   "cell_type": "code",
   "execution_count": null,
   "metadata": {
    "ExecuteTime": {
     "end_time": "2023-08-28T00:11:09.747710Z",
     "start_time": "2023-08-28T00:11:09.718895Z"
    }
   },
   "outputs": [],
   "source": [
    "%load_ext memory_profiler"
   ]
  },
  {
   "cell_type": "code",
   "execution_count": null,
   "metadata": {
    "ExecuteTime": {
     "end_time": "2023-08-28T00:11:10.343469Z",
     "start_time": "2023-08-28T00:11:09.748346Z"
    }
   },
   "outputs": [],
   "source": [
    "import pandas as pd\n",
    "from utils.import_utils import *\n",
    "from hydra import initialize, initialize_config_module, initialize_config_dir, compose\n",
    "from src.feature_processing import *\n",
    "from src.item_processing import  *\n",
    "from src.utils.stats_utils import *\n",
    "import plotly.express as px\n",
    "import seaborn as sns\n",
    "import pandas as pd\n",
    "import matplotlib.pyplot as plt"
   ]
  },
  {
   "cell_type": "code",
   "execution_count": null,
   "metadata": {
    "ExecuteTime": {
     "end_time": "2023-08-28T00:11:10.661106Z",
     "start_time": "2023-08-28T00:11:10.343942Z"
    }
   },
   "outputs": [],
   "source": [
    "with initialize(config_path='../configuration', version_base='1.1'):\n",
    "    config = compose(config_name='main.yaml')"
   ]
  },
  {
   "cell_type": "code",
   "execution_count": null,
   "metadata": {
    "ExecuteTime": {
     "end_time": "2023-08-28T00:11:31.085350Z",
     "start_time": "2023-08-28T00:11:10.663343Z"
    }
   },
   "outputs": [],
   "source": [
    "features_class = ItemFeatureProcessing(config)"
   ]
  },
  {
   "cell_type": "code",
   "execution_count": null,
   "metadata": {
    "ExecuteTime": {
     "end_time": "2023-08-28T00:11:34.200140Z",
     "start_time": "2023-08-28T00:11:31.083261Z"
    }
   },
   "outputs": [],
   "source": [
    "df_item = features_class.df_item\n",
    "self = features_class"
   ]
  },
  {
   "cell_type": "code",
   "execution_count": null,
   "metadata": {
    "ExecuteTime": {
     "end_time": "2023-08-17T09:30:23.297414Z",
     "start_time": "2023-08-17T09:30:22.454168Z"
    }
   },
   "outputs": [],
   "source": [
    "filter_condition = (df_item['type']=='MultyOptionsQuestion')\n",
    "data = df_item[filter_condition]\n",
    "pivot_table = pd.DataFrame( data.responsible.unique(), columns = ['responsible'])\n",
    "for variable_name in data.variable_name.unique():\n",
    "    df_values = pd.get_dummies(data[data['variable_name'] == variable_name]['value'].explode()).groupby(level=0).sum()\n",
    "    # Joining back the exploded values to the original dataframe\n",
    "    df = data[data['variable_name'] == variable_name][['responsible','value']].drop('value', axis=1).join(df_values)\n",
    "\n",
    "    # Function to calculate entropy\n",
    "    def calculate_entropy(row):\n",
    "        values = row.values\n",
    "        values = values[values > 0]  # Filter out zero values\n",
    "        probabilities = values / values.sum()\n",
    "        entropy = -np.sum(probabilities * np.log2(probabilities)) * len(values)\n",
    "        return entropy\n",
    "\n",
    "    # # Calculating entropy grouped by 'variable_name' and 'responsible'\n",
    "    result = df.groupby(['responsible']).apply(calculate_entropy).reset_index()\n",
    "    result.columns = ['responsible', 'entropy']\n",
    "    pivot_table[variable_name] = pivot_table['responsible'].map(result.set_index('responsible')['entropy'])\n",
    "    "
   ]
  },
  {
   "cell_type": "code",
   "execution_count": null,
   "metadata": {
    "ExecuteTime": {
     "end_time": "2023-08-17T09:30:24.430988Z",
     "start_time": "2023-08-17T09:30:24.266207Z"
    }
   },
   "outputs": [],
   "source": [
    "entropy_columns = [col for col in pivot_table.columns if 'entropy' in col]\n",
    "pivot_table['entropy__multipleoption_question'] = pivot_table.drop(columns=['responsible']).mean(1)\n",
    "entropy_ = pivot_table.groupby('responsible')['entropy__multipleoption_question'].mean()\n",
    "entropy_.plot(kind='bar')\n",
    "plt.title('entropy__multipleoption_question')\n",
    "plt.show()"
   ]
  },
  {
   "cell_type": "code",
   "execution_count": null,
   "metadata": {},
   "outputs": [],
   "source": []
  }
 ],
 "metadata": {
  "kernelspec": {
   "display_name": "mlss",
   "language": "python",
   "name": "mlss"
  },
  "language_info": {
   "codemirror_mode": {
    "name": "ipython",
    "version": 2
   },
   "file_extension": ".py",
   "mimetype": "text/x-python",
   "name": "python",
   "nbconvert_exporter": "python",
   "pygments_lexer": "ipython2",
   "version": "2.7.6"
  }
 },
 "nbformat": 4,
 "nbformat_minor": 0
}
