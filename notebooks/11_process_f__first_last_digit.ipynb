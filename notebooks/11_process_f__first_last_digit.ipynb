{
 "cells": [
  {
   "cell_type": "code",
   "execution_count": null,
   "metadata": {
    "ExecuteTime": {
     "end_time": "2023-08-27T21:36:09.062760Z",
     "start_time": "2023-08-27T21:36:09.035049Z"
    }
   },
   "outputs": [],
   "source": [
    "%load_ext autoreload\n",
    "%autoreload 2"
   ]
  },
  {
   "cell_type": "code",
   "execution_count": null,
   "metadata": {
    "ExecuteTime": {
     "end_time": "2023-08-27T21:36:09.093254Z",
     "start_time": "2023-08-27T21:36:09.062871Z"
    }
   },
   "outputs": [],
   "source": [
    "%load_ext memory_profiler"
   ]
  },
  {
   "cell_type": "code",
   "execution_count": null,
   "metadata": {
    "ExecuteTime": {
     "end_time": "2023-08-27T21:36:09.602589Z",
     "start_time": "2023-08-27T21:36:09.092164Z"
    }
   },
   "outputs": [],
   "source": [
    "import pandas as pd\n",
    "from utils.import_utils import *\n",
    "from hydra import initialize, initialize_config_module, initialize_config_dir, compose\n",
    "from src.feature_processing import *\n",
    "from src.item_processing import  *\n",
    "from src.utils.general_utils import *\n",
    "from src.utils.stats_utils import *\n",
    "import plotly.express as px\n",
    "import seaborn as sns\n",
    "import pandas as pd\n",
    "import matplotlib.pyplot as plt"
   ]
  },
  {
   "cell_type": "code",
   "execution_count": null,
   "metadata": {
    "ExecuteTime": {
     "end_time": "2023-08-27T21:36:09.863950Z",
     "start_time": "2023-08-27T21:36:09.603005Z"
    }
   },
   "outputs": [],
   "source": [
    "with initialize(config_path='../configuration', version_base='1.1'):\n",
    "    config = compose(config_name='main.yaml')"
   ]
  },
  {
   "cell_type": "code",
   "execution_count": null,
   "metadata": {
    "ExecuteTime": {
     "end_time": "2023-08-27T21:47:11.726402Z",
     "start_time": "2023-08-27T21:46:51.137226Z"
    }
   },
   "outputs": [],
   "source": [
    "features_class = ItemFeatureProcessing(config)"
   ]
  },
  {
   "cell_type": "code",
   "execution_count": null,
   "metadata": {
    "ExecuteTime": {
     "end_time": "2023-08-27T21:47:14.785999Z",
     "start_time": "2023-08-27T21:47:11.724991Z"
    }
   },
   "outputs": [],
   "source": [
    "df_item = features_class.df_item\n",
    "self = features_class"
   ]
  },
  {
   "cell_type": "markdown",
   "metadata": {
    "collapsed": false
   },
   "source": [
    "# First Digit ITEM Level Processing"
   ]
  },
  {
   "cell_type": "code",
   "execution_count": null,
   "metadata": {
    "ExecuteTime": {
     "end_time": "2023-08-27T21:47:14.855148Z",
     "start_time": "2023-08-27T21:47:14.783337Z"
    }
   },
   "outputs": [],
   "source": [
    "feature_name = 'f__numeric_response'\n",
    "score_name = 's__numeric_response'\n",
    "df = df_item[~pd.isnull(df_item[feature_name])].copy()\n",
    "# Select only those variables that have at least three distinct values and more than one hundred records\n",
    "valid_variables =  self.filter_variable_name_by_frequency(df, feature_name, frequency=100, min_unique_values=3)"
   ]
  },
  {
   "cell_type": "code",
   "execution_count": null,
   "metadata": {
    "ExecuteTime": {
     "end_time": "2023-08-27T21:47:14.965312Z",
     "start_time": "2023-08-27T21:47:14.856209Z"
    }
   },
   "outputs": [],
   "source": [
    "# Select only those variables that have at least three different order of magnitude\n",
    "valid_variables = filter_variables_by_magnitude(df, feature_name, valid_variables, min_order_of_magnitude=3)"
   ]
  },
  {
   "cell_type": "code",
   "execution_count": null,
   "metadata": {
    "ExecuteTime": {
     "end_time": "2023-08-27T21:47:50.382422Z",
     "start_time": "2023-08-27T21:47:48.958673Z"
    }
   },
   "outputs": [],
   "source": [
    "# Computes the Jensen divergence for each variable_name and responsible on the first digit distribution.\n",
    "# Jensen's divergence returns a value between (0, 1) of how much the first digit distribution of specific responsible is similar to the first digit distribution of all others.\n",
    "# Higher the value higher is the difference. \n",
    "# The Bendford Jensen divergence is calculated only on those responsible and variable_name who have at least 50 records.\n",
    "# Once it is calculated, values that diverge of more than 50% from the median value get marked as \"anomalus.\"\n",
    "benford_jensen_df = apply_benford_tests(df, valid_variables, 'responsible', feature_name, apply_first_digit=True, minimum_sample=50)\n",
    "\n",
    "variable_list = benford_jensen_df['variable_name'].unique()\n",
    "for var in variable_list:\n",
    "\n",
    "    bj_mask = (benford_jensen_df['variable_name']==var) &  (~pd.isnull(benford_jensen_df[feature_name]))\n",
    "    bj_df = benford_jensen_df[bj_mask].copy()\n",
    "    if bj_df.shape[0] > 0:\n",
    "        bj_df.sort_values(feature_name, inplace=True, ascending=True)\n",
    "\n",
    "        median_value = bj_df[feature_name].median()\n",
    "        bj_df[score_name] = bj_df[feature_name].apply(lambda x: 1 if x> median_value+50/100*median_value else 0)\n",
    "        \n",
    "        df.loc[df['variable_name']==var, score_name] = df[df['variable_name']==var]['responsible'].map(bj_df.set_index('responsible')[score_name])\n",
    "        \n",
    "        \n",
    "        anomaly_df = bj_df[bj_df[score_name] == 1]\n",
    "        no_anomaly_df = bj_df[bj_df[score_name] == 0]\n",
    "        plt.bar(no_anomaly_df['responsible'], no_anomaly_df[feature_name], color='blue', label='No Anomaly')\n",
    "        plt.bar(anomaly_df['responsible'], anomaly_df[feature_name], color='red', label='Anomaly')\n",
    "        plt.xticks(rotation=90)\n",
    "        plt.title(var)\n",
    "        plt.show()"
   ]
  },
  {
   "cell_type": "markdown",
   "metadata": {
    "collapsed": false
   },
   "source": [
    "# First Digit Responsible Level Processing"
   ]
  },
  {
   "cell_type": "code",
   "execution_count": null,
   "metadata": {
    "ExecuteTime": {
     "end_time": "2023-08-27T21:49:12.935882Z",
     "start_time": "2023-08-27T21:49:12.700838Z"
    }
   },
   "outputs": [],
   "source": [
    "# Plot the average number of anomalies on a first digit by responsible\n",
    "data = df.groupby(['responsible','variable_name']).agg({score_name: 'mean'})\n",
    "data = data.reset_index()\n",
    "entropy_ = data.groupby('responsible')[score_name].mean()\n",
    "entropy_.plot(kind='bar')\n",
    "plt.show()"
   ]
  },
  {
   "cell_type": "code",
   "execution_count": null,
   "metadata": {
    "ExecuteTime": {
     "end_time": "2023-08-27T21:14:38.278677Z",
     "start_time": "2023-08-27T21:14:38.270958Z"
    }
   },
   "outputs": [],
   "source": [
    "benford_jensen_df = apply_benford_tests(df, valid_variables, 'responsible', feature_name, apply_first_digit=False, minimum_sampe=1)\n",
    "benford_jensen_df"
   ]
  }
 ],
 "metadata": {
  "kernelspec": {
   "display_name": "mlss",
   "language": "python",
   "name": "mlss"
  },
  "language_info": {
   "codemirror_mode": {
    "name": "ipython",
    "version": 2
   },
   "file_extension": ".py",
   "mimetype": "text/x-python",
   "name": "python",
   "nbconvert_exporter": "python",
   "pygments_lexer": "ipython2",
   "version": "2.7.6"
  }
 },
 "nbformat": 4,
 "nbformat_minor": 0
}
