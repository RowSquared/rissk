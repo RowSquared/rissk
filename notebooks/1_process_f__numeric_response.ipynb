{
 "cells": [
  {
   "cell_type": "code",
   "execution_count": null,
   "metadata": {
    "ExecuteTime": {
     "end_time": "2023-08-17T10:04:13.363762Z",
     "start_time": "2023-08-17T10:04:13.335946Z"
    }
   },
   "outputs": [],
   "source": [
    "%load_ext autoreload\n",
    "%autoreload 2"
   ]
  },
  {
   "cell_type": "code",
   "execution_count": null,
   "metadata": {
    "ExecuteTime": {
     "end_time": "2023-08-17T10:04:13.400460Z",
     "start_time": "2023-08-17T10:04:13.363943Z"
    }
   },
   "outputs": [],
   "source": [
    "%load_ext memory_profiler"
   ]
  },
  {
   "cell_type": "code",
   "execution_count": null,
   "metadata": {
    "ExecuteTime": {
     "end_time": "2023-08-17T10:04:13.793527Z",
     "start_time": "2023-08-17T10:04:13.392810Z"
    }
   },
   "outputs": [],
   "source": [
    "import pandas as pd\n",
    "from utils.import_utils import *\n",
    "from hydra import initialize, initialize_config_module, initialize_config_dir, compose\n",
    "from src.feature_processing import *\n",
    "from src.item_processing import  *\n",
    "from src.utils.stats_utils import *\n",
    "import plotly.express as px\n",
    "import seaborn as sns\n",
    "import pandas as pd\n",
    "import matplotlib.pyplot as plt"
   ]
  },
  {
   "cell_type": "code",
   "execution_count": null,
   "metadata": {
    "ExecuteTime": {
     "end_time": "2023-08-17T10:04:14.038625Z",
     "start_time": "2023-08-17T10:04:13.793606Z"
    }
   },
   "outputs": [],
   "source": [
    "with initialize(config_path='../configuration', version_base='1.1'):\n",
    "    config = compose(config_name='main.yaml')"
   ]
  },
  {
   "cell_type": "code",
   "execution_count": null,
   "metadata": {
    "ExecuteTime": {
     "end_time": "2023-08-17T10:04:32.830562Z",
     "start_time": "2023-08-17T10:04:14.038865Z"
    }
   },
   "outputs": [],
   "source": [
    "features_class = ItemFeatureProcessing(config)"
   ]
  },
  {
   "cell_type": "code",
   "execution_count": null,
   "metadata": {
    "ExecuteTime": {
     "end_time": "2023-08-17T10:04:36.228490Z",
     "start_time": "2023-08-17T10:04:32.832566Z"
    }
   },
   "outputs": [],
   "source": [
    "df_item = features_class.df_item\n",
    "self = features_class"
   ]
  },
  {
   "cell_type": "code",
   "execution_count": null,
   "metadata": {
    "ExecuteTime": {
     "end_time": "2023-08-17T10:04:36.423679Z",
     "start_time": "2023-08-17T10:04:36.228568Z"
    }
   },
   "outputs": [],
   "source": [
    "pivot_table, index_col = self.get_clean_pivot_table('f__numeric_response',remove_low_freq_col=True)"
   ]
  },
  {
   "cell_type": "code",
   "execution_count": null,
   "metadata": {},
   "outputs": [],
   "source": [
    "# Plot Histogram of normalized and windsored distribution\n",
    "for col in pivot_table.drop(columns = ['interview__id', 'roster_level', 'responsible']).columns:\n",
    "    data = pivot_table[~pd.isnull(pivot_table[col])].copy()\n",
    "    # # Remove extreme outliers by order of magnitude\n",
    "    anomalies = get_outlier_by_magnitude(data[col], mode_deviation=2, )\n",
    "\n",
    "    data['box_cox'] = get_box_cox_rescaled(data[col])\n",
    "\n",
    "    # remove oyutliers by zeta score on normalized data\n",
    "    lower_limit, upper_limit = get_outlier_z_score(data, 'box_cox', 3)\n",
    "    lower_limit, upper_limit = get_outlier_iqr(data, 'box_cox')\n",
    "    data1 = data[(~upper_limit)&(~lower_limit)].copy()    \n",
    "    data = data[~anomalies].copy()\n",
    "    data[col].hist(bins=10)\n",
    "    data1[col].hist(bins=10)\n",
    "    plt.title(col+ str(data.shape[0]) +'--'+ str(data1.shape[0]))\n",
    "    plt.show()"
   ]
  },
  {
   "cell_type": "code",
   "execution_count": null,
   "metadata": {},
   "outputs": [],
   "source": [
    "data['harvest_quantity'].value_counts()"
   ]
  },
  {
   "cell_type": "code",
   "execution_count": null,
   "metadata": {},
   "outputs": [],
   "source": [
    "def z_score(x, series):\n",
    "    return (x -series.mean())/ series.std()"
   ]
  },
  {
   "cell_type": "code",
   "execution_count": null,
   "metadata": {},
   "outputs": [],
   "source": [
    "\n",
    "for col in pivot_table.drop(columns = ['interview__id', 'roster_level', 'responsible']).columns:\n",
    "    data = pivot_table[~pd.isnull(pivot_table[col])].copy()\n",
    "    # Remove extreme outliers by order of magnitude\n",
    "    extreme_outliers = get_outlier_by_magnitude(data[col], mode_deviation=3)\n",
    "    data = data[~extreme_outliers].copy()\n",
    "    data['box_cox'] = get_box_cox_rescaled(data[col])\n",
    "    # remove oyutliers by zeta score on normalized data\n",
    "    lower_limit, upper_limit = get_outlier_z_score(data, 'box_cox', 2.5)\n",
    "    data = data[(~lower_limit)&(~upper_limit)].copy()    \n",
    "    pivot_table[col+'z_score'] = None\n",
    "    mask = ((~pd.isnull(pivot_table[col])) &\n",
    "            (~extreme_outliers) & \n",
    "             (~lower_limit) & \n",
    "             (~upper_limit))\n",
    "    #pivot_table.loc[mask, col+'_z_score'] = (pivot_table[mask][col] - pivot_table[mask][col].mean()) / pivot_table[mask][col].std()\n",
    "    pivot_table.loc[mask, col+'_z_score'] = (data['box_cox'] - data['box_cox'].mean()) / data['box_cox'].std()\n"
   ]
  },
  {
   "cell_type": "code",
   "execution_count": null,
   "metadata": {},
   "outputs": [],
   "source": [
    "z_score_columns = [ col for col in pivot_table.columns if 'z_score' in col]\n",
    "data = pivot_table[index_col+z_score_columns].groupby(['interview__id', 'responsible']).agg({col: 'mean' for col in z_score_columns})\n",
    "data = data.reset_index()\n",
    "data = data.copy()\n",
    "for col in z_score_columns:\n",
    "    data1 = data[~pd.isnull(data[col])].copy()\n",
    "    fig = px.box(data1, x= 'responsible', y=col, title=col)\n",
    "    fig.show()"
   ]
  },
  {
   "cell_type": "code",
   "execution_count": null,
   "metadata": {},
   "outputs": [],
   "source": [
    "z_score_columns = [ col for col in pivot_table.columns if 'z_score' in col]\n",
    "data = pivot_table[index_col+z_score_columns].groupby(['responsible']).agg({col: 'mean' for col in z_score_columns})\n",
    "data = data.reset_index()\n",
    "data = data.copy()\n",
    "for col in z_score_columns:\n",
    "    data1 = data[~pd.isnull(data[col])].copy()\n",
    "    fig = px.bar(data1, x= 'responsible', y=col, title=col)\n",
    "    fig.show()"
   ]
  },
  {
   "cell_type": "code",
   "execution_count": null,
   "metadata": {},
   "outputs": [],
   "source": [
    "z_score_columns = [ col for col in pivot_table.columns if 'z_score' in col]\n",
    "data = pivot_table[index_col+z_score_columns].groupby(['interview__id', 'responsible']).agg({col: 'mean' for col in z_score_columns})\n",
    "data = data.reset_index()\n",
    "data = data.copy()\n",
    "data['z_score'] = data[z_score_columns].mean(1)\n",
    "fig = px.box(data, x= 'responsible', y='z_score', title='z_score')\n",
    "fig.show()"
   ]
  },
  {
   "cell_type": "code",
   "execution_count": null,
   "metadata": {},
   "outputs": [],
   "source": [
    "z_score_columns = [ col for col in pivot_table.columns if 'z_score' in col]\n",
    "data = pivot_table[index_col+z_score_columns].groupby(['responsible']).agg({col: 'mean' for col in z_score_columns})\n",
    "data = data.reset_index()\n",
    "data = data.copy()\n",
    "data['z_score'] = data[z_score_columns].mean(1)\n",
    "fig = px.box(data, x= 'responsible', y='z_score', title='z_score')\n",
    "fig.show()"
   ]
  },
  {
   "cell_type": "code",
   "execution_count": null,
   "metadata": {},
   "outputs": [],
   "source": []
  }
 ],
 "metadata": {
  "kernelspec": {
   "display_name": "mlss",
   "language": "python",
   "name": "mlss"
  },
  "language_info": {
   "codemirror_mode": {
    "name": "ipython",
    "version": 2
   },
   "file_extension": ".py",
   "mimetype": "text/x-python",
   "name": "python",
   "nbconvert_exporter": "python",
   "pygments_lexer": "ipython2",
   "version": "2.7.6"
  }
 },
 "nbformat": 4,
 "nbformat_minor": 0
}
