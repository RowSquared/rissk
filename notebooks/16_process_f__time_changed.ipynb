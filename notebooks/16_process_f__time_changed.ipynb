{
 "cells": [
  {
   "cell_type": "code",
   "execution_count": null,
   "metadata": {
    "ExecuteTime": {
     "end_time": "2023-08-29T15:20:28.243839Z",
     "start_time": "2023-08-29T15:20:27.732305Z"
    }
   },
   "outputs": [],
   "source": [
    "import pandas as pd\n",
    "from utils.import_utils import *\n",
    "from hydra import initialize, initialize_config_module, initialize_config_dir, compose\n",
    "from src.unit_proccessing import  *\n",
    "from src.utils.stats_utils import *\n",
    "import plotly.express as px\n",
    "import seaborn as sns\n",
    "import pandas as pd\n",
    "import matplotlib.pyplot as plt\n",
    "from pyod.models.ecod import ECOD\n",
    "from pythresh.thresholds.hist import HIST\n",
    "from pythresh.thresholds.hist import HIST\n",
    "from pythresh.thresholds.filter import FILTER"
   ]
  },
  {
   "cell_type": "code",
   "execution_count": null,
   "metadata": {
    "ExecuteTime": {
     "end_time": "2023-08-29T15:20:28.527698Z",
     "start_time": "2023-08-29T15:20:28.244082Z"
    }
   },
   "outputs": [],
   "source": [
    "with initialize(config_path='../configuration', version_base='1.1'):\n",
    "    config = compose(config_name='main.yaml')"
   ]
  },
  {
   "cell_type": "code",
   "execution_count": null,
   "metadata": {
    "ExecuteTime": {
     "end_time": "2023-08-29T15:20:48.636430Z",
     "start_time": "2023-08-29T15:20:28.527930Z"
    }
   },
   "outputs": [],
   "source": [
    "features_class = UnitDataProcessing(config)\n",
    "self = features_class"
   ]
  },
  {
   "cell_type": "markdown",
   "metadata": {
    "collapsed": false
   },
   "source": [
    "# Answer Time Changed UNIT Level Processing"
   ]
  },
  {
   "cell_type": "markdown",
   "metadata": {
    "collapsed": false
   },
   "source": [
    "##### Get Feature and process"
   ]
  },
  {
   "cell_type": "code",
   "execution_count": null,
   "metadata": {
    "ExecuteTime": {
     "end_time": "2023-08-29T15:23:39.055483Z",
     "start_time": "2023-08-29T15:23:39.051175Z"
    }
   },
   "outputs": [],
   "source": [
    "feature_name = 'f__time_changed'\n",
    "score_name = self.rename_feature(feature_name)\n",
    "df = self.df_unit[~pd.isnull(self.df_unit[feature_name])]"
   ]
  },
  {
   "cell_type": "code",
   "execution_count": null,
   "metadata": {
    "ExecuteTime": {
     "end_time": "2023-08-29T15:24:32.894808Z",
     "start_time": "2023-08-29T15:24:32.802271Z"
    }
   },
   "outputs": [],
   "source": [
    "(df[df[feature_name]<0][feature_name]/3600).hist()"
   ]
  },
  {
   "cell_type": "code",
   "execution_count": null,
   "metadata": {
    "ExecuteTime": {
     "end_time": "2023-08-29T15:30:53.277242Z",
     "start_time": "2023-08-29T15:30:53.176430Z"
    }
   },
   "outputs": [],
   "source": [
    "# Plot Histgrom of bins: Not time changed, less than one hour, 1-5 hours, 5-24 hours, 24+ hours \n",
    "bins = [float('-inf'), -24 * 3600, -5 * 3600, -1 * 3600, -0.1, float('inf')]\n",
    "labels = [1, 0.75, 0.5, 0.25, 0] \n",
    "df[score_name] = pd.cut(df[feature_name], bins=bins, labels=labels).astype(float)\n",
    "df[score_name].hist()"
   ]
  },
  {
   "cell_type": "code",
   "execution_count": null,
   "metadata": {},
   "outputs": [],
   "source": []
  },
  {
   "cell_type": "code",
   "execution_count": null,
   "metadata": {},
   "outputs": [],
   "source": [
    "##########################################################################################################################################################"
   ]
  }
 ],
 "metadata": {
  "kernelspec": {
   "display_name": "mlss",
   "language": "python",
   "name": "mlss"
  },
  "language_info": {
   "codemirror_mode": {
    "name": "ipython",
    "version": 2
   },
   "file_extension": ".py",
   "mimetype": "text/x-python",
   "name": "python",
   "nbconvert_exporter": "python",
   "pygments_lexer": "ipython2",
   "version": "2.7.6"
  }
 },
 "nbformat": 4,
 "nbformat_minor": 0
}
