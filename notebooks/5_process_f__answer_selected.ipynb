{
 "cells": [
  {
   "cell_type": "code",
   "execution_count": null,
   "metadata": {},
   "outputs": [],
   "source": [
    "%load_ext autoreload\n",
    "%autoreload 2"
   ]
  },
  {
   "cell_type": "code",
   "execution_count": null,
   "metadata": {},
   "outputs": [],
   "source": [
    "%load_ext memory_profiler"
   ]
  },
  {
   "cell_type": "code",
   "execution_count": null,
   "metadata": {},
   "outputs": [],
   "source": [
    "import pandas as pd\n",
    "from utils.import_utils import *\n",
    "from hydra import initialize, initialize_config_module, initialize_config_dir, compose\n",
    "from src.feature_processing import *\n",
    "from src.item_processing import  *\n",
    "from src.utils.stats_utils import *\n",
    "import plotly.express as px\n",
    "import seaborn as sns\n",
    "import pandas as pd\n",
    "import matplotlib.pyplot as plt"
   ]
  },
  {
   "cell_type": "code",
   "execution_count": null,
   "metadata": {},
   "outputs": [],
   "source": [
    "with initialize(config_path='../configuration', version_base='1.1'):\n",
    "    config = compose(config_name='main.yaml')"
   ]
  },
  {
   "cell_type": "code",
   "execution_count": null,
   "metadata": {},
   "outputs": [],
   "source": [
    "features_class = ItemFeatureProcessing(config)"
   ]
  },
  {
   "cell_type": "code",
   "execution_count": null,
   "metadata": {},
   "outputs": [],
   "source": [
    "df_item = features_class.df_item\n",
    "self = features_class"
   ]
  },
  {
   "cell_type": "code",
   "execution_count": null,
   "metadata": {
    "ExecuteTime": {
     "end_time": "2023-08-17T08:33:15.957127Z",
     "start_time": "2023-08-17T08:33:15.918131Z"
    }
   },
   "outputs": [],
   "source": [
    "df_item[df_item['type']=='SingleQuestion']['variable_name'].value_counts()"
   ]
  },
  {
   "cell_type": "code",
   "execution_count": null,
   "metadata": {
    "ExecuteTime": {
     "end_time": "2023-08-17T08:32:03.258606Z",
     "start_time": "2023-08-17T08:32:03.251327Z"
    }
   },
   "outputs": [],
   "source": [
    "df_item['type'].value_counts()"
   ]
  },
  {
   "cell_type": "code",
   "execution_count": null,
   "metadata": {},
   "outputs": [],
   "source": [
    "  \n",
    "       'f__time_changed', 'f__answer_changed', \n",
    "       'f__answer_removed' ]"
   ]
  },
  {
   "cell_type": "code",
   "execution_count": null,
   "metadata": {
    "ExecuteTime": {
     "end_time": "2023-08-17T00:13:08.623186Z",
     "start_time": "2023-08-17T00:13:08.418880Z"
    }
   },
   "outputs": [],
   "source": [
    "pivot_table, index_col = self.get_clean_pivot_table('f__answer_selected',remove_low_freq_col=True)"
   ]
  },
  {
   "cell_type": "code",
   "execution_count": null,
   "metadata": {},
   "outputs": [],
   "source": [
    "pivot_table"
   ]
  },
  {
   "cell_type": "code",
   "execution_count": null,
   "metadata": {},
   "outputs": [],
   "source": [
    "for col in pivot_table.drop(columns = ['interview__id', 'roster_level', 'responsible']).columns[0:14]:\n",
    "    data = pivot_table[~pd.isnull(pivot_table[col])].copy()\n",
    "    fig = px.box(data, x='responsible', y=col)\n",
    "    fig.show()"
   ]
  },
  {
   "cell_type": "code",
   "execution_count": null,
   "metadata": {
    "ExecuteTime": {
     "end_time": "2023-08-17T00:13:10.853710Z",
     "start_time": "2023-08-17T00:13:10.787119Z"
    }
   },
   "outputs": [],
   "source": [
    "for col in pivot_table.drop(columns = ['interview__id', 'roster_level', 'responsible']).columns:\n",
    "    data = pivot_table[~pd.isnull(pivot_table[col])].copy()\n",
    "    pivot_table[col+'answer_set_anomaly'] = False\n",
    "    lower_outlier, upper_outlier = get_outlier_iqr(data, col)\n",
    "    pivot_table.loc[(~pd.isnull(pivot_table[col])) &((lower_outlier)|(upper_outlier)), col+'answer_set_anomaly'] = True"
   ]
  },
  {
   "cell_type": "code",
   "execution_count": null,
   "metadata": {
    "ExecuteTime": {
     "end_time": "2023-08-17T00:23:12.429858Z",
     "start_time": "2023-08-17T00:23:12.379899Z"
    }
   },
   "outputs": [],
   "source": [
    "selected_columns = pivot_table.drop(columns = ['interview__id', 'roster_level', 'responsible']).columns\n",
    "selected_columns = [col for col in selected_columns if 'answer_set_anomaly' in col]\n",
    "pivot_table['total_selected_columns'] = pivot_table[selected_columns].sum(1)"
   ]
  },
  {
   "cell_type": "code",
   "execution_count": null,
   "metadata": {
    "ExecuteTime": {
     "end_time": "2023-08-17T00:23:14.746377Z",
     "start_time": "2023-08-17T00:23:14.730955Z"
    }
   },
   "outputs": [],
   "source": [
    "pivot_table['total_selected_columns'].value_counts()"
   ]
  },
  {
   "cell_type": "code",
   "execution_count": null,
   "metadata": {
    "ExecuteTime": {
     "end_time": "2023-08-17T00:23:35.764856Z",
     "start_time": "2023-08-17T00:23:35.661882Z"
    }
   },
   "outputs": [],
   "source": [
    "pivot_table.loc[pivot_table['total_selected_columns']>4,'total_selected_columns'] =4\n",
    "pivot_table['total_selected_columns'].hist()"
   ]
  }
 ],
 "metadata": {
  "kernelspec": {
   "display_name": "mlss",
   "language": "python",
   "name": "mlss"
  },
  "language_info": {
   "codemirror_mode": {
    "name": "ipython",
    "version": 2
   },
   "file_extension": ".py",
   "mimetype": "text/x-python",
   "name": "python",
   "nbconvert_exporter": "python",
   "pygments_lexer": "ipython2",
   "version": "2.7.6"
  }
 },
 "nbformat": 4,
 "nbformat_minor": 0
}
