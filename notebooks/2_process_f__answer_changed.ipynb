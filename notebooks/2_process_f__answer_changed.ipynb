{
 "cells": [
  {
   "cell_type": "code",
   "execution_count": null,
   "metadata": {
    "ExecuteTime": {
     "end_time": "2023-08-18T17:33:06.348712Z",
     "start_time": "2023-08-18T17:33:05.846153Z"
    }
   },
   "outputs": [],
   "source": [
    "import pandas as pd\n",
    "from utils.import_utils import *\n",
    "from hydra import initialize, initialize_config_module, initialize_config_dir, compose\n",
    "from src.unit_proccessing import  *\n",
    "from src.utils.stats_utils import *\n",
    "import plotly.express as px\n",
    "import seaborn as sns\n",
    "import pandas as pd\n",
    "import matplotlib.pyplot as plt"
   ]
  },
  {
   "cell_type": "code",
   "execution_count": null,
   "metadata": {
    "ExecuteTime": {
     "end_time": "2023-08-18T17:33:06.680632Z",
     "start_time": "2023-08-18T17:33:06.442723Z"
    }
   },
   "outputs": [],
   "source": [
    "with initialize(config_path='../configuration', version_base='1.1'):\n",
    "    config = compose(config_name='main.yaml')"
   ]
  },
  {
   "cell_type": "code",
   "execution_count": null,
   "metadata": {
    "ExecuteTime": {
     "end_time": "2023-08-18T17:35:42.486938Z",
     "start_time": "2023-08-18T17:33:07.420380Z"
    }
   },
   "outputs": [],
   "source": [
    "features_class = ItemFeatureProcessing(config)"
   ]
  },
  {
   "cell_type": "code",
   "execution_count": null,
   "metadata": {
    "ExecuteTime": {
     "end_time": "2023-08-18T20:05:54.517341Z",
     "start_time": "2023-08-18T20:05:54.160883Z"
    }
   },
   "outputs": [],
   "source": [
    "df_item = features_class.df_item\n",
    "self = features_class\n",
    "feature_name = 'f__answer_changed'\n",
    "df = df_item[~pd.isnull(df_item[feature_name])].copy()"
   ]
  },
  {
   "cell_type": "code",
   "execution_count": null,
   "metadata": {
    "ExecuteTime": {
     "end_time": "2023-08-18T17:36:04.773099Z",
     "start_time": "2023-08-18T17:36:04.753658Z"
    }
   },
   "outputs": [],
   "source": [
    "variables = list(df.variable_name.unique())"
   ]
  },
  {
   "cell_type": "code",
   "execution_count": null,
   "metadata": {
    "ExecuteTime": {
     "end_time": "2023-08-18T18:45:16.351378Z",
     "start_time": "2023-08-18T18:45:07.709325Z"
    }
   },
   "outputs": [],
   "source": [
    "from pyod.models.ecod import ECOD\n",
    "model = ECOD(contamination=0.1)\n",
    "\n",
    "df['anomaly'] = None\n",
    "df['value'] = None\n",
    "for index_range in range(0, len(variables)):\n",
    "    mask = (df['variable_name'] == variables[index_range])\n",
    "    #df.loc[mask,'anomaly'] = model.fit_predict(df[mask][[feature_name]])\n",
    "    df.loc[mask,'value'] = df[mask][feature_name].apply(lambda x: 5 if x>5 else x)"
   ]
  },
  {
   "cell_type": "code",
   "execution_count": null,
   "metadata": {
    "ExecuteTime": {
     "end_time": "2023-08-18T18:45:55.639641Z",
     "start_time": "2023-08-18T18:45:54.779193Z"
    }
   },
   "outputs": [],
   "source": [
    "model = ECOD(contamination=0.1)\n",
    "df['anomaly'] = model.fit_predict(df[['qnr_seq',feature_name]])"
   ]
  },
  {
   "cell_type": "code",
   "execution_count": null,
   "metadata": {
    "ExecuteTime": {
     "end_time": "2023-08-18T18:46:38.095348Z",
     "start_time": "2023-08-18T18:46:38.090541Z"
    }
   },
   "outputs": [],
   "source": [
    "print(df['anomaly'].value_counts())"
   ]
  },
  {
   "cell_type": "code",
   "execution_count": null,
   "metadata": {
    "ExecuteTime": {
     "end_time": "2023-08-18T18:46:44.575550Z",
     "start_time": "2023-08-18T18:46:41.059629Z"
    }
   },
   "outputs": [],
   "source": [
    "\n",
    "for index_range in range(0, len(variables), 50):\n",
    "    plt.figure(figsize=(15, 6))\n",
    "    sns.boxplot(df[df['variable_name'].isin(variables[index_range:index_range+50])],x='variable_name', y='value', hue='anomaly')\n",
    "    plt.xticks(rotation=90)\n",
    "    plt.show()"
   ]
  },
  {
   "cell_type": "code",
   "execution_count": null,
   "metadata": {
    "ExecuteTime": {
     "end_time": "2023-08-18T18:51:15.263194Z",
     "start_time": "2023-08-18T18:51:15.244578Z"
    }
   },
   "outputs": [],
   "source": [
    "variables[index_range]"
   ]
  },
  {
   "cell_type": "code",
   "execution_count": null,
   "metadata": {
    "ExecuteTime": {
     "end_time": "2023-08-18T18:51:34.276971Z",
     "start_time": "2023-08-18T18:51:22.061613Z"
    }
   },
   "outputs": [],
   "source": [
    "for index_range in range(0, len(variables)):\n",
    "    plt.figure(figsize=(15, 6))\n",
    "    df[df['variable_name'].isin([variables[index_range]])]['value'].hist()\n",
    "    plt.title(variables[index_range])\n",
    "    plt.show()"
   ]
  },
  {
   "cell_type": "code",
   "execution_count": null,
   "metadata": {},
   "outputs": [],
   "source": []
  }
 ],
 "metadata": {
  "kernelspec": {
   "display_name": "mlss",
   "language": "python",
   "name": "mlss"
  },
  "language_info": {
   "codemirror_mode": {
    "name": "ipython",
    "version": 2
   },
   "file_extension": ".py",
   "mimetype": "text/x-python",
   "name": "python",
   "nbconvert_exporter": "python",
   "pygments_lexer": "ipython2",
   "version": "2.7.6"
  }
 },
 "nbformat": 4,
 "nbformat_minor": 0
}
