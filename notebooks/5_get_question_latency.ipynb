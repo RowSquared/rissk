{
 "cells": [
  {
   "cell_type": "markdown",
   "source": [
    "# Question latency\n",
    "\n",
    "1. Calculate the response latency for each question, i.e. the time in seconds it took from the answer being set for the previous question (or interview resumed) to the answer being set for the question itself.\n",
    "2. Considers only the timing for questions answered by interviewers prior to any supervisor/HQ rejection/review event.\n",
    "3. For multiple, consecutive events for one question/roster-level, e.g. questions re-answered, or multi answer questions, the overall time is considered.\n",
    "4. If questions are re-answered later (i.e. not in sequence, separate response latencies are calculated)\n",
    "5. We need to move over the fillna part to the paradata generation."
   ],
   "metadata": {
    "collapsed": false
   }
  },
  {
   "cell_type": "code",
   "execution_count": null,
   "outputs": [],
   "source": [
    "# generate new df\n",
    "df_time = df_para.copy()\n",
    "\n",
    "# streamline missings (empty, NaN) to '', important to identify duplicates in terms of roster below\n",
    "df_time.fillna('', inplace=True)"
   ],
   "metadata": {
    "collapsed": false
   }
  },
  {
   "cell_type": "code",
   "execution_count": null,
   "outputs": [],
   "source": [
    "# only keep  interviewing events prior to Supervisor/HQ interaction\n",
    "events_split = ['RejectedBySupervisor', 'OpenedBySupervisor', 'OpenedByHQ', 'RejectedByHQ']\n",
    "grouped = df_time.groupby('interview__id')\n",
    "df_time['interviewing'] = False\n",
    "for _, group_df in grouped:\n",
    "    first_reject_index = group_df['event'].isin(events_split).idxmax()-1\n",
    "    min_index = group_df.index.min()\n",
    "    df_time.loc[min_index:first_reject_index, 'interviewing'] = True\n",
    "df_time = df_time[df_time['interviewing']]\n",
    "df_time = df_time.drop(columns=['interviewing'])"
   ],
   "metadata": {
    "collapsed": false
   }
  },
  {
   "cell_type": "code",
   "execution_count": null,
   "outputs": [],
   "source": [
    " # keep only relevant events\n",
    "events_to_drop = ['SupervisorAssigned', 'InterviewerAssigned', 'KeyAssigned', 'VariableDisabled','ReceivedByInterviewer', 'KeyAssigned', 'VariableEnabled', 'VariableSet', 'QuestionDeclaredInvalid', 'QuestionDeclaredValid', 'Completed', 'TranslationSwitched','ReceivedBySupervisor','OpenedBySupervisor','ApproveBySupervisor','ClosedBySupervisor', 'InterviewModeChanged', 'Paused']\n",
    "events_to_keep = ['InterviewCreated', 'AnswerSet', 'Resumed'] # check in other example data sets that there are no other relevant events\n",
    "df_time = df_time[df_time['event'].isin(events_to_keep)]\n"
   ],
   "metadata": {
    "collapsed": false
   }
  },
  {
   "cell_type": "code",
   "execution_count": null,
   "outputs": [],
   "source": [
    "# keep only events done by interview (should not exist for most cases after above filters, just in case supervisor or HQ answered something while interviewer answered on web mode)\n",
    "df_time = df_time[df_time['role']==1]"
   ],
   "metadata": {
    "collapsed": false
   }
  },
  {
   "cell_type": "code",
   "execution_count": null,
   "outputs": [],
   "source": [
    "# if the same question was repeatedly answered on the same roster level, keep only the last one (to take the overall time for the question)\n",
    "group_col = ['interview__id', 'VariableName', 'roster_level']\n",
    "df_time['is_diff'] = (df_time[group_col].shift() != df_time[group_col]).any(axis=1)\n",
    "df_time['keep'] = df_time['is_diff'].shift(-1, fill_value=True)\n",
    "df_time = df_time[df_time['keep']]\n",
    "df_time.drop(columns=['is_diff', 'keep'], inplace=True)\n"
   ],
   "metadata": {
    "collapsed": false
   }
  },
  {
   "cell_type": "code",
   "execution_count": null,
   "outputs": [],
   "source": [
    "# calculate time difference in seconds\n",
    "df_time['time_difference'] = df_time.groupby('interview__id')['datetime_utc'].diff()\n",
    "df_time['time_difference'] = df_time['time_difference'].dt.total_seconds()\n"
   ],
   "metadata": {
    "collapsed": false
   }
  },
  {
   "cell_type": "code",
   "execution_count": null,
   "outputs": [],
   "source": [
    "# keep only AnswerSet events\n",
    "df_time[df_time['event']=='AnswerSet']\n",
    "\n",
    "# for questions that were re-answered (on the same roster-level, we can either treat them as separate events (i.e. one question within the interview/roster-level enters multiple times into the outlier detection, or we can sum up the events."
   ],
   "metadata": {
    "collapsed": false
   }
  }
 ],
 "metadata": {
  "kernelspec": {
   "display_name": "Python 3",
   "language": "python",
   "name": "python3"
  },
  "language_info": {
   "codemirror_mode": {
    "name": "ipython",
    "version": 2
   },
   "file_extension": ".py",
   "mimetype": "text/x-python",
   "name": "python",
   "nbconvert_exporter": "python",
   "pygments_lexer": "ipython2",
   "version": "2.7.6"
  }
 },
 "nbformat": 4,
 "nbformat_minor": 0
}
