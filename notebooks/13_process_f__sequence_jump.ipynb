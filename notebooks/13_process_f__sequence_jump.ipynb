{
 "cells": [
  {
   "cell_type": "code",
   "execution_count": null,
   "metadata": {},
   "outputs": [],
   "source": [
    "%load_ext autoreload\n",
    "%autoreload 2"
   ]
  },
  {
   "cell_type": "code",
   "execution_count": null,
   "metadata": {},
   "outputs": [],
   "source": [
    "%load_ext memory_profiler"
   ]
  },
  {
   "cell_type": "code",
   "execution_count": null,
   "metadata": {},
   "outputs": [],
   "source": [
    "import pandas as pd\n",
    "from utils.import_utils import *\n",
    "from hydra import initialize, initialize_config_module, initialize_config_dir, compose\n",
    "from src.feature_processing import *\n",
    "from src.unit_proccessing import  *\n",
    "from src.utils.stats_utils import *\n",
    "import plotly.express as px\n",
    "import seaborn as sns\n",
    "import pandas as pd\n",
    "import matplotlib.pyplot as plt"
   ]
  },
  {
   "cell_type": "code",
   "execution_count": null,
   "metadata": {},
   "outputs": [],
   "source": [
    "with initialize(config_path='../configuration', version_base='1.1'):\n",
    "    config = compose(config_name='main.yaml')"
   ]
  },
  {
   "cell_type": "code",
   "execution_count": null,
   "metadata": {},
   "outputs": [],
   "source": [
    "features_class = UnitDataProcessing(config)\n",
    "self = features_class"
   ]
  },
  {
   "cell_type": "code",
   "execution_count": null,
   "metadata": {},
   "outputs": [],
   "source": [
    "df_item = features_class.df_item.copy()\n",
    "df_unit = features_class.df_unit.copy()"
   ]
  },
  {
   "cell_type": "code",
   "execution_count": null,
   "metadata": {},
   "outputs": [],
   "source": [
    "\n",
    "feature_name = 'f__sequence_jump'\n",
    "score_name = 's__sequence_jump'\n",
    "df = df_item[~pd.isnull(df_item[feature_name])].copy()\n",
    "# Select only those variables that have at least three distinct values and more than one hundred records\n",
    "variables = self.filter_variable_name_by_frequency(df, feature_name, frequency=100, min_unique_values=3)\n",
    "#pivot_table, index_col = self.get_clean_pivot_table(feature_name,remove_low_freq_col=True)"
   ]
  },
  {
   "cell_type": "code",
   "execution_count": null,
   "metadata": {},
   "outputs": [],
   "source": [
    "for index_range in range(0, len(variables), 50):\n",
    "    plt.figure(figsize=(15, 6))\n",
    "    sns.boxplot(df[df['variable_name'].isin(variables[index_range:index_range+50])],x='variable_name', y=feature_name)\n",
    "    plt.xticks(rotation=90)\n",
    "    plt.show()"
   ]
  },
  {
   "cell_type": "code",
   "execution_count": null,
   "metadata": {},
   "outputs": [],
   "source": [
    "from pyod.models.lunar import LUNAR\n",
    "from pyod.models.rgraph import RGraph\n",
    "from pyod.models.inne import INNE\n",
    "# Train and predict the answer_changed alongside the variable_name. Here it uses the qnr_seq as it's a numeric variable that maps the variable name into numeric fied\n",
    "model = INNE()\n",
    "df[score_name] = model.fit_predict(df[['qnr_seq',feature_name]])"
   ]
  },
  {
   "cell_type": "code",
   "execution_count": null,
   "metadata": {},
   "outputs": [],
   "source": [
    "df.columns"
   ]
  },
  {
   "cell_type": "code",
   "execution_count": null,
   "metadata": {},
   "outputs": [],
   "source": [
    "df.groupby('variable_name')[score_name].value_counts()#/df[score_name].count()"
   ]
  },
  {
   "cell_type": "code",
   "execution_count": null,
   "metadata": {
    "ExecuteTime": {
     "end_time": "2023-08-27T22:35:07.723839Z",
     "start_time": "2023-08-27T22:34:33.250050Z"
    }
   },
   "outputs": [],
   "source": [
    "for var in variables:\n",
    "    mask = (df['variable_name']==var) \n",
    "    mask1 = (df[feature_name]!=0) \n",
    "    model = INNE()\n",
    "    df.loc[mask,score_name] = model.fit_predict(df[mask][[feature_name]])\n",
    "    if df[(df[feature_name]==0)&mask][score_name].sum()>0:\n",
    "        print(df[mask][feature_name].value_counts())\n",
    "    bins = np.histogram_bin_edges(df[mask&mask1][feature_name], bins=12)\n",
    "    no_anomaly_df = df[(df[score_name]==0)&mask&mask1][feature_name]\n",
    "    anomaly_df = df[(df[score_name]==1)&mask&mask1][feature_name]\n",
    "    \n",
    "    plt.hist(no_anomaly_df, bins=bins, alpha=0.5, color='blue', label='True')\n",
    "    plt.hist(anomaly_df, bins=bins, alpha=0.5, color='red', label='False')\n",
    "    plt.title(var)\n",
    "    plt.show()"
   ]
  },
  {
   "cell_type": "code",
   "execution_count": null,
   "metadata": {},
   "outputs": [],
   "source": []
  },
  {
   "cell_type": "code",
   "execution_count": null,
   "metadata": {},
   "outputs": [],
   "source": [
    "    plt.bar(no_anomaly_df['responsible'], no_anomaly_df[feature_name], color='blue', label='No Anomaly')\n",
    "    plt.bar(anomaly_df['responsible'], anomaly_df[feature_name], color='red', label='Anomaly')\n",
    "    plt.xticks(rotation=90)\n",
    "    plt.title(var)\n",
    "    plt.show()"
   ]
  },
  {
   "cell_type": "code",
   "execution_count": null,
   "metadata": {},
   "outputs": [],
   "source": []
  },
  {
   "cell_type": "code",
   "execution_count": null,
   "metadata": {},
   "outputs": [],
   "source": []
  }
 ],
 "metadata": {
  "kernelspec": {
   "display_name": "mlss",
   "language": "python",
   "name": "mlss"
  },
  "language_info": {
   "codemirror_mode": {
    "name": "ipython",
    "version": 2
   },
   "file_extension": ".py",
   "mimetype": "text/x-python",
   "name": "python",
   "nbconvert_exporter": "python",
   "pygments_lexer": "ipython2",
   "version": "2.7.6"
  }
 },
 "nbformat": 4,
 "nbformat_minor": 0
}
