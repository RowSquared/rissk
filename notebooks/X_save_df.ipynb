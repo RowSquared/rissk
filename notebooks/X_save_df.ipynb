{
 "cells": [
  {
   "cell_type": "code",
   "execution_count": 1,
   "metadata": {
    "ExecuteTime": {
     "end_time": "2023-08-18T13:12:07.884332Z",
     "start_time": "2023-08-18T13:12:07.751403Z"
    }
   },
   "outputs": [
    {
     "name": "stderr",
     "output_type": "stream",
     "text": [
      "UsageError: Line magic function `%` not found.\n"
     ]
    }
   ],
   "source": [
    "% load_ext autoreload\n",
    "% autoreload 2"
   ]
  },
  {
   "cell_type": "code",
   "execution_count": 2,
   "metadata": {
    "ExecuteTime": {
     "end_time": "2023-08-18T13:12:07.971535Z",
     "start_time": "2023-08-18T13:12:07.918700Z"
    }
   },
   "outputs": [],
   "source": [
    "#%load_ext memory_profiler"
   ]
  },
  {
   "cell_type": "code",
   "execution_count": 3,
   "metadata": {
    "ExecuteTime": {
     "end_time": "2023-08-18T13:12:08.350334Z",
     "start_time": "2023-08-18T13:12:08.306178Z"
    }
   },
   "outputs": [],
   "source": [
    "from hydra import initialize, compose\n",
    "\n",
    "from src.unit_proccessing import *\n"
   ]
  },
  {
   "cell_type": "code",
   "execution_count": 4,
   "outputs": [],
   "source": [
    "import pandas as pd"
   ],
   "metadata": {
    "collapsed": false
   }
  },
  {
   "cell_type": "code",
   "execution_count": 22,
   "outputs": [],
   "source": [
    "def get_df_save_path(fc: UnitDataProcessing, fname: str):\n",
    "    # todo does not work with surveys all\n",
    "    return os.path.join(fc.config.data.raw, fc.config.surveys[0],\n",
    "                        fc.config.survey_version[0], 'processed_data', fname)\n",
    "\n",
    "def save_df(fc: UnitDataProcessing, df: pd.DataFrame, fname: str):\n",
    "    save_path = get_df_save_path(fc, fname)\n",
    "    print(save_path)\n",
    "    pd.to_pickle(df, save_path)\n"
   ],
   "metadata": {
    "collapsed": false
   }
  },
  {
   "cell_type": "code",
   "execution_count": 6,
   "metadata": {
    "ExecuteTime": {
     "end_time": "2023-08-18T13:12:09.504083Z",
     "start_time": "2023-08-18T13:12:09.322595Z"
    }
   },
   "outputs": [],
   "source": [
    "with initialize(config_path='../configuration', version_base='1.1'):\n",
    "    config = compose(config_name='main.yaml')"
   ]
  },
  {
   "cell_type": "code",
   "execution_count": 7,
   "metadata": {
    "ExecuteTime": {
     "end_time": "2023-08-18T13:12:13.140093Z",
     "start_time": "2023-08-18T13:12:12.554172Z"
    }
   },
   "outputs": [
    {
     "name": "stdout",
     "output_type": "stream",
     "text": [
      "IMPORTING: ifad_tunesia with version EndlineFINALV106_1. \n",
      "ifad_tunesia with version EndlineFINALV106_1 loaded. \n",
      "Paradata shape: (714348, 50) Questionnaires shape: (410, 38) Microdata shape: (283454, 43) \n"
     ]
    }
   ],
   "source": [
    "features_class = UnitDataProcessing(config)"
   ]
  },
  {
   "cell_type": "code",
   "execution_count": 8,
   "metadata": {
    "ExecuteTime": {
     "end_time": "2023-08-18T13:12:32.725424Z",
     "start_time": "2023-08-18T13:12:32.644454Z"
    }
   },
   "outputs": [],
   "source": [
    "#df_paradata = features_class.df_paradata"
   ]
  },
  {
   "cell_type": "code",
   "execution_count": 9,
   "metadata": {
    "ExecuteTime": {
     "end_time": "2023-08-17T17:55:50.922321Z",
     "start_time": "2023-08-17T17:55:47.626733Z"
    }
   },
   "outputs": [],
   "source": [
    "df_item = features_class.df_item"
   ]
  },
  {
   "cell_type": "code",
   "execution_count": 10,
   "outputs": [],
   "source": [
    "df_unit = features_class.df_unit"
   ],
   "metadata": {
    "collapsed": false
   }
  },
  {
   "cell_type": "code",
   "execution_count": 11,
   "outputs": [
    {
     "name": "stderr",
     "output_type": "stream",
     "text": [
      "D:\\Workspace\\Python\\proj\\mlss\\mlss\\src\\unit_proccessing.py:163: PerformanceWarning: DataFrame is highly fragmented.  This is usually the result of calling `frame.insert` many times, which has poor performance.  Consider joining all columns at once using pd.concat(axis=1) instead. To get a de-fragmented frame, use `newframe = frame.copy()`\n",
      "  data['total_lower'] = data[lower_columns].sum(1)\n",
      "D:\\Workspace\\Python\\proj\\mlss\\mlss\\src\\unit_proccessing.py:164: PerformanceWarning: DataFrame is highly fragmented.  This is usually the result of calling `frame.insert` many times, which has poor performance.  Consider joining all columns at once using pd.concat(axis=1) instead. To get a de-fragmented frame, use `newframe = frame.copy()`\n",
      "  data['total_upper'] = data[upper_columns].sum(1)\n"
     ]
    }
   ],
   "source": [
    "df_unit_score = features_class.df_unit_score"
   ],
   "metadata": {
    "collapsed": false
   }
  },
  {
   "cell_type": "code",
   "execution_count": 23,
   "outputs": [
    {
     "name": "stdout",
     "output_type": "stream",
     "text": [
      "../data/raw\\ifad_tunesia\\EndlineFINALV106_1\\processed_data\\df_item.pkl\n",
      "../data/raw\\ifad_tunesia\\EndlineFINALV106_1\\processed_data\\df_unit.pkl\n",
      "../data/raw\\ifad_tunesia\\EndlineFINALV106_1\\processed_data\\df_unit_score.pkl\n"
     ]
    }
   ],
   "source": [
    "save_df(features_class, df_item, 'df_item.pkl')\n",
    "save_df(features_class, df_unit, 'df_unit.pkl')\n",
    "save_df(features_class, df_unit_score, 'df_unit_score.pkl')"
   ],
   "metadata": {
    "collapsed": false
   }
  }
 ],
 "metadata": {
  "kernelspec": {
   "name": "python3",
   "language": "python",
   "display_name": "Python 3 (ipykernel)"
  },
  "language_info": {
   "codemirror_mode": {
    "name": "ipython",
    "version": 2
   },
   "file_extension": ".py",
   "mimetype": "text/x-python",
   "name": "python",
   "nbconvert_exporter": "python",
   "pygments_lexer": "ipython2",
   "version": "2.7.6"
  }
 },
 "nbformat": 4,
 "nbformat_minor": 0
}
