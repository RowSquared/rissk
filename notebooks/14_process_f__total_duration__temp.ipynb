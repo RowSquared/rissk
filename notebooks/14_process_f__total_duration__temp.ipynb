{
 "cells": [
  {
   "cell_type": "code",
   "execution_count": null,
   "metadata": {
    "ExecuteTime": {
     "end_time": "2023-08-28T01:15:47.962036Z",
     "start_time": "2023-08-28T01:15:47.468378Z"
    }
   },
   "outputs": [],
   "source": [
    "import pandas as pd\n",
    "from utils.import_utils import *\n",
    "from hydra import initialize, initialize_config_module, initialize_config_dir, compose\n",
    "from src.unit_proccessing import  *\n",
    "from src.utils.stats_utils import *\n",
    "import plotly.express as px\n",
    "import seaborn as sns\n",
    "import pandas as pd\n",
    "import matplotlib.pyplot as plt\n",
    "from pyod.models.ecod import ECOD\n",
    "from pythresh.thresholds.hist import HIST\n",
    "from pythresh.thresholds.hist import HIST\n",
    "from pythresh.thresholds.filter import FILTER"
   ]
  },
  {
   "cell_type": "code",
   "execution_count": null,
   "metadata": {
    "ExecuteTime": {
     "end_time": "2023-08-28T01:15:48.193301Z",
     "start_time": "2023-08-28T01:15:47.962823Z"
    }
   },
   "outputs": [],
   "source": [
    "with initialize(config_path='../configuration', version_base='1.1'):\n",
    "    config = compose(config_name='main.yaml')"
   ]
  },
  {
   "cell_type": "code",
   "execution_count": null,
   "metadata": {
    "ExecuteTime": {
     "end_time": "2023-08-28T01:15:51.039052Z",
     "start_time": "2023-08-28T01:15:48.703801Z"
    }
   },
   "outputs": [],
   "source": [
    "features_class = UnitDataProcessing(config)"
   ]
  },
  {
   "cell_type": "code",
   "execution_count": null,
   "metadata": {
    "ExecuteTime": {
     "end_time": "2023-08-28T01:15:56.866015Z",
     "start_time": "2023-08-28T01:15:56.837166Z"
    }
   },
   "outputs": [],
   "source": [
    "df_unit = features_class.df_unit\n",
    "self = features_class\n",
    "feature_name = 'f__total_duration'\n",
    "df = df_unit[~pd.isnull(df_unit[feature_name])].copy()\n",
    "df[feature_name] = round(df[feature_name]/(3600/6))*10#/df_unit[~pd.isnull(df_unit[feature_name])]['f__number_answered']"
   ]
  },
  {
   "cell_type": "markdown",
   "metadata": {
    "collapsed": false
   },
   "source": [
    "## Plot the distribution of answer time set"
   ]
  },
  {
   "cell_type": "code",
   "execution_count": null,
   "metadata": {
    "ExecuteTime": {
     "end_time": "2023-08-28T01:15:58.377615Z",
     "start_time": "2023-08-28T01:15:58.244046Z"
    }
   },
   "outputs": [],
   "source": [
    "df[feature_name].hist(bins=48)"
   ]
  },
  {
   "cell_type": "markdown",
   "metadata": {
    "collapsed": false
   },
   "source": [
    "## USE ECOD algorithm that makes use of cumulative function and is non-parametric for detecting anomalies in answer time set"
   ]
  },
  {
   "cell_type": "code",
   "execution_count": null,
   "metadata": {
    "ExecuteTime": {
     "end_time": "2023-08-28T01:17:03.916599Z",
     "start_time": "2023-08-28T01:17:03.894896Z"
    }
   },
   "outputs": [],
   "source": [
    "model = ECOD(contamination=0.11)#FILTER(method='medfilt', random_state=42))\n",
    "model.fit(df[[feature_name]])"
   ]
  },
  {
   "cell_type": "code",
   "execution_count": null,
   "metadata": {
    "ExecuteTime": {
     "end_time": "2023-08-28T01:17:04.239315Z",
     "start_time": "2023-08-28T01:17:04.233416Z"
    }
   },
   "outputs": [],
   "source": [
    "from pythresh.thresholds.dsn import DSN\n",
    "from pythresh.thresholds.comb import COMB\n",
    "\n",
    "from pythresh.thresholds.yj import YJ\n",
    "decision_scores = model.decision_scores_  # raw outlier scores on the train data\n",
    "\n",
    "# get outlier labels\n",
    "#thres = HIST()\n",
    "#thres = DSN()\n",
    "thres = FILTER(method='medfilt', random_state=42)\n",
    "labels = thres.eval(decision_scores)\n",
    "thres.thresh_"
   ]
  },
  {
   "cell_type": "code",
   "execution_count": null,
   "metadata": {
    "ExecuteTime": {
     "end_time": "2023-08-28T01:17:04.815024Z",
     "start_time": "2023-08-28T01:17:04.806026Z"
    }
   },
   "outputs": [],
   "source": [
    "df['anomaly'] = model.predict(df[[feature_name]])\n",
    "df['anomaly'].value_counts(), df['anomaly'].value_counts()/df['anomaly'].count()"
   ]
  },
  {
   "cell_type": "code",
   "execution_count": null,
   "metadata": {
    "ExecuteTime": {
     "end_time": "2023-08-28T01:17:05.332667Z",
     "start_time": "2023-08-28T01:17:05.325958Z"
    }
   },
   "outputs": [],
   "source": [
    "df[df['anomaly']==0][feature_name].min(), df[df['anomaly']==0][feature_name].max()"
   ]
  },
  {
   "cell_type": "code",
   "execution_count": null,
   "metadata": {
    "ExecuteTime": {
     "end_time": "2023-08-28T01:17:05.887878Z",
     "start_time": "2023-08-28T01:17:05.878418Z"
    }
   },
   "outputs": [],
   "source": [
    "(0.011*3600*24)/60"
   ]
  },
  {
   "cell_type": "code",
   "execution_count": null,
   "metadata": {
    "ExecuteTime": {
     "end_time": "2023-08-28T01:17:06.439181Z",
     "start_time": "2023-08-28T01:17:06.432396Z"
    }
   },
   "outputs": [],
   "source": [
    "df['anomaly'].value_counts()"
   ]
  },
  {
   "cell_type": "code",
   "execution_count": null,
   "metadata": {
    "ExecuteTime": {
     "end_time": "2023-08-28T01:17:07.147736Z",
     "start_time": "2023-08-28T01:17:07.052347Z"
    }
   },
   "outputs": [],
   "source": [
    "data_true = df[df['anomaly']==0][feature_name]\n",
    "data_false = df[df['anomaly']==1][feature_name]\n",
    "\n",
    "# Determine the bin edges based on the entire dataset\n",
    "bins = np.histogram_bin_edges(df[feature_name], bins=48)\n",
    "\n",
    "\n",
    "plt.hist(data_true, bins=bins, alpha=0.5, color='blue', label='True')\n",
    "plt.hist(data_false, bins=bins, alpha=0.5, color='red', label='False')\n",
    "plt.show()"
   ]
  },
  {
   "cell_type": "code",
   "execution_count": null,
   "metadata": {
    "ExecuteTime": {
     "end_time": "2023-08-23T22:25:39.947452Z",
     "start_time": "2023-08-23T22:25:39.877743Z"
    }
   },
   "outputs": [],
   "source": [
    "sns.boxplot(df,y=feature_name, x='anomaly')\n",
    "plt.show()"
   ]
  },
  {
   "cell_type": "code",
   "execution_count": null,
   "metadata": {
    "ExecuteTime": {
     "end_time": "2023-08-23T22:27:20.598186Z",
     "start_time": "2023-08-23T22:27:11.449469Z"
    }
   },
   "outputs": [],
   "source": []
  },
  {
   "cell_type": "code",
   "execution_count": null,
   "metadata": {},
   "outputs": [],
   "source": []
  }
 ],
 "metadata": {
  "kernelspec": {
   "display_name": "mlss",
   "language": "python",
   "name": "mlss"
  },
  "language_info": {
   "codemirror_mode": {
    "name": "ipython",
    "version": 2
   },
   "file_extension": ".py",
   "mimetype": "text/x-python",
   "name": "python",
   "nbconvert_exporter": "python",
   "pygments_lexer": "ipython2",
   "version": "2.7.6"
  }
 },
 "nbformat": 4,
 "nbformat_minor": 0
}
