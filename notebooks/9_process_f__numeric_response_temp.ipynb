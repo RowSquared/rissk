{
 "cells": [
  {
   "cell_type": "code",
   "execution_count": null,
   "metadata": {
    "ExecuteTime": {
     "end_time": "2023-08-27T23:43:47.784909Z",
     "start_time": "2023-08-27T23:43:47.757041Z"
    }
   },
   "outputs": [],
   "source": [
    "%load_ext autoreload\n",
    "%autoreload 2"
   ]
  },
  {
   "cell_type": "code",
   "execution_count": null,
   "metadata": {
    "ExecuteTime": {
     "end_time": "2023-08-27T23:43:47.814801Z",
     "start_time": "2023-08-27T23:43:47.785060Z"
    }
   },
   "outputs": [],
   "source": [
    "%load_ext memory_profiler"
   ]
  },
  {
   "cell_type": "code",
   "execution_count": null,
   "metadata": {
    "ExecuteTime": {
     "end_time": "2023-08-27T23:43:48.367994Z",
     "start_time": "2023-08-27T23:43:47.815304Z"
    }
   },
   "outputs": [],
   "source": [
    "import pandas as pd\n",
    "from utils.import_utils import *\n",
    "from hydra import initialize, initialize_config_module, initialize_config_dir, compose\n",
    "from src.feature_processing import *\n",
    "from src.unit_proccessing import  *\n",
    "from src.utils.stats_utils import *\n",
    "import plotly.express as px\n",
    "import seaborn as sns\n",
    "import pandas as pd\n",
    "import matplotlib.pyplot as plt"
   ]
  },
  {
   "cell_type": "code",
   "execution_count": null,
   "metadata": {
    "ExecuteTime": {
     "end_time": "2023-08-27T23:43:48.631040Z",
     "start_time": "2023-08-27T23:43:48.368145Z"
    }
   },
   "outputs": [],
   "source": [
    "with initialize(config_path='../configuration', version_base='1.1'):\n",
    "    config = compose(config_name='main.yaml')"
   ]
  },
  {
   "cell_type": "code",
   "execution_count": null,
   "metadata": {
    "ExecuteTime": {
     "end_time": "2023-08-27T23:44:08.332584Z",
     "start_time": "2023-08-27T23:43:48.631509Z"
    }
   },
   "outputs": [],
   "source": [
    "features_class = UnitDataProcessing(config)\n",
    "self = features_class"
   ]
  },
  {
   "cell_type": "code",
   "execution_count": null,
   "metadata": {
    "ExecuteTime": {
     "end_time": "2023-08-27T23:44:11.456623Z",
     "start_time": "2023-08-27T23:44:08.330852Z"
    }
   },
   "outputs": [],
   "source": [
    "df_item = features_class.df_item.copy()\n",
    "df_unit = features_class.df_unit.copy()"
   ]
  },
  {
   "cell_type": "code",
   "execution_count": null,
   "metadata": {
    "ExecuteTime": {
     "end_time": "2023-08-27T23:55:09.760101Z",
     "start_time": "2023-08-27T23:55:09.566029Z"
    }
   },
   "outputs": [],
   "source": [
    "feature_name = 'f__numeric_response'\n",
    "score_name = 's__numeric_response'\"\"\n",
    "df = df_item[~pd.isnull(df_item[feature_name])].copy()\n",
    "\n",
    "valid_variables = df.groupby('variable_name').filter(lambda group: len(group[feature_name].unique()) >= 3 and len(group) > 100)\n",
    "\n",
    "# Get the unique variable names that meet the conditions\n",
    "variables = valid_variables['variable_name'].unique()\n",
    "\n",
    "#pivot_table, index_col = self.get_clean_pivot_table(feature_name,remove_low_freq_col=True)"
   ]
  },
  {
   "cell_type": "code",
   "execution_count": null,
   "metadata": {
    "ExecuteTime": {
     "end_time": "2023-08-25T23:53:44.455740Z",
     "start_time": "2023-08-25T23:53:44.063201Z"
    }
   },
   "outputs": [],
   "source": [
    "for index_range in range(0, len(variables), 50):\n",
    "    plt.figure(figsize=(15, 6))\n",
    "    sns.boxplot(df[df['variable_name'].isin(variables[index_range:index_range+50])],x='variable_name', y=feature_name)\n",
    "    plt.xticks(rotation=90)\n",
    "    plt.show()"
   ]
  },
  {
   "cell_type": "code",
   "execution_count": null,
   "metadata": {
    "ExecuteTime": {
     "end_time": "2023-08-27T23:58:28.254793Z",
     "start_time": "2023-08-27T23:58:28.147462Z"
    }
   },
   "outputs": [],
   "source": [
    "from scipy.stats import ks_2samp\n",
    "\n",
    "def km_test(dist1, dist2, minimum_sample = 50):\n",
    "    score = None\n",
    "    if dist1.shape[0] >= minimum_sample and dist2.shape[0] >= minimum_sample: \n",
    "        stat, p = ks_2samp(dist1, dist2)\n",
    "        score = 0\n",
    "        alpha = 0.05\n",
    "        if p < alpha:\n",
    "            score = 1\n",
    "    return score"
   ]
  },
  {
   "cell_type": "code",
   "execution_count": null,
   "metadata": {
    "ExecuteTime": {
     "end_time": "2023-08-27T23:58:35.287417Z",
     "start_time": "2023-08-27T23:58:33.168518Z"
    }
   },
   "outputs": [],
   "source": [
    "for var in variables:\n",
    "    mask1 = (df['variable_name']==var) \n",
    "    for resp in df['responsible'].unique():\n",
    "        mask2 = (df['responsible']==resp)\n",
    "        df.loc[mask1 & mask2,score_name] = km_test(df[mask1 & mask2][feature_name], df[mask1 & (~mask2)][feature_name])"
   ]
  },
  {
   "cell_type": "code",
   "execution_count": null,
   "metadata": {
    "ExecuteTime": {
     "end_time": "2023-08-27T23:59:01.095994Z",
     "start_time": "2023-08-27T23:59:00.913038Z"
    }
   },
   "outputs": [],
   "source": [
    "data = df.groupby(['responsible','variable_name']).agg({score_name: 'mean'})\n",
    "data = data.reset_index()\n",
    "entropy_ = data.groupby('responsible')[score_name].mean()\n",
    "entropy_.plot(kind='bar')\n",
    "plt.title('entropy__answer_position')\n",
    "plt.show()"
   ]
  },
  {
   "cell_type": "code",
   "execution_count": null,
   "metadata": {
    "ExecuteTime": {
     "end_time": "2023-08-28T00:05:58.061601Z",
     "start_time": "2023-08-28T00:05:57.905701Z"
    }
   },
   "outputs": [],
   "source": [
    "resp = 'SlahF_int'\n",
    "var = 'time_collect_water'\n",
    "mask1 = (df['variable_name']==var) \n",
    "mask2 = (df['responsible']==resp)\n",
    "\n",
    "bins = np.histogram_bin_edges(df[mask1][feature_name], bins=4)\n",
    "no_anomaly_df = df[mask1 & mask2][feature_name]\n",
    "anomaly_df = df[mask1 & (~mask2)][feature_name]\n",
    "fig,  ax = plt.subplots(1,2)\n",
    "ax[0].hist(no_anomaly_df, bins=bins, alpha=0.5, color='blue', label='True')\n",
    "ax[1].hist(anomaly_df, bins=bins, alpha=0.5, color='red', label='False')\n",
    "plt.title(var)\n",
    "plt.show()"
   ]
  },
  {
   "cell_type": "code",
   "execution_count": null,
   "metadata": {
    "ExecuteTime": {
     "end_time": "2023-08-28T00:08:44.244738Z",
     "start_time": "2023-08-28T00:08:40.746697Z"
    }
   },
   "outputs": [],
   "source": [
    "for var in variables:\n",
    "    mask = (df['variable_name']==var) \n",
    "    mask1 = (df[feature_name]!=0) \n",
    "    model = ECOD()\n",
    "    df.loc[mask,score_name] = model.fit_predict(df[mask][[feature_name]])\n",
    "    if df[(df[feature_name]==0)&mask][score_name].sum()>0:\n",
    "        print(df[mask][feature_name].value_counts())\n",
    "    bins = np.histogram_bin_edges(df[mask&mask1][feature_name], bins=12)\n",
    "    no_anomaly_df = df[(df[score_name]==0)&mask&mask1][feature_name]\n",
    "    anomaly_df = df[(df[score_name]==1)&mask&mask1][feature_name]\n",
    "    \n",
    "    plt.hist(no_anomaly_df, bins=bins, alpha=0.5, color='blue', label='True')\n",
    "    plt.hist(anomaly_df, bins=bins, alpha=0.5, color='red', label='False')\n",
    "    plt.title(var)\n",
    "    plt.show()"
   ]
  },
  {
   "cell_type": "code",
   "execution_count": null,
   "metadata": {
    "ExecuteTime": {
     "end_time": "2023-08-26T00:01:39.011180Z",
     "start_time": "2023-08-26T00:01:37.732332Z"
    }
   },
   "outputs": [],
   "source": [
    "\n",
    "from pyod.models.pca import PCA\n",
    "score_name = feature_name.replace('f__', '__')\n",
    "df_item[score_name] = 0 \n",
    "df[score_name] = 0 \n",
    "for col in variables:\n",
    "    model = PCA()#contamination=FILTER())\n",
    "    model.fit(df[df['variable_name'] == col][[feature_name]])\n",
    "    prediction = model.predict(df[df['variable_name'] == col][[feature_name]])\n",
    "    df.loc[df['variable_name'] == col, score_name] = prediction\n",
    "    indices = df[df['variable_name'] == col].index\n",
    "    df_item.loc[indices, score_name] = prediction\n",
    "    \n",
    "    print(col,\n",
    "          'min VALUE', df_item[(df_item['variable_name']==col) & (df_item[score_name]==0)][feature_name].min(), \n",
    "          '--', df_item[(df_item['variable_name']==col)][feature_name].min(), \n",
    "          'max VALUE', df_item[(df_item['variable_name']==col) & (df_item[score_name]==0)][feature_name].max(),\n",
    "          '--', df_item[(df_item['variable_name']==col)][feature_name].max())\n"
   ]
  },
  {
   "cell_type": "code",
   "execution_count": null,
   "metadata": {
    "ExecuteTime": {
     "end_time": "2023-08-25T23:53:58.284093Z",
     "start_time": "2023-08-25T23:53:58.235547Z"
    }
   },
   "outputs": [],
   "source": [
    "df[df['variable_name'] == 'nr_hh_assets_own'][[feature_name,score_name]]"
   ]
  },
  {
   "cell_type": "code",
   "execution_count": null,
   "metadata": {
    "ExecuteTime": {
     "end_time": "2023-08-26T00:02:13.251380Z",
     "start_time": "2023-08-26T00:02:13.141136Z"
    }
   },
   "outputs": [],
   "source": [
    "df_item[df_item['variable_name'] == 'age_adult'][feature_name].value_counts()"
   ]
  },
  {
   "cell_type": "code",
   "execution_count": null,
   "metadata": {},
   "outputs": [],
   "source": []
  }
 ],
 "metadata": {
  "kernelspec": {
   "display_name": "mlss",
   "language": "python",
   "name": "mlss"
  },
  "language_info": {
   "codemirror_mode": {
    "name": "ipython",
    "version": 2
   },
   "file_extension": ".py",
   "mimetype": "text/x-python",
   "name": "python",
   "nbconvert_exporter": "python",
   "pygments_lexer": "ipython2",
   "version": "2.7.6"
  }
 },
 "nbformat": 4,
 "nbformat_minor": 0
}
