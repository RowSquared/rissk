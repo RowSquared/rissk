{
 "cells": [
  {
   "cell_type": "code",
   "execution_count": null,
   "metadata": {
    "ExecuteTime": {
     "end_time": "2023-08-28T00:57:46.716501Z",
     "start_time": "2023-08-28T00:57:46.704343Z"
    }
   },
   "outputs": [],
   "source": [
    "import pandas as pd\n",
    "from utils.import_utils import *\n",
    "from hydra import initialize, initialize_config_module, initialize_config_dir, compose\n",
    "from src.unit_proccessing import  *\n",
    "from src.utils.stats_utils import *\n",
    "import plotly.express as px\n",
    "import seaborn as sns\n",
    "import pandas as pd\n",
    "import matplotlib.pyplot as plt\n",
    "from pyod.models.ecod import ECOD\n",
    "from pythresh.thresholds.hist import HIST\n",
    "from pythresh.thresholds.hist import HIST\n",
    "from pythresh.thresholds.filter import FILTER"
   ]
  },
  {
   "cell_type": "code",
   "execution_count": null,
   "metadata": {
    "ExecuteTime": {
     "end_time": "2023-08-28T00:57:47.006784Z",
     "start_time": "2023-08-28T00:57:46.955242Z"
    }
   },
   "outputs": [],
   "source": [
    "with initialize(config_path='../configuration', version_base='1.1'):\n",
    "    config = compose(config_name='main.yaml')"
   ]
  },
  {
   "cell_type": "code",
   "execution_count": null,
   "metadata": {
    "ExecuteTime": {
     "end_time": "2023-08-28T00:57:49.369886Z",
     "start_time": "2023-08-28T00:57:47.134829Z"
    }
   },
   "outputs": [],
   "source": [
    "features_class = UnitDataProcessing(config)"
   ]
  },
  {
   "cell_type": "code",
   "execution_count": null,
   "metadata": {
    "ExecuteTime": {
     "end_time": "2023-08-28T00:57:49.404095Z",
     "start_time": "2023-08-28T00:57:49.370848Z"
    }
   },
   "outputs": [],
   "source": [
    "df_unit = features_class.df_unit\n",
    "self = features_class\n",
    "feature_name = 'f__pause_duration'\n",
    "df = df_unit[(~pd.isnull(df_unit[feature_name]))].copy()\n",
    "df[feature_name] = df[feature_name].astype(float)\n",
    "df[feature_name] = round(df[feature_name]/(3600*2),0)\n",
    "df[feature_name] = df[feature_name].apply(lambda x: round(x/12)*12 if x>12 else x)\n",
    "#.apply(transform_duartion)#/df_unit[~pd.isnull(df_unit[feature_name])]['f__number_answered']\n",
    "#/df_unit[~pd.isnull(df_unit[feature_name])]['f__number_answered']"
   ]
  },
  {
   "cell_type": "markdown",
   "metadata": {
    "collapsed": false
   },
   "source": [
    "|## Plot the distribution of answer time set"
   ]
  },
  {
   "cell_type": "code",
   "execution_count": null,
   "metadata": {
    "ExecuteTime": {
     "end_time": "2023-08-28T00:57:52.798583Z",
     "start_time": "2023-08-28T00:57:52.759189Z"
    }
   },
   "outputs": [],
   "source": [
    "df = self.get_df_pause()\n",
    "df[feature_name] = round(df[feature_name]/(3600),0)\n",
    "df[feature_name] = df[feature_name].apply(lambda x: round(x/24)*24 if x>24 else x)"
   ]
  },
  {
   "cell_type": "code",
   "execution_count": null,
   "metadata": {
    "ExecuteTime": {
     "end_time": "2023-08-28T00:57:53.865336Z",
     "start_time": "2023-08-28T00:57:53.712045Z"
    }
   },
   "outputs": [],
   "source": [
    "df[feature_name].hist()"
   ]
  },
  {
   "cell_type": "markdown",
   "metadata": {
    "collapsed": false
   },
   "source": [
    "## USE ECOD algorithm that makes use of cumulative function and is non-parametric for detecting anomalies in answer time set"
   ]
  },
  {
   "cell_type": "code",
   "execution_count": null,
   "metadata": {
    "ExecuteTime": {
     "end_time": "2023-08-28T00:59:40.406811Z",
     "start_time": "2023-08-28T00:59:40.376309Z"
    }
   },
   "outputs": [],
   "source": [
    "from pyod.models.mad import MAD\n",
    "from  pyod.models.iforest import IForest #NO\n",
    "from  pyod.models.gmm import GMM #NO\n",
    "from  pyod.models.copod import COPOD#NO\n",
    "from  pyod.models.qmcd import QMCD # NO\n",
    "from  pyod.models.cof import COF\n",
    "from  pyod.models.cblof import CBLOF#NO\n",
    "from  pyod.models.hbos import HBOS#NO\n",
    "from  pyod.models.inne import INNE #NO\n",
    "from  pyod.models.lscp import LSCP#NO\n",
    "from  pyod.models.lmdd import LMDD #NO\n",
    "from  pyod.models.lof import LOF #NO\n",
    "model = COF(contamination=0.11)#FILTER( random_state=42))\n",
    "#model = ECOD(contamination=FILTER(method='medfilt', random_state=42))\n",
    "#model = MAD(threshold=2.5)\n",
    "#model.fit(df[df['f__time_changed']>=0][[feature_name]])\n",
    "model.fit(df[[feature_name]])"
   ]
  },
  {
   "cell_type": "code",
   "execution_count": null,
   "metadata": {
    "ExecuteTime": {
     "end_time": "2023-08-28T00:59:41.002430Z",
     "start_time": "2023-08-28T00:59:40.994360Z"
    }
   },
   "outputs": [],
   "source": [
    "from pythresh.thresholds.dsn import DSN\n",
    "from pythresh.thresholds.comb import COMB\n",
    "\n",
    "\n",
    "from pythresh.thresholds.yj import YJ\n",
    "decision_scores = model.decision_scores_  # raw outlier scores on the train data\n",
    "\n",
    "# get outlier labels\n",
    "#thres = HIST()\n",
    "#thres = DSN()\n",
    "thres = FILTER( random_state=42)\n",
    "labels = thres.eval(decision_scores)\n",
    "thres.thresh_"
   ]
  },
  {
   "cell_type": "code",
   "execution_count": null,
   "metadata": {
    "ExecuteTime": {
     "end_time": "2023-08-28T00:59:41.695379Z",
     "start_time": "2023-08-28T00:59:41.669295Z"
    }
   },
   "outputs": [],
   "source": [
    "df['anomaly'] = model.predict(df[[feature_name]])"
   ]
  },
  {
   "cell_type": "code",
   "execution_count": null,
   "metadata": {
    "ExecuteTime": {
     "end_time": "2023-08-28T00:59:42.813074Z",
     "start_time": "2023-08-28T00:59:42.801480Z"
    }
   },
   "outputs": [],
   "source": [
    "df['anomaly'].value_counts(), df['anomaly'].value_counts()/df['anomaly'].count()"
   ]
  },
  {
   "cell_type": "code",
   "execution_count": null,
   "metadata": {
    "ExecuteTime": {
     "end_time": "2023-08-28T00:58:16.339997Z",
     "start_time": "2023-08-28T00:58:16.326834Z"
    }
   },
   "outputs": [],
   "source": [
    "df[df['anomaly']==0][feature_name].min(), df[df['anomaly']==0][feature_name].max()"
   ]
  },
  {
   "cell_type": "code",
   "execution_count": null,
   "metadata": {
    "ExecuteTime": {
     "end_time": "2023-08-28T00:58:18.643627Z",
     "start_time": "2023-08-28T00:58:18.637999Z"
    }
   },
   "outputs": [],
   "source": [
    "#df.loc[ df[feature_name]<df[df['anomaly']==0][feature_name].max(), 'anomaly'] =0\n",
    "df['anomaly'].value_counts()"
   ]
  },
  {
   "cell_type": "code",
   "execution_count": null,
   "metadata": {
    "ExecuteTime": {
     "end_time": "2023-08-28T00:58:20.436968Z",
     "start_time": "2023-08-28T00:58:20.312865Z"
    }
   },
   "outputs": [],
   "source": [
    "c=12*31#48*5\n",
    "data_true = df[(df['anomaly']==0)&(df[feature_name]<c)][feature_name]/12\n",
    "data_false = df[(df['anomaly']==1)&(df[feature_name]<c)][feature_name]/12\n",
    "\n",
    "# Determine the bin edges based on the entire dataset\n",
    "bins = np.histogram_bin_edges(df[(df[feature_name]<c)][feature_name]/12, bins=48)\n",
    "\n",
    "\n",
    "plt.hist(data_true, bins=bins, alpha=0.5, color='blue', label='True')\n",
    "plt.hist(data_false, bins=bins, alpha=0.5, color='red', label='False')\n",
    "plt.show()"
   ]
  },
  {
   "cell_type": "code",
   "execution_count": null,
   "metadata": {
    "is_executing": true
   },
   "outputs": [],
   "source": [
    "sns.boxplot(df,y=feature_name, x='anomaly')\n",
    "plt.show()"
   ]
  },
  {
   "cell_type": "code",
   "execution_count": null,
   "metadata": {
    "is_executing": true
   },
   "outputs": [],
   "source": [
    "bins = np.histogram_bin_edges(df[df[feature_name]<df[df['anomaly']==0][feature_name].max()][feature_name], bins=48)\n",
    "plt.hist(df[df[feature_name]<df[df['anomaly']==0][feature_name].max()][feature_name], bins=bins, alpha=0.5, color='blue', label='True')\n",
    "plt.show()"
   ]
  },
  {
   "cell_type": "code",
   "execution_count": null,
   "metadata": {
    "is_executing": true
   },
   "outputs": [],
   "source": [
    "df.groupby('survey_version').anomaly.value_counts()"
   ]
  },
  {
   "cell_type": "code",
   "execution_count": null,
   "metadata": {
    "is_executing": true
   },
   "outputs": [],
   "source": []
  }
 ],
 "metadata": {
  "kernelspec": {
   "display_name": "mlss",
   "language": "python",
   "name": "mlss"
  },
  "language_info": {
   "codemirror_mode": {
    "name": "ipython",
    "version": 2
   },
   "file_extension": ".py",
   "mimetype": "text/x-python",
   "name": "python",
   "nbconvert_exporter": "python",
   "pygments_lexer": "ipython2",
   "version": "2.7.6"
  }
 },
 "nbformat": 4,
 "nbformat_minor": 0
}
