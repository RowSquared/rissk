{
 "cells": [
  {
   "cell_type": "code",
   "execution_count": null,
   "metadata": {
    "ExecuteTime": {
     "end_time": "2023-08-29T15:16:21.246325Z",
     "start_time": "2023-08-29T15:16:21.244355Z"
    }
   },
   "outputs": [],
   "source": [
    "from hydra import initialize, initialize_config_module, initialize_config_dir, compose\n",
    "from src.unit_proccessing import  *\n",
    "import seaborn as sns\n",
    "import pandas as pd\n",
    "import matplotlib.pyplot as plt"
   ]
  },
  {
   "cell_type": "code",
   "execution_count": null,
   "metadata": {
    "ExecuteTime": {
     "end_time": "2023-08-29T15:16:21.777557Z",
     "start_time": "2023-08-29T15:16:21.730659Z"
    }
   },
   "outputs": [],
   "source": [
    "with initialize(config_path='../configuration', version_base='1.1'):\n",
    "    config = compose(config_name='main.yaml')"
   ]
  },
  {
   "cell_type": "code",
   "execution_count": null,
   "metadata": {
    "ExecuteTime": {
     "end_time": "2023-08-29T15:16:43.516054Z",
     "start_time": "2023-08-29T15:16:22.966493Z"
    }
   },
   "outputs": [],
   "source": [
    "features_class = ItemFeatureProcessing(config)"
   ]
  },
  {
   "cell_type": "markdown",
   "metadata": {
    "collapsed": false
   },
   "source": [
    "# Answer Removed ITEM Level Processing\n"
   ]
  },
  {
   "cell_type": "code",
   "execution_count": null,
   "metadata": {
    "ExecuteTime": {
     "end_time": "2023-08-29T15:16:43.551286Z",
     "start_time": "2023-08-29T15:16:43.538504Z"
    }
   },
   "outputs": [],
   "source": [
    "self = features_class\n",
    "feature_name = 'f__answer_removed'\n",
    "score_name = 's__answer_changed'\n",
    "df = self.get_feature_item__answer_removed(feature_name)\n",
    "df = df[~pd.isnull(df[feature_name])].copy()"
   ]
  },
  {
   "cell_type": "code",
   "execution_count": null,
   "metadata": {
    "ExecuteTime": {
     "end_time": "2023-08-29T15:16:43.556813Z",
     "start_time": "2023-08-29T15:16:43.551465Z"
    }
   },
   "outputs": [],
   "source": [
    "variables = list(df.variable_name.unique())"
   ]
  },
  {
   "cell_type": "code",
   "execution_count": null,
   "metadata": {
    "ExecuteTime": {
     "end_time": "2023-08-29T15:16:43.649576Z",
     "start_time": "2023-08-29T15:16:43.556072Z"
    }
   },
   "outputs": [],
   "source": [
    "from pyod.models.ecod import ECOD\n",
    "model = ECOD(contamination=0.1)\n",
    "\n",
    "df[score_name] = None\n",
    "df['value'] = None\n",
    "for index_range in range(0, len(variables)):\n",
    "    mask = (df['variable_name'] == variables[index_range])\n",
    "    #df.loc[mask,score_name] = model.fit_predict(df[mask][[feature_name]])\n",
    "    df.loc[mask,'value'] = df[mask][feature_name].apply(lambda x: 5 if x>5 else x)"
   ]
  },
  {
   "cell_type": "code",
   "execution_count": null,
   "metadata": {
    "ExecuteTime": {
     "end_time": "2023-08-29T15:16:44.197644Z",
     "start_time": "2023-08-29T15:16:43.652935Z"
    }
   },
   "outputs": [],
   "source": [
    "for var in variables:\n",
    "    mask = (df['variable_name'] == var)\n",
    "\n",
    "    model = ECOD(contamination=0.11)\n",
    "    model.fit(df[mask][[feature_name]])\n",
    "    df.loc[mask, score_name] = model.predict(df[mask][[feature_name]])"
   ]
  },
  {
   "cell_type": "code",
   "execution_count": null,
   "metadata": {
    "ExecuteTime": {
     "end_time": "2023-08-29T15:16:44.199299Z",
     "start_time": "2023-08-29T15:16:44.195490Z"
    }
   },
   "outputs": [],
   "source": [
    "print(df[score_name].value_counts(), df[score_name].value_counts()/df[score_name].count())"
   ]
  },
  {
   "cell_type": "code",
   "execution_count": null,
   "metadata": {
    "ExecuteTime": {
     "end_time": "2023-08-29T15:16:47.085164Z",
     "start_time": "2023-08-29T15:16:44.199580Z"
    }
   },
   "outputs": [],
   "source": [
    "mask = df['value']>0\n",
    "for index_range in [x for x in range(0, len(variables), 50)]:\n",
    "    plt.figure(figsize=(15, 6))\n",
    "    sns.boxplot(df[(df['variable_name'].isin(variables[index_range:index_range+50]))&mask],x='variable_name', y='value', hue=score_name)\n",
    "    plt.xticks(rotation=90)\n",
    "    plt.show()"
   ]
  },
  {
   "cell_type": "markdown",
   "metadata": {
    "collapsed": false
   },
   "source": [
    "# Answer Removed UNIT Level Processing\n"
   ]
  },
  {
   "cell_type": "code",
   "execution_count": null,
   "metadata": {
    "ExecuteTime": {
     "end_time": "2023-08-29T15:16:47.182412Z",
     "start_time": "2023-08-29T15:16:47.086109Z"
    }
   },
   "outputs": [],
   "source": [
    "# Plot the anomalies in answer_changed by interview__id  in the calculation it fill by zero empty values as it would imply \"no anmalies detected\"\n",
    "data = df.groupby(['interview__id'])[score_name].mean()\n",
    "data = data.reset_index()\n",
    "data[score_name].hist()"
   ]
  },
  {
   "cell_type": "code",
   "execution_count": null,
   "metadata": {
    "ExecuteTime": {
     "end_time": "2023-08-26T17:08:33.647667Z",
     "start_time": "2023-08-26T17:08:33.611045Z"
    }
   },
   "outputs": [],
   "source": [
    "sns.boxplot(data,y=score_name)\n",
    "plt.show()"
   ]
  },
  {
   "cell_type": "code",
   "execution_count": null,
   "metadata": {
    "ExecuteTime": {
     "end_time": "2023-08-26T17:08:33.648434Z",
     "start_time": "2023-08-26T17:08:33.645497Z"
    }
   },
   "outputs": [],
   "source": [
    "total_unit = data['interview__id'].count()\n",
    "mean_value = data[score_name].mean()\n",
    "print(f\" Total UNITS: {total_unit}, with an average of removed {mean_value}\")"
   ]
  },
  {
   "cell_type": "code",
   "execution_count": null,
   "metadata": {
    "ExecuteTime": {
     "end_time": "2023-08-26T17:08:33.792497Z",
     "start_time": "2023-08-26T17:08:33.650663Z"
    }
   },
   "outputs": [],
   "source": [
    "data = df.groupby(['interview__id','responsible'])[score_name].sum() / df.groupby(['interview__id','responsible'])[score_name].count()\n",
    "data = data.reset_index()\n",
    "\n",
    "resp_df = {}\n",
    "for resp in data['responsible'].unique():\n",
    "    mask = (data['responsible']==resp)\n",
    "\n",
    "    total_unit = data[mask]['interview__id'].count()\n",
    "    mean_value = data[mask][score_name].mean()\n",
    "    resp_df[resp] = [mean_value]\n",
    "    print(f\"{resp} - Total UNITS: {total_unit}, with an average of removed {mean_value}\")\n",
    "\n",
    "resp_df = pd.DataFrame.from_records(resp_df).T\n",
    "resp_df = resp_df.reset_index()\n",
    "resp_df.columns = ['responsible', 'perc']\n",
    "resp_df.set_index('responsible')['perc'].plot(kind='bar')"
   ]
  },
  {
   "cell_type": "code",
   "execution_count": null,
   "metadata": {},
   "outputs": [],
   "source": []
  }
 ],
 "metadata": {
  "kernelspec": {
   "display_name": "mlss",
   "language": "python",
   "name": "mlss"
  },
  "language_info": {
   "codemirror_mode": {
    "name": "ipython",
    "version": 2
   },
   "file_extension": ".py",
   "mimetype": "text/x-python",
   "name": "python",
   "nbconvert_exporter": "python",
   "pygments_lexer": "ipython2",
   "version": "2.7.6"
  }
 },
 "nbformat": 4,
 "nbformat_minor": 0
}
