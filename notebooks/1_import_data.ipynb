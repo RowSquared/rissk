{
 "cells": [
  {
   "cell_type": "code",
   "execution_count": null,
   "metadata": {
    "ExecuteTime": {
     "end_time": "2023-07-14T19:00:22.590255Z",
     "start_time": "2023-07-14T19:00:22.500531Z"
    }
   },
   "outputs": [],
   "source": [
    "# %load_ext autoreload\n",
    "# %autoreload 2"
   ]
  },
  {
   "cell_type": "code",
   "execution_count": null,
   "metadata": {
    "ExecuteTime": {
     "end_time": "2023-07-14T19:55:24.222931Z",
     "start_time": "2023-07-14T19:55:23.946912Z"
    }
   },
   "outputs": [],
   "source": [
    "import pandas as pd\n",
    "from utils.import_utils import *\n",
    "from hydra import initialize, initialize_config_module, initialize_config_dir, compose\n",
    "from omegaconf import OmegaConf"
   ]
  },
  {
   "cell_type": "code",
   "execution_count": null,
   "metadata": {
    "ExecuteTime": {
     "end_time": "2023-07-14T20:19:39.978720Z",
     "start_time": "2023-07-14T20:19:39.896153Z"
    }
   },
   "outputs": [],
   "source": [
    "with initialize(config_path='../configuration', version_base='1.1'):\n",
    "    config = compose(config_name='main.yaml')"
   ]
  },
  {
   "cell_type": "code",
   "execution_count": null,
   "metadata": {
    "ExecuteTime": {
     "end_time": "2023-07-14T20:19:40.244476Z",
     "start_time": "2023-07-14T20:19:40.242030Z"
    }
   },
   "outputs": [],
   "source": [
    "survey_list = SurveyManager(config)\n",
    "#survey_list.extract()"
   ]
  },
  {
   "cell_type": "code",
   "execution_count": null,
   "metadata": {
    "ExecuteTime": {
     "end_time": "2023-07-14T20:20:15.587531Z",
     "start_time": "2023-07-14T20:19:40.478975Z"
    }
   },
   "outputs": [],
   "source": [
    "dfs = survey_list.get_dataframes(save_to_disk=True, reload=True)"
   ]
  }
 ],
 "metadata": {
  "kernelspec": {
   "display_name": "mlss",
   "language": "python",
   "name": "mlss"
  },
  "language_info": {
   "codemirror_mode": {
    "name": "ipython",
    "version": 2
   },
   "file_extension": ".py",
   "mimetype": "text/x-python",
   "name": "python",
   "nbconvert_exporter": "python",
   "pygments_lexer": "ipython2",
   "version": "2.7.6"
  }
 },
 "nbformat": 4,
 "nbformat_minor": 0
}
