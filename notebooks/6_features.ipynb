{
 "cells": [
  {
   "cell_type": "markdown",
   "source": [
    "# Generate Features"
   ],
   "metadata": {
    "collapsed": false
   }
  },
  {
   "cell_type": "code",
   "execution_count": 69,
   "outputs": [
    {
     "name": "stdout",
     "output_type": "stream",
     "text": [
      "The autoreload extension is already loaded. To reload it, use:\n",
      "  %reload_ext autoreload\n"
     ]
    },
    {
     "name": "stderr",
     "output_type": "stream",
     "text": [
      "/Users/andreas/projects/mlss/venv/lib/python3.10/site-packages/hydra/_internal/defaults_list.py:251: UserWarning: In 'main.yaml': Defaults list is missing `_self_`. See https://hydra.cc/docs/1.2/upgrades/1.0_to_1.1/default_composition_order for more information\n",
      "  warnings.warn(msg, UserWarning)\n"
     ]
    }
   ],
   "source": [
    "%load_ext autoreload\n",
    "%autoreload 2\n",
    "import pandas as pd\n",
    "from utils.import_utils import *\n",
    "from hydra import initialize, initialize_config_module, initialize_config_dir, compose\n",
    "from omegaconf import OmegaConf\n",
    "with initialize(config_path='../configuration', version_base='1.1'):\n",
    "    config = compose(config_name='main.yaml')\n",
    "survey_list = SurveyManager(config)\n",
    "dfs_paradata, dfs_questionnaires, dfs_microdata = survey_list.get_dataframes(reload=True)"
   ],
   "metadata": {
    "collapsed": false,
    "ExecuteTime": {
     "end_time": "2023-07-10T16:36:56.141160Z",
     "start_time": "2023-07-10T16:36:09.823817Z"
    }
   }
  },
  {
   "cell_type": "code",
   "execution_count": 58,
   "outputs": [],
   "source": [
    "import numpy as np\n",
    "#group_columns = [col for col in dfs_microdata.columns if col.endswith(\"__id\")]+['survey_name', 'survey_version']\n",
    "feat_item = dfs_microdata[['variable', 'value', 'type', 'IsInteger', 'n_answers', 'answer_sequence']].copy()\n",
    "\n",
    "feat_item['value'].fillna('', inplace=True)\n",
    "\n",
    "text_question_mask = (feat_item['type'] == 'TextQuestion')\n",
    "numeric_question_mask = (feat_item['type'] == 'NumericQuestion') & (feat_item['value'] != '')\n",
    "decimal_question_mask = (feat_item['IsInteger'] == False) & (feat_item['value'] != '')\n"
   ],
   "metadata": {
    "collapsed": false,
    "ExecuteTime": {
     "end_time": "2023-07-10T16:16:21.063118Z",
     "start_time": "2023-07-10T16:16:19.917496Z"
    }
   }
  },
  {
   "cell_type": "code",
   "execution_count": 59,
   "outputs": [],
   "source": [
    "# f__string_length, length of string answer, if TextQuestions, empty if not\n",
    "feat_item['f__string_length'] = ''\n",
    "feat_item.loc[text_question_mask, 'f__string_length'] = feat_item.loc[text_question_mask, 'value'].str.len()"
   ],
   "metadata": {
    "collapsed": false,
    "ExecuteTime": {
     "end_time": "2023-07-10T16:16:24.740375Z",
     "start_time": "2023-07-10T16:16:24.682032Z"
    }
   }
  },
  {
   "cell_type": "code",
   "execution_count": 60,
   "outputs": [],
   "source": [
    "# f__first_digit, first digit of the response if numeric question, empty if not\n",
    "feat_item['f__first_digit'] = np.nan\n",
    "feat_item.loc[numeric_question_mask, 'f__first_digit'] = feat_item.loc[numeric_question_mask, 'value'].astype(str).str[0]"
   ],
   "metadata": {
    "collapsed": false,
    "ExecuteTime": {
     "end_time": "2023-07-10T16:16:25.652599Z",
     "start_time": "2023-07-10T16:16:25.592441Z"
    }
   }
  },
  {
   "cell_type": "code",
   "execution_count": 61,
   "outputs": [],
   "source": [
    "# f__last_digit, modulus of 10 of the response if numeric question, empty if not\n",
    "feat_item['f__last_digit'] = np.nan\n",
    "feat_item.loc[numeric_question_mask, 'f__last_digit'] = feat_item.loc[numeric_question_mask, 'value'].astype(float) % 10"
   ],
   "metadata": {
    "collapsed": false,
    "ExecuteTime": {
     "end_time": "2023-07-10T16:16:25.669556Z",
     "start_time": "2023-07-10T16:16:25.653237Z"
    }
   }
  },
  {
   "cell_type": "code",
   "execution_count": 71,
   "outputs": [],
   "source": [
    "# f__first_decimal, first decimal digit if numeric question, empty if not\n",
    "feat_item['f__first_decimal'] = np.nan\n",
    "values = feat_item.loc[decimal_question_mask, 'value'].astype(float)\n",
    "feat_item.loc[decimal_question_mask, 'f__first_decimal'] = np.floor(values * 10) % 10\n",
    "feat_item['f__first_decimal']=feat_item['f__first_decimal'].astype('Int64')"
   ],
   "metadata": {
    "collapsed": false,
    "ExecuteTime": {
     "end_time": "2023-07-10T18:46:19.470977Z",
     "start_time": "2023-07-10T18:46:19.309870Z"
    }
   }
  },
  {
   "cell_type": "code",
   "execution_count": 68,
   "outputs": [],
   "source": [
    "# f__rel_answer_position, relative position of the selected answer\n",
    "feat_item['f__rel_answer_position'] = np.nan\n",
    "single_question_mask = feat_item['n_answers'] > 2 # only questions with more than two answers\n",
    "feat_item.loc[single_question_mask, 'f__answer_position'] = feat_item.loc[single_question_mask].apply(lambda row: row['answer_sequence'].index(int(row['value'])) if (row['value'] in row['answer_sequence']) and pd.notnull(row['value']) else None, axis=1)\n"
   ],
   "metadata": {
    "collapsed": false,
    "ExecuteTime": {
     "end_time": "2023-07-10T16:33:05.914103Z",
     "start_time": "2023-07-10T16:33:05.365021Z"
    }
   }
  },
  {
   "cell_type": "markdown",
   "source": [
    "# Questions to Gabriele\n",
    "\n",
    "1. how do we deal with the nan, so we see if the item contains a response or not? nan for other question types and if there is no value\n",
    "2. instead of renaming the question type, rather work with the variable instead, less change, no?\n",
    "3."
   ],
   "metadata": {
    "collapsed": false
   }
  },
  {
   "cell_type": "code",
   "execution_count": 37,
   "outputs": [
    {
     "data": {
      "text/plain": "0                                                    []\n1                                                    []\n2                                                    []\n3                                                    []\n4     [{'AnswerText': 'Medenine', 'AnswerValue': '1'...\n                            ...                        \n67    [{'AnswerText': 'Oui', 'AnswerValue': '1'}, {'...\n68                                                   []\n69    [{'AnswerText': 'Oui', 'AnswerValue': '1'}, {'...\n70                                                   []\n71    [{'AnswerText': 'Très satisfait', 'AnswerValue...\nName: Answers, Length: 482, dtype: object"
     },
     "execution_count": 37,
     "metadata": {},
     "output_type": "execute_result"
    }
   ],
   "source": [
    "import json\n",
    "def parse_json(x):\n",
    "    try:\n",
    "        return json.loads(x.replace(\"'\", \"\\\"\"))\n",
    "    except:\n",
    "        return []\n",
    "dfs_questionnaires['Answers'] = dfs_questionnaires['Answers'].apply(parse_json)\n",
    "dfs_questionnaires['Answers']\n"
   ],
   "metadata": {
    "collapsed": false,
    "ExecuteTime": {
     "end_time": "2023-07-10T15:54:46.843517Z",
     "start_time": "2023-07-10T15:54:46.817900Z"
    }
   }
  },
  {
   "cell_type": "code",
   "execution_count": 47,
   "outputs": [],
   "source": [
    "\n",
    "# Create new columns\n",
    "dfs_questionnaires['answer_sequence'] = dfs_questionnaires['Answers'].apply(lambda x: [item['AnswerValue'] for item in x] if x else np.nan)\n",
    "dfs_questionnaires['n_answers'] = dfs_questionnaires['Answers'].apply(lambda x: len(x) if x else np.nan)\n",
    "\n"
   ],
   "metadata": {
    "collapsed": false,
    "ExecuteTime": {
     "end_time": "2023-07-10T16:07:37.586542Z",
     "start_time": "2023-07-10T16:07:37.568323Z"
    }
   }
  },
  {
   "cell_type": "code",
   "execution_count": 48,
   "outputs": [
    {
     "data": {
      "text/plain": "    question_seq              VariableName              type  QuestionType  \\\n0              1                       NaN             Group           NaN   \n1              2                   country      TextQuestion           7.0   \n2              3                       NaN             Group           NaN   \n3              4           start_visitdate  DateTimeQuestion           5.0   \n4              5                    region    SingleQuestion           0.0   \n..           ...                       ...               ...           ...   \n67            68             fromation_use    SingleQuestion           0.0   \n68            69                       NaN             Group           NaN   \n69            70                   partner    SingleQuestion           0.0   \n70            71            partner_number   NumericQuestion           4.0   \n71            72  parternship_satisfaction    SingleQuestion           0.0   \n\n                                              Answers  \\\n0                                                  []   \n1                                                  []   \n2                                                  []   \n3                                                  []   \n4   [{'AnswerText': 'Medenine', 'AnswerValue': '1'...   \n..                                                ...   \n67  [{'AnswerText': 'Oui', 'AnswerValue': '1'}, {'...   \n68                                                 []   \n69  [{'AnswerText': 'Oui', 'AnswerValue': '1'}, {'...   \n70                                                 []   \n71  [{'AnswerText': 'Très satisfait', 'AnswerValue...   \n\n                                             Children ConditionExpression  \\\n0   [{'$type': 'TextQuestion', 'QuestionType': 7, ...                 NaN   \n1                                                  []                 NaN   \n2   [{'$type': 'DateTimeQuestion', 'QuestionType':...                 NaN   \n3                                                  []                 NaN   \n4                                                  []                 NaN   \n..                                                ...                 ...   \n67                                                 []                 NaN   \n68  [{'$type': 'SingleQuestion', 'QuestionType': 0...                 NaN   \n69                                                 []                 NaN   \n70                                                 []          partner==1   \n71                                                 []                 NaN   \n\n   HideIfDisabled Featured Instructions  ...                       parent_1  \\\n0           False      NaN          NaN  ...                            NaN   \n1           False     True          NaN  ...                          COVER   \n2           False      NaN          NaN  ...                            NaN   \n3           False    False          NaN  ...  BASIC INFORMATION AND CONSENT   \n4           False    False          NaN  ...  BASIC INFORMATION AND CONSENT   \n..            ...      ...          ...  ...                            ...   \n67          False    False          NaN  ...                         J - PO   \n68          False      NaN          NaN  ...                         J - PO   \n69          False    False  Par example  ...                         J - PO   \n70          False    False          NaN  ...                         J - PO   \n71          False    False          NaN  ...                         J - PO   \n\n           parent_2                      parent_3 parent_4   survey_name  \\\n0               NaN                           NaN      NaN  ifad_tunesia   \n1               NaN                           NaN      NaN  ifad_tunesia   \n2               NaN                           NaN      NaN  ifad_tunesia   \n3               NaN                           NaN      NaN  ifad_tunesia   \n4               NaN                           NaN      NaN  ifad_tunesia   \n..              ...                           ...      ...           ...   \n67     PO FORMATION  PO FORMATION - %rostertitle%      NaN  ifad_tunesia   \n68              NaN                           NaN      NaN  ifad_tunesia   \n69  OP PARTERNSHIPS                           NaN      NaN  ifad_tunesia   \n70  OP PARTERNSHIPS                           NaN      NaN  ifad_tunesia   \n71  OP PARTERNSHIPS                           NaN      NaN  ifad_tunesia   \n\n        survey_version first_answer last_answer n_answers  answer_sequence  \n0   EndlineFINALV106_1          NaN         NaN       NaN              NaN  \n1   EndlineFINALV106_1          NaN         NaN       NaN              NaN  \n2   EndlineFINALV106_1          NaN         NaN       NaN              NaN  \n3   EndlineFINALV106_1          NaN         NaN       NaN              NaN  \n4   EndlineFINALV106_1            1           2       2.0           [1, 2]  \n..                 ...          ...         ...       ...              ...  \n67    EndlineFINALV5_1            1           2       3.0        [1, 0, 2]  \n68    EndlineFINALV5_1          NaN         NaN       NaN              NaN  \n69    EndlineFINALV5_1            1           0       2.0           [1, 0]  \n70    EndlineFINALV5_1          NaN         NaN       NaN              NaN  \n71    EndlineFINALV5_1            1           5       5.0  [1, 2, 3, 4, 5]  \n\n[482 rows x 33 columns]",
      "text/html": "<div>\n<style scoped>\n    .dataframe tbody tr th:only-of-type {\n        vertical-align: middle;\n    }\n\n    .dataframe tbody tr th {\n        vertical-align: top;\n    }\n\n    .dataframe thead th {\n        text-align: right;\n    }\n</style>\n<table border=\"1\" class=\"dataframe\">\n  <thead>\n    <tr style=\"text-align: right;\">\n      <th></th>\n      <th>question_seq</th>\n      <th>VariableName</th>\n      <th>type</th>\n      <th>QuestionType</th>\n      <th>Answers</th>\n      <th>Children</th>\n      <th>ConditionExpression</th>\n      <th>HideIfDisabled</th>\n      <th>Featured</th>\n      <th>Instructions</th>\n      <th>...</th>\n      <th>parent_1</th>\n      <th>parent_2</th>\n      <th>parent_3</th>\n      <th>parent_4</th>\n      <th>survey_name</th>\n      <th>survey_version</th>\n      <th>first_answer</th>\n      <th>last_answer</th>\n      <th>n_answers</th>\n      <th>answer_sequence</th>\n    </tr>\n  </thead>\n  <tbody>\n    <tr>\n      <th>0</th>\n      <td>1</td>\n      <td>NaN</td>\n      <td>Group</td>\n      <td>NaN</td>\n      <td>[]</td>\n      <td>[{'$type': 'TextQuestion', 'QuestionType': 7, ...</td>\n      <td>NaN</td>\n      <td>False</td>\n      <td>NaN</td>\n      <td>NaN</td>\n      <td>...</td>\n      <td>NaN</td>\n      <td>NaN</td>\n      <td>NaN</td>\n      <td>NaN</td>\n      <td>ifad_tunesia</td>\n      <td>EndlineFINALV106_1</td>\n      <td>NaN</td>\n      <td>NaN</td>\n      <td>NaN</td>\n      <td>NaN</td>\n    </tr>\n    <tr>\n      <th>1</th>\n      <td>2</td>\n      <td>country</td>\n      <td>TextQuestion</td>\n      <td>7.0</td>\n      <td>[]</td>\n      <td>[]</td>\n      <td>NaN</td>\n      <td>False</td>\n      <td>True</td>\n      <td>NaN</td>\n      <td>...</td>\n      <td>COVER</td>\n      <td>NaN</td>\n      <td>NaN</td>\n      <td>NaN</td>\n      <td>ifad_tunesia</td>\n      <td>EndlineFINALV106_1</td>\n      <td>NaN</td>\n      <td>NaN</td>\n      <td>NaN</td>\n      <td>NaN</td>\n    </tr>\n    <tr>\n      <th>2</th>\n      <td>3</td>\n      <td>NaN</td>\n      <td>Group</td>\n      <td>NaN</td>\n      <td>[]</td>\n      <td>[{'$type': 'DateTimeQuestion', 'QuestionType':...</td>\n      <td>NaN</td>\n      <td>False</td>\n      <td>NaN</td>\n      <td>NaN</td>\n      <td>...</td>\n      <td>NaN</td>\n      <td>NaN</td>\n      <td>NaN</td>\n      <td>NaN</td>\n      <td>ifad_tunesia</td>\n      <td>EndlineFINALV106_1</td>\n      <td>NaN</td>\n      <td>NaN</td>\n      <td>NaN</td>\n      <td>NaN</td>\n    </tr>\n    <tr>\n      <th>3</th>\n      <td>4</td>\n      <td>start_visitdate</td>\n      <td>DateTimeQuestion</td>\n      <td>5.0</td>\n      <td>[]</td>\n      <td>[]</td>\n      <td>NaN</td>\n      <td>False</td>\n      <td>False</td>\n      <td>NaN</td>\n      <td>...</td>\n      <td>BASIC INFORMATION AND CONSENT</td>\n      <td>NaN</td>\n      <td>NaN</td>\n      <td>NaN</td>\n      <td>ifad_tunesia</td>\n      <td>EndlineFINALV106_1</td>\n      <td>NaN</td>\n      <td>NaN</td>\n      <td>NaN</td>\n      <td>NaN</td>\n    </tr>\n    <tr>\n      <th>4</th>\n      <td>5</td>\n      <td>region</td>\n      <td>SingleQuestion</td>\n      <td>0.0</td>\n      <td>[{'AnswerText': 'Medenine', 'AnswerValue': '1'...</td>\n      <td>[]</td>\n      <td>NaN</td>\n      <td>False</td>\n      <td>False</td>\n      <td>NaN</td>\n      <td>...</td>\n      <td>BASIC INFORMATION AND CONSENT</td>\n      <td>NaN</td>\n      <td>NaN</td>\n      <td>NaN</td>\n      <td>ifad_tunesia</td>\n      <td>EndlineFINALV106_1</td>\n      <td>1</td>\n      <td>2</td>\n      <td>2.0</td>\n      <td>[1, 2]</td>\n    </tr>\n    <tr>\n      <th>...</th>\n      <td>...</td>\n      <td>...</td>\n      <td>...</td>\n      <td>...</td>\n      <td>...</td>\n      <td>...</td>\n      <td>...</td>\n      <td>...</td>\n      <td>...</td>\n      <td>...</td>\n      <td>...</td>\n      <td>...</td>\n      <td>...</td>\n      <td>...</td>\n      <td>...</td>\n      <td>...</td>\n      <td>...</td>\n      <td>...</td>\n      <td>...</td>\n      <td>...</td>\n      <td>...</td>\n    </tr>\n    <tr>\n      <th>67</th>\n      <td>68</td>\n      <td>fromation_use</td>\n      <td>SingleQuestion</td>\n      <td>0.0</td>\n      <td>[{'AnswerText': 'Oui', 'AnswerValue': '1'}, {'...</td>\n      <td>[]</td>\n      <td>NaN</td>\n      <td>False</td>\n      <td>False</td>\n      <td>NaN</td>\n      <td>...</td>\n      <td>J - PO</td>\n      <td>PO FORMATION</td>\n      <td>PO FORMATION - %rostertitle%</td>\n      <td>NaN</td>\n      <td>ifad_tunesia</td>\n      <td>EndlineFINALV5_1</td>\n      <td>1</td>\n      <td>2</td>\n      <td>3.0</td>\n      <td>[1, 0, 2]</td>\n    </tr>\n    <tr>\n      <th>68</th>\n      <td>69</td>\n      <td>NaN</td>\n      <td>Group</td>\n      <td>NaN</td>\n      <td>[]</td>\n      <td>[{'$type': 'SingleQuestion', 'QuestionType': 0...</td>\n      <td>NaN</td>\n      <td>False</td>\n      <td>NaN</td>\n      <td>NaN</td>\n      <td>...</td>\n      <td>J - PO</td>\n      <td>NaN</td>\n      <td>NaN</td>\n      <td>NaN</td>\n      <td>ifad_tunesia</td>\n      <td>EndlineFINALV5_1</td>\n      <td>NaN</td>\n      <td>NaN</td>\n      <td>NaN</td>\n      <td>NaN</td>\n    </tr>\n    <tr>\n      <th>69</th>\n      <td>70</td>\n      <td>partner</td>\n      <td>SingleQuestion</td>\n      <td>0.0</td>\n      <td>[{'AnswerText': 'Oui', 'AnswerValue': '1'}, {'...</td>\n      <td>[]</td>\n      <td>NaN</td>\n      <td>False</td>\n      <td>False</td>\n      <td>Par example</td>\n      <td>...</td>\n      <td>J - PO</td>\n      <td>OP PARTERNSHIPS</td>\n      <td>NaN</td>\n      <td>NaN</td>\n      <td>ifad_tunesia</td>\n      <td>EndlineFINALV5_1</td>\n      <td>1</td>\n      <td>0</td>\n      <td>2.0</td>\n      <td>[1, 0]</td>\n    </tr>\n    <tr>\n      <th>70</th>\n      <td>71</td>\n      <td>partner_number</td>\n      <td>NumericQuestion</td>\n      <td>4.0</td>\n      <td>[]</td>\n      <td>[]</td>\n      <td>partner==1</td>\n      <td>False</td>\n      <td>False</td>\n      <td>NaN</td>\n      <td>...</td>\n      <td>J - PO</td>\n      <td>OP PARTERNSHIPS</td>\n      <td>NaN</td>\n      <td>NaN</td>\n      <td>ifad_tunesia</td>\n      <td>EndlineFINALV5_1</td>\n      <td>NaN</td>\n      <td>NaN</td>\n      <td>NaN</td>\n      <td>NaN</td>\n    </tr>\n    <tr>\n      <th>71</th>\n      <td>72</td>\n      <td>parternship_satisfaction</td>\n      <td>SingleQuestion</td>\n      <td>0.0</td>\n      <td>[{'AnswerText': 'Très satisfait', 'AnswerValue...</td>\n      <td>[]</td>\n      <td>NaN</td>\n      <td>False</td>\n      <td>False</td>\n      <td>NaN</td>\n      <td>...</td>\n      <td>J - PO</td>\n      <td>OP PARTERNSHIPS</td>\n      <td>NaN</td>\n      <td>NaN</td>\n      <td>ifad_tunesia</td>\n      <td>EndlineFINALV5_1</td>\n      <td>1</td>\n      <td>5</td>\n      <td>5.0</td>\n      <td>[1, 2, 3, 4, 5]</td>\n    </tr>\n  </tbody>\n</table>\n<p>482 rows × 33 columns</p>\n</div>"
     },
     "execution_count": 48,
     "metadata": {},
     "output_type": "execute_result"
    }
   ],
   "source": [
    "dfs_questionnaires"
   ],
   "metadata": {
    "collapsed": false,
    "ExecuteTime": {
     "end_time": "2023-07-10T16:07:44.049982Z",
     "start_time": "2023-07-10T16:07:44.018103Z"
    }
   }
  },
  {
   "cell_type": "code",
   "execution_count": null,
   "outputs": [],
   "source": [],
   "metadata": {
    "collapsed": false
   }
  }
 ],
 "metadata": {
  "kernelspec": {
   "display_name": "Python 3",
   "language": "python",
   "name": "python3"
  },
  "language_info": {
   "codemirror_mode": {
    "name": "ipython",
    "version": 2
   },
   "file_extension": ".py",
   "mimetype": "text/x-python",
   "name": "python",
   "nbconvert_exporter": "python",
   "pygments_lexer": "ipython2",
   "version": "2.7.6"
  }
 },
 "nbformat": 4,
 "nbformat_minor": 0
}
