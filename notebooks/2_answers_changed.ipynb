{
 "cells": [
  {
   "cell_type": "markdown",
   "source": [
    "# Answers changed\n",
    "## Load dependencies and data"
   ],
   "metadata": {
    "collapsed": false
   }
  },
  {
   "cell_type": "code",
   "execution_count": 55,
   "metadata": {
    "collapsed": true,
    "ExecuteTime": {
     "end_time": "2023-06-27T13:22:31.368092Z",
     "start_time": "2023-06-27T13:22:31.337287Z"
    }
   },
   "outputs": [],
   "source": [
    "import pandas as pd\n",
    "import json"
   ]
  },
  {
   "cell_type": "markdown",
   "source": [
    "Needs to be updated to new/folder data structure, load the para file basically"
   ],
   "metadata": {
    "collapsed": false
   }
  },
  {
   "cell_type": "markdown",
   "source": [
    "# Prepare paradata"
   ],
   "metadata": {
    "collapsed": false
   }
  },
  {
   "cell_type": "code",
   "execution_count": 59,
   "outputs": [],
   "source": [
    "df_para['answer_changed'] = False\n",
    "group_columns = ['interview__id', 'param', 'roster_level']  # group dfs by interview, variable and roster instance"
   ],
   "metadata": {
    "collapsed": false,
    "ExecuteTime": {
     "end_time": "2023-06-27T13:22:35.592330Z",
     "start_time": "2023-06-27T13:22:35.590803Z"
    }
   }
  },
  {
   "cell_type": "markdown",
   "source": [
    "## List questions"
   ],
   "metadata": {
    "collapsed": false
   }
  },
  {
   "cell_type": "code",
   "execution_count": 60,
   "outputs": [],
   "source": [
    "df_para_list = df_para[(df_para['type'] == 'TextListQuestion') & (df_para['event'] == 'AnswerSet')].copy()\n",
    "grouped_list = df_para_list.groupby(group_columns)\n",
    "for _, group in grouped_list:\n",
    "    prev_answers = set()  # set an empty set for previous answers\n",
    "    for index, row in group.iterrows():\n",
    "        row_answers = set(row['answer'].split('|')) if pd.notnull(row['answer']) else set()\n",
    "        if prev_answers.difference(row_answers):\n",
    "            df_para_list.at[\n",
    "                index, 'answer_changed'] = True  # can be removed, just to verify more easily\n",
    "            df_para.at[index, 'answer_changed'] = True\n",
    "        prev_answers = row_answers"
   ],
   "metadata": {
    "collapsed": false,
    "ExecuteTime": {
     "end_time": "2023-06-27T13:22:38.015755Z",
     "start_time": "2023-06-27T13:22:35.678151Z"
    }
   }
  },
  {
   "cell_type": "markdown",
   "source": [
    "Currently counting any change, irrespective if it is deleting a list item, or changing the spelling or updating the list item. There is a lot of the latter, which is less of an issue and more a sign of diligence.\n",
    "\n",
    "I think we would like to redefine how change answer and remove answer are defined. E.g consider as \"removed answer\" if unselecting a multi_select, changing yes/no, or removing a list item? These actions normally mean they selected something and then decided to unselect or list it (as always, could be down to the respondent). These actions are worse if they trigger a lot of question enablement (which we do not know for now)."
   ],
   "metadata": {
    "collapsed": false
   }
  },
  {
   "cell_type": "markdown",
   "source": [
    "## Single answer questions"
   ],
   "metadata": {
    "collapsed": false
   }
  },
  {
   "cell_type": "code",
   "execution_count": 61,
   "outputs": [],
   "source": [
    "df_para_question = df_para[(~df_para['type'].isin(['YesNoQuestion', 'MultyOptionsQuestion', 'TextListQuestion', 'Variable'])) & (df_para['event'] == 'AnswerSet')].copy()\n",
    "df_para_question = df_para_question[df_para_question.duplicated(subset=group_columns, keep=False)]\n",
    "if df_para_question.shape[0] > 0:\n",
    "    grouped_question = df_para_question.groupby(group_columns)\n",
    "    for _, group in grouped_question:\n",
    "        prev_answer = None  # set an empty answer for previous answers\n",
    "        for index, row in group.iterrows():\n",
    "            row_answer = row['answer']\n",
    "            if prev_answer is not None and prev_answer != row_answer:\n",
    "                df_para_question.at[index, 'answer_changed'] = True  # can be removed, just to verify more easily\n",
    "                df_para.at[index, 'answer_changed'] = True\n",
    "            prev_answer = row_answer"
   ],
   "metadata": {
    "collapsed": false,
    "ExecuteTime": {
     "end_time": "2023-06-27T13:23:02.219060Z",
     "start_time": "2023-06-27T13:22:38.039191Z"
    }
   }
  },
  {
   "cell_type": "markdown",
   "source": [
    "@Gabriele, above cell takes quite long to execute, can we write this faster?"
   ],
   "metadata": {
    "collapsed": false
   }
  },
  {
   "cell_type": "markdown",
   "source": [
    "## YesNo questions"
   ],
   "metadata": {
    "collapsed": false
   }
  },
  {
   "cell_type": "code",
   "execution_count": 62,
   "outputs": [],
   "source": [
    "df_para_yesno = df_para[(df_para['type'] == 'YesNoQuestion') & (df_para['event'] == 'AnswerSet')].copy()\n",
    "if df_para_yesno.shape[0] > 0:\n",
    "    df_para_yesno[['yes_answers', 'no_answers']] = df_para_yesno['answer'].str.split('|', expand=True)\n",
    "    grouped_yesno = df_para_yesno.groupby(group_columns)\n",
    "\n",
    "    for _, group in grouped_yesno:\n",
    "        prev_yes_answers = set()  # set an empty set for previous yes-answers\n",
    "        for index, row in group.iterrows():\n",
    "            yes_answers = set(row['yes_answers'].split(', ')) if pd.notnull(row['yes_answers']) else set()\n",
    "            no_answers = set(row['no_answers'].split(', ')) if pd.notnull(row['no_answers']) else set()\n",
    "\n",
    "            if len(prev_yes_answers.intersection(no_answers)) > 0:\n",
    "                df_para_yesno.at[\n",
    "                    index, 'answer_changed'] = True  # can be removed, just to verify more easily\n",
    "                df_para.at[index, 'answer_changed'] = True\n",
    "            prev_yes_answers = yes_answers"
   ],
   "metadata": {
    "collapsed": false,
    "ExecuteTime": {
     "end_time": "2023-06-27T13:23:02.308593Z",
     "start_time": "2023-06-27T13:23:02.305651Z"
    }
   }
  },
  {
   "cell_type": "markdown",
   "source": [
    "## Normal multi-answer questions"
   ],
   "metadata": {
    "collapsed": false
   }
  },
  {
   "cell_type": "code",
   "execution_count": 63,
   "outputs": [],
   "source": [
    "df_para_multi = df_para[(df_para['type'] == 'MultyOptionsQuestion') & (df_para['event'] == 'AnswerSet')].copy()\n",
    "if df_para_multi.shape[0] > 0:\n",
    "    grouped_multi = df_para_multi.groupby(group_columns)\n",
    "    for _, group in grouped_multi:\n",
    "        prev_answers = set()  # set an empty set for previous answers\n",
    "        for index, row in group.iterrows():\n",
    "            row_answers = set(row['answer'].split(', ')) if pd.notnull(row['answer']) else set()\n",
    "            if prev_answers.difference(row_answers):\n",
    "                df_para_multi.at[\n",
    "                    index, 'answer_changed'] = True  # can be removed, just to verify more easily\n",
    "                df_para.at[index, 'answer_changed'] = True\n",
    "            prev_answers = row_answers"
   ],
   "metadata": {
    "collapsed": false,
    "ExecuteTime": {
     "end_time": "2023-06-27T13:23:03.624979Z",
     "start_time": "2023-06-27T13:23:02.394242Z"
    }
   }
  },
  {
   "cell_type": "markdown",
   "source": [
    "# Summary"
   ],
   "metadata": {
    "collapsed": false
   }
  },
  {
   "cell_type": "code",
   "execution_count": null,
   "outputs": [],
   "source": [
    "summarize_group = ['interview__id', 'param']\n",
    "answers_changed = df_para[df_para['answer_changed']].groupby(summarize_group).size().reset_index(name='answers_changed')\n",
    "#interview_questions = pd.DataFrame(df_para[df_para['event'] == 'AnswerSet'][summarize_group].drop_duplicates())\n",
    "#n_answer_changed = interview_questions.merge(n_answer_changed, on=summarize_group, how='left').fillna({'n_answer_changed': 0})\n",
    "# @Gabriele, so we need the 0 counts, if so, outcomment above?\n",
    "answers_changed"
   ],
   "metadata": {
    "collapsed": false
   }
  }
 ],
 "metadata": {
  "kernelspec": {
   "display_name": "Python 3",
   "language": "python",
   "name": "python3"
  },
  "language_info": {
   "codemirror_mode": {
    "name": "ipython",
    "version": 2
   },
   "file_extension": ".py",
   "mimetype": "text/x-python",
   "name": "python",
   "nbconvert_exporter": "python",
   "pygments_lexer": "ipython2",
   "version": "2.7.6"
  }
 },
 "nbformat": 4,
 "nbformat_minor": 0
}
