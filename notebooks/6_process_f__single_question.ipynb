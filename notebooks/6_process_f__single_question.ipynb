{
 "cells": [
  {
   "cell_type": "code",
   "execution_count": null,
   "metadata": {},
   "outputs": [],
   "source": [
    "%load_ext autoreload\n",
    "%autoreload 2"
   ]
  },
  {
   "cell_type": "code",
   "execution_count": null,
   "metadata": {},
   "outputs": [],
   "source": [
    "%load_ext memory_profiler"
   ]
  },
  {
   "cell_type": "code",
   "execution_count": null,
   "metadata": {},
   "outputs": [],
   "source": [
    "import pandas as pd\n",
    "from utils.import_utils import *\n",
    "from hydra import initialize, initialize_config_module, initialize_config_dir, compose\n",
    "from src.feature_processing import *\n",
    "from src.item_processing import  *\n",
    "from src.utils.stats_utils import *\n",
    "import plotly.express as px\n",
    "import seaborn as sns\n",
    "import pandas as pd\n",
    "import matplotlib.pyplot as plt"
   ]
  },
  {
   "cell_type": "code",
   "execution_count": null,
   "metadata": {},
   "outputs": [],
   "source": [
    "with initialize(config_path='../configuration', version_base='1.1'):\n",
    "    config = compose(config_name='main.yaml')"
   ]
  },
  {
   "cell_type": "code",
   "execution_count": null,
   "metadata": {},
   "outputs": [],
   "source": [
    "features_class = ItemFeatureProcessing(config)"
   ]
  },
  {
   "cell_type": "code",
   "execution_count": null,
   "metadata": {},
   "outputs": [],
   "source": [
    "df_item = features_class.df_item\n",
    "self = features_class"
   ]
  },
  {
   "cell_type": "code",
   "execution_count": null,
   "metadata": {},
   "outputs": [],
   "source": [
    "df_item['type'].value_counts()"
   ]
  },
  {
   "cell_type": "code",
   "execution_count": null,
   "metadata": {},
   "outputs": [],
   "source": [
    "df_item[df_item['type']=='SingleQuestion'].groupby(['variable_name'])['value'].value_counts()"
   ]
  },
  {
   "cell_type": "code",
   "execution_count": null,
   "metadata": {},
   "outputs": [],
   "source": [
    "filter_condition = (self.df_item['type']=='SingleQuestion')\n",
    "pivot_table, index_col = self.get_clean_pivot_table('value',remove_low_freq_col=True, filter_conditions=filter_condition)"
   ]
  },
  {
   "cell_type": "code",
   "execution_count": null,
   "metadata": {},
   "outputs": [],
   "source": [
    "for col in pivot_table.drop(columns = ['interview__id', 'roster_level', 'responsible']).columns[0:12]:\n",
    "    data = pivot_table[~pd.isnull(pivot_table[col])].copy()\n",
    "    entropy_ = data.groupby('responsible')[col].apply(calculate_entropy)\n",
    "    #entropy_ = entropy_.reset_index()\n",
    "    #data[col+'_entropy'] = data['responsible'].map(entropy_[col])\n",
    "    entropy_.plot(kind='bar')\n",
    "    plt.title(col)\n",
    "    plt.show()"
   ]
  },
  {
   "cell_type": "code",
   "execution_count": null,
   "metadata": {
    "ExecuteTime": {
     "end_time": "2023-08-17T09:40:50.035539Z",
     "start_time": "2023-08-17T09:40:43.507063Z"
    }
   },
   "outputs": [],
   "source": [
    "for col in pivot_table.drop(columns = ['interview__id', 'roster_level', 'responsible']).columns:\n",
    "    data = pivot_table.copy()#[~pd.isnull(pivot_table[col])].copy()\n",
    "    entropy_ = data.groupby('responsible')[col].apply(calculate_entropy)\n",
    "    entropy_ = entropy_.reset_index()\n",
    "    pivot_table[col+'_entropy'] = pivot_table['responsible'].map(entropy_.set_index('responsible')[col])"
   ]
  },
  {
   "cell_type": "code",
   "execution_count": null,
   "metadata": {
    "ExecuteTime": {
     "end_time": "2023-08-17T09:40:53.964487Z",
     "start_time": "2023-08-17T09:40:53.775167Z"
    }
   },
   "outputs": [],
   "source": [
    "selected_columns = pivot_table.drop(columns = ['interview__id', 'roster_level', 'responsible']).columns\n",
    "selected_columns = [col for col in selected_columns if 'answer_set_anomaly' in col]\n",
    "pivot_table['total_selected_columns'] = pivot_table[selected_columns].sum(1)"
   ]
  },
  {
   "cell_type": "code",
   "execution_count": null,
   "metadata": {
    "ExecuteTime": {
     "end_time": "2023-08-17T09:40:56.222485Z",
     "start_time": "2023-08-17T09:40:54.530526Z"
    }
   },
   "outputs": [],
   "source": [
    "entropy_columns = [col for col in pivot_table.columns if 'entropy' in col]\n",
    "pivot_table['entropy__single_question'] = pivot_table[entropy_columns].fillna(-1).mean(1)\n",
    "entropy_ = pivot_table.groupby('responsible')['entropy__single_question'].mean()\n",
    "entropy_.plot(kind='bar')\n",
    "plt.title('entropy__single_question')\n",
    "plt.show()"
   ]
  },
  {
   "cell_type": "code",
   "execution_count": null,
   "metadata": {},
   "outputs": [],
   "source": []
  }
 ],
 "metadata": {
  "kernelspec": {
   "display_name": "mlss",
   "language": "python",
   "name": "mlss"
  },
  "language_info": {
   "codemirror_mode": {
    "name": "ipython",
    "version": 2
   },
   "file_extension": ".py",
   "mimetype": "text/x-python",
   "name": "python",
   "nbconvert_exporter": "python",
   "pygments_lexer": "ipython2",
   "version": "2.7.6"
  }
 },
 "nbformat": 4,
 "nbformat_minor": 0
}
