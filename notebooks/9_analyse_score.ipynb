{
 "cells": [
  {
   "cell_type": "code",
   "execution_count": null,
   "metadata": {
    "ExecuteTime": {
     "end_time": "2023-08-18T13:12:07.884332Z",
     "start_time": "2023-08-18T13:12:07.751403Z"
    }
   },
   "outputs": [],
   "source": [
    "%load_ext autoreload\n",
    "%autoreload 2"
   ]
  },
  {
   "cell_type": "code",
   "execution_count": null,
   "metadata": {
    "ExecuteTime": {
     "end_time": "2023-08-18T13:12:07.971535Z",
     "start_time": "2023-08-18T13:12:07.918700Z"
    }
   },
   "outputs": [],
   "source": [
    "%load_ext memory_profiler"
   ]
  },
  {
   "cell_type": "code",
   "execution_count": null,
   "metadata": {
    "ExecuteTime": {
     "end_time": "2023-08-18T13:12:08.350334Z",
     "start_time": "2023-08-18T13:12:08.306178Z"
    }
   },
   "outputs": [],
   "source": [
    "import pandas as pd\n",
    "from utils.import_utils import *\n",
    "from hydra import initialize, initialize_config_module, initialize_config_dir, compose\n",
    "from src.feature_processing import *\n",
    "from src.unit_proccessing import  *\n",
    "from src.utils.stats_utils import *\n",
    "import plotly.express as px\n",
    "import seaborn as sns\n",
    "import pandas as pd\n",
    "import matplotlib.pyplot as plt"
   ]
  },
  {
   "cell_type": "code",
   "execution_count": null,
   "metadata": {
    "ExecuteTime": {
     "end_time": "2023-08-18T13:12:09.504083Z",
     "start_time": "2023-08-18T13:12:09.322595Z"
    }
   },
   "outputs": [],
   "source": [
    "with initialize(config_path='../configuration', version_base='1.1'):\n",
    "    config = compose(config_name='main.yaml')"
   ]
  },
  {
   "cell_type": "code",
   "execution_count": null,
   "metadata": {
    "ExecuteTime": {
     "end_time": "2023-08-18T13:12:13.140093Z",
     "start_time": "2023-08-18T13:12:12.554172Z"
    }
   },
   "outputs": [],
   "source": [
    "features_class = UnitDataProcessing(config)"
   ]
  },
  {
   "cell_type": "code",
   "execution_count": null,
   "metadata": {
    "ExecuteTime": {
     "end_time": "2023-08-18T13:12:32.725424Z",
     "start_time": "2023-08-18T13:12:32.644454Z"
    }
   },
   "outputs": [],
   "source": [
    "df_paradata = features_class.df_paradata"
   ]
  },
  {
   "cell_type": "code",
   "execution_count": null,
   "metadata": {
    "ExecuteTime": {
     "end_time": "2023-08-17T17:55:50.922321Z",
     "start_time": "2023-08-17T17:55:47.626733Z"
    }
   },
   "outputs": [],
   "source": [
    "df_item = features_class.df_item\n",
    "self = features_class"
   ]
  },
  {
   "cell_type": "code",
   "execution_count": null,
   "metadata": {
    "ExecuteTime": {
     "end_time": "2023-08-17T17:55:51.136807Z",
     "start_time": "2023-08-17T17:55:50.922462Z"
    }
   },
   "outputs": [],
   "source": [
    "df_unit = features_class.df_unit"
   ]
  },
  {
   "cell_type": "code",
   "execution_count": null,
   "metadata": {
    "ExecuteTime": {
     "end_time": "2023-08-17T17:55:51.174103Z",
     "start_time": "2023-08-17T17:55:51.138945Z"
    }
   },
   "outputs": [],
   "source": [
    "import numpy as np\n",
    "import pandas as pd\n",
    "from sklearn.cluster import KMeans, DBSCAN, AgglomerativeClustering, AffinityPropagation, MeanShift\n",
    "from sklearn.mixture import GaussianMixture\n",
    "from sklearn.metrics import silhouette_score\n",
    "\n",
    "def clustering_comparison(df):\n",
    "    results = {}\n",
    "    \n",
    "    # K-Means\n",
    "    kmeans = KMeans(n_clusters=2)  # You might want to change the number of clusters based on domain knowledge\n",
    "    kmeans_labels = kmeans.fit_predict(df)\n",
    "    results['KMeans'] = silhouette_score(df, kmeans_labels)\n",
    "    \n",
    "    # DBSCAN\n",
    "    dbscan = DBSCAN()\n",
    "    dbscan_labels = dbscan.fit_predict(df)\n",
    "    # Compute silhouette score only if more than one cluster is identified\n",
    "    if len(np.unique(dbscan_labels)) > 1:\n",
    "        results['DBSCAN'] = silhouette_score(df, dbscan_labels)\n",
    "    \n",
    "    # Agglomerative Hierarchical Clustering\n",
    "    agglomerative = AgglomerativeClustering(n_clusters=2)  # Adjust number of clusters as needed\n",
    "    agg_labels = agglomerative.fit_predict(df)\n",
    "    results['Agglomerative'] = silhouette_score(df, agg_labels)\n",
    "    \n",
    "    # Affinity Propagation\n",
    "    affinity = AffinityPropagation()\n",
    "    affinity_labels = affinity.fit_predict(df)\n",
    "    results['AffinityPropagation'] = silhouette_score(df, affinity_labels)\n",
    "    \n",
    "    # Mean Shift\n",
    "    mean_shift = MeanShift()\n",
    "    mean_shift_labels = mean_shift.fit_predict(df)\n",
    "    # Compute silhouette score only if more than one cluster is identified\n",
    "    if len(np.unique(mean_shift_labels)) > 1:\n",
    "        results['MeanShift'] = silhouette_score(df, mean_shift_labels)\n",
    "    \n",
    "    # Gaussian Mixture Model (GMM)\n",
    "    gmm = GaussianMixture(n_components=2)  # Adjust number of components as needed\n",
    "    gmm_labels = gmm.fit_predict(df)\n",
    "    results['GMM'] = silhouette_score(df, gmm_labels)\n",
    "    \n",
    "    # Convert results to a DataFrame for better visualization\n",
    "    results_df = pd.DataFrame.from_dict(results, orient='index', columns=['Silhouette Score'])\n",
    "    \n",
    "    return results_df.sort_values(by='Silhouette Score', ascending=False)\n",
    "\n",
    "# Testing the function\n",
    "# df = df_unit_score[score_columns].copy()\n",
    "# #df = pd.DataFrame(scaler.fit_transform(df), columns=score_columns)\n",
    "# # df = pd.DataFrame(...)  # Your data here\n",
    "# df = df.fillna(0)\n",
    "# print(clustering_comparison(df))\n"
   ]
  },
  {
   "cell_type": "code",
   "execution_count": null,
   "metadata": {
    "ExecuteTime": {
     "end_time": "2023-08-17T17:55:51.205243Z",
     "start_time": "2023-08-17T17:55:51.175453Z"
    }
   },
   "outputs": [],
   "source": [
    "import pandas as pd\n",
    "from sklearn.preprocessing import StandardScaler\n",
    "from sklearn.metrics import silhouette_score\n",
    "from sklearn.cluster import KMeans, AgglomerativeClustering, DBSCAN\n",
    "from sklearn.ensemble import IsolationForest\n",
    "\n",
    "def compare_clustering_algorithms(data):\n",
    "    # Scaling the data\n",
    "    scaler = StandardScaler()\n",
    "    data_scaled = scaler.fit_transform(data)\n",
    "    \n",
    "    # Defining the clustering algorithms\n",
    "    algorithms = {\n",
    "        'KMeans': KMeans(n_clusters=2), # You might want to find the optimal number of clusters first\n",
    "        'Agglomerative': AgglomerativeClustering(n_clusters=2),\n",
    "        'DBSCAN': DBSCAN(eps=0.5, min_samples=5),\n",
    "        'Isolation Forest': IsolationForest(contamination=0.2) # Contamination is the proportion of outliers in the data set\n",
    "    }\n",
    "    \n",
    "    # Applying the clustering algorithms and getting silhouette scores\n",
    "    silhouette_scores = {}\n",
    "    for name, algo in algorithms.items():\n",
    "        if name == \"Isolation Forest\":\n",
    "            # -1 for outliers, 1 for inliers -> transforming to 0 for inliers, 1 for outliers\n",
    "            labels = (algo.fit_predict(data_scaled) == -1).astype(int)\n",
    "        else:\n",
    "            labels = algo.fit_predict(data_scaled)\n",
    "            \n",
    "        # Calculating silhouette score (note: silhouette score is higher for better clusters)\n",
    "        score = silhouette_score(data_scaled, labels)\n",
    "        silhouette_scores[name] = score\n",
    "    \n",
    "    return silhouette_scores\n",
    "\n",
    "\n",
    "\n",
    "\n"
   ]
  },
  {
   "cell_type": "code",
   "execution_count": null,
   "metadata": {
    "ExecuteTime": {
     "end_time": "2023-08-17T17:55:51.238638Z",
     "start_time": "2023-08-17T17:55:51.208135Z"
    }
   },
   "outputs": [],
   "source": [
    "from sklearn.metrics import adjusted_rand_score\n",
    "from sklearn.cluster import KMeans\n",
    "import numpy as np\n",
    "\n",
    "def clustering_stability(data, model, perturbation_factor=0.01, random_seed=None):\n",
    "    \"\"\"\n",
    "    Check the stability of a clustering model by applying perturbation to the data.\n",
    "    \n",
    "    Parameters:\n",
    "    - data: The dataset to be clustered.\n",
    "    - model: A clustering model that has fit and predict methods, e.g., KMeans from sklearn.\n",
    "    - perturbation_factor: A small multiplier for the random noise added to the data.\n",
    "    - random_seed: Optional seed for reproducibility.\n",
    "    \n",
    "    Returns:\n",
    "    - ARI value: A value between -1 and 1. Values close to 1 indicate high stability.\n",
    "    \"\"\"\n",
    "    np.random.seed(random_seed)\n",
    "    \n",
    "    # Fit the model on the original data\n",
    "    original_labels = model.fit_predict(data)\n",
    "    \n",
    "    # Add small noise to the data\n",
    "    perturbed_data = data + perturbation_factor * np.random.randn(*data.shape)\n",
    "    \n",
    "    # Fit the model on the perturbed data\n",
    "    perturbed_labels = model.fit_predict(perturbed_data)\n",
    "    \n",
    "    # Compute Adjusted Rand Index to check stability\n",
    "    ari = adjusted_rand_score(original_labels, perturbed_labels)\n",
    "    \n",
    "    return ari"
   ]
  },
  {
   "cell_type": "code",
   "execution_count": null,
   "metadata": {
    "ExecuteTime": {
     "end_time": "2023-08-17T17:56:13.975962Z",
     "start_time": "2023-08-17T17:55:51.239573Z"
    }
   },
   "outputs": [],
   "source": [
    "columns = ['s__answer_changed',\n",
    "       's__answer_duration_lower_outliers',\n",
    "       's__answer_duration__upper_outliers', 's__answer_position',\n",
    "       's__answer_removed', 's__answer_selected', 's__answer_time_set',\n",
    "       's__first_decimal', 's__first_digit', 's__proximity_counts',\n",
    "       's__spatial_outlier', 's__gps', 's__multi_option_question',\n",
    "       's__number_answered', 's__number_unanswered', 's__pause_count',\n",
    "       's__pause_duration', 's__sequence_jump', 's__single_question',\n",
    "       's__time_changed', 's__total_duration', 's__total_elapse' ]\n",
    "\n",
    "\n",
    "# columns = ['s__answer_changed',\n",
    "#        's__answer_duration_lower_outliers',\n",
    "#        's__answer_duration__upper_outliers', \n",
    "#        's__answer_removed', 's__answer_selected', 's__answer_time_set',\n",
    "#        's__first_decimal', 's__first_digit', 's__proximity_counts',\n",
    "#        's__spatial_outlier', 's__gps'\n",
    "#        , 's__number_unanswered', 's__pause_count',\n",
    "#        's__pause_duration', 's__sequence_jump', \n",
    "#        's__time_changed', 's__total_elapse' ]\n",
    "\n",
    "scaler = StandardScaler()\n",
    "df = self.df_unit_score[columns].copy()\n",
    "df = df.fillna(-1)\n",
    "df = pd.DataFrame(scaler.fit_transform(df), columns=columns)\n",
    "X = df.copy()"
   ]
  },
  {
   "cell_type": "code",
   "execution_count": null,
   "metadata": {
    "ExecuteTime": {
     "end_time": "2023-08-17T17:56:14.913890Z",
     "start_time": "2023-08-17T17:56:13.975434Z"
    }
   },
   "outputs": [],
   "source": [
    "#print(clustering_comparison(df))\n",
    "print(compare_clustering_algorithms(df))"
   ]
  },
  {
   "cell_type": "code",
   "execution_count": null,
   "metadata": {
    "ExecuteTime": {
     "end_time": "2023-08-17T18:03:11.924764Z",
     "start_time": "2023-08-17T18:03:09.753721Z"
    }
   },
   "outputs": [],
   "source": [
    "for col in columns:\n",
    "    self.df_unit_score[col].hist()\n",
    "    plt.title(col)\n",
    "    plt.show()"
   ]
  },
  {
   "cell_type": "code",
   "execution_count": null,
   "metadata": {
    "ExecuteTime": {
     "end_time": "2023-08-17T17:56:25.314630Z",
     "start_time": "2023-08-17T17:56:23.521692Z"
    }
   },
   "outputs": [],
   "source": [
    "kmeans = KMeans(n_clusters=2)\n",
    "stability_score = clustering_stability(X, kmeans,perturbation_factor=0.1)\n",
    "\n",
    "print(f\"Stability Score (ARI): {stability_score:.4f}\")"
   ]
  },
  {
   "cell_type": "code",
   "execution_count": null,
   "metadata": {
    "ExecuteTime": {
     "end_time": "2023-08-17T17:56:25.487447Z",
     "start_time": "2023-08-17T17:56:25.332577Z"
    }
   },
   "outputs": [],
   "source": [
    "kmeans = KMeans(n_clusters=2)  # You might want to change the number of clusters based on domain knowledge\n",
    "kmeans_labels = kmeans.fit_predict(X)\n",
    "df['score'] = kmeans_labels\n",
    "y = kmeans_labels\n",
    "print(df['score'].value_counts(), df['score'].value_counts()/df['score'].count(), silhouette_score(df, kmeans_labels))"
   ]
  },
  {
   "cell_type": "code",
   "execution_count": null,
   "metadata": {
    "ExecuteTime": {
     "end_time": "2023-08-17T17:56:26.681700Z",
     "start_time": "2023-08-17T17:56:25.485600Z"
    }
   },
   "outputs": [],
   "source": [
    "import shap\n",
    "\n",
    "from sklearn.model_selection import train_test_split\n",
    "from sklearn import preprocessing\n",
    "from sklearn.ensemble import RandomForestRegressor\n",
    "X_train, X_test, Y_train, Y_test = train_test_split(X, y, test_size = 0.3)"
   ]
  },
  {
   "cell_type": "code",
   "execution_count": null,
   "metadata": {
    "ExecuteTime": {
     "end_time": "2023-08-17T17:56:27.344108Z",
     "start_time": "2023-08-17T17:56:27.136285Z"
    }
   },
   "outputs": [],
   "source": [
    "rf = RandomForestRegressor(max_depth=6, random_state=0, n_estimators=10)\n",
    "rf.fit(X_train, Y_train)  \n",
    "print(rf.feature_importances_)\n",
    "importances = rf.feature_importances_\n",
    "indices = np.argsort(importances)\n",
    "features = X_train.columns\n",
    "plt.title('Feature Importance')\n",
    "plt.barh(range(len(indices)), importances[indices], color='b', align='center')\n",
    "plt.yticks(range(len(indices)), [features[i] for i in indices])\n",
    "plt.xlabel('Relative Importance')\n",
    "plt.show()"
   ]
  },
  {
   "cell_type": "code",
   "execution_count": null,
   "metadata": {},
   "outputs": [],
   "source": [
    "# write documentation on faking interview\n",
    "# The idea it would be to create a platform that compressed in anomised form the data with the feedback on the \"fraud\" to improve classification in the future\n",
    "\n",
    "# Take the case of one very long street household, how the Gps anomaly would act in the case?\n"
   ]
  }
 ],
 "metadata": {
  "kernelspec": {
   "display_name": "mlss",
   "language": "python",
   "name": "mlss"
  },
  "language_info": {
   "codemirror_mode": {
    "name": "ipython",
    "version": 2
   },
   "file_extension": ".py",
   "mimetype": "text/x-python",
   "name": "python",
   "nbconvert_exporter": "python",
   "pygments_lexer": "ipython2",
   "version": "2.7.6"
  }
 },
 "nbformat": 4,
 "nbformat_minor": 0
}
