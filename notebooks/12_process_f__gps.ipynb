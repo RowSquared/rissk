{
 "cells": [
  {
   "cell_type": "code",
   "execution_count": 1,
   "metadata": {
    "ExecuteTime": {
     "end_time": "2023-08-31T11:14:39.639969Z",
     "start_time": "2023-08-31T11:14:39.561212Z"
    }
   },
   "outputs": [],
   "source": [
    "import numpy as np\n",
    "%load_ext autoreload\n",
    "%autoreload 2"
   ]
  },
  {
   "cell_type": "code",
   "execution_count": 2,
   "metadata": {
    "ExecuteTime": {
     "end_time": "2023-08-31T11:14:40.817204Z",
     "start_time": "2023-08-31T11:14:39.655521Z"
    }
   },
   "outputs": [],
   "source": [
    "from hydra import initialize, initialize_config_module, initialize_config_dir, compose\n",
    "from src.unit_proccessing import  *\n",
    "from src.utils.stats_utils import *\n"
   ]
  },
  {
   "cell_type": "code",
   "execution_count": 3,
   "metadata": {
    "ExecuteTime": {
     "end_time": "2023-08-31T11:14:41.030018Z",
     "start_time": "2023-08-31T11:14:40.817501Z"
    }
   },
   "outputs": [],
   "source": [
    "with initialize(config_path='../configuration', version_base='1.1'):\n",
    "    config = compose(config_name='main.yaml')"
   ]
  },
  {
   "cell_type": "code",
   "execution_count": 4,
   "metadata": {
    "ExecuteTime": {
     "end_time": "2023-08-31T11:15:50.082554Z",
     "start_time": "2023-08-31T11:14:41.030280Z"
    }
   },
   "outputs": [
    {
     "name": "stdout",
     "output_type": "stream",
     "text": [
      "IMPORTING: CBE2022 with version CBE2022_16. \n",
      "CBE2022 with version CBE2022_16 loaded. \n",
      "Paradata shape: (4667834, 27) Questionnaires shape: (122, 36) Microdata shape: (2833981, 41) \n",
      "Data Loaded\n",
      "Paradata Processed\n",
      "Items Build\n",
      "Unit Build\n"
     ]
    }
   ],
   "source": [
    "features_class = UnitDataProcessing(config)"
   ]
  },
  {
   "cell_type": "code",
   "execution_count": 5,
   "metadata": {
    "ExecuteTime": {
     "end_time": "2023-08-31T11:15:50.112666Z",
     "start_time": "2023-08-31T11:15:50.079675Z"
    }
   },
   "outputs": [],
   "source": [
    "self = features_class"
   ]
  },
  {
   "cell_type": "code",
   "execution_count": 6,
   "metadata": {
    "ExecuteTime": {
     "end_time": "2023-08-31T11:16:06.495217Z",
     "start_time": "2023-08-31T11:15:50.108861Z"
    }
   },
   "outputs": [
    {
     "name": "stdout",
     "output_type": "stream",
     "text": [
      "Processing f__answer_changed...\n",
      "Processing f__answer_position...\n",
      "Processing f__answer_selected...\n",
      "Processing f__first_decimal...\n",
      "Processing f__gps...\n",
      "Processing f__numeric_response...\n"
     ]
    }
   ],
   "source": [
    "df_item = features_class.df_item"
   ]
  },
  {
   "cell_type": "code",
   "execution_count": 7,
   "metadata": {
    "ExecuteTime": {
     "end_time": "2023-08-31T11:16:07.159917Z",
     "start_time": "2023-08-31T11:16:06.492090Z"
    }
   },
   "outputs": [],
   "source": [
    "# PROCES DATA IN A PIVOT TABLE\n",
    "feature_name = ['f__gps_latitude', 'f__gps_longitude', 'f__gps_accuracy']\n",
    "data, index_col = self.get_clean_pivot_table(feature_name, remove_low_freq_col=False)\n",
    "\n",
    "def replace_with_feature_name(columns, feature_names):\n",
    "    for i, s in enumerate(columns):\n",
    "        for sub in feature_names:\n",
    "            if sub in s:\n",
    "                columns[i] = sub\n",
    "                break\n",
    "    return columns\n",
    "\n",
    "data.columns = replace_with_feature_name(list(data.columns), feature_name)\n",
    "data = data.reset_index()"
   ]
  },
  {
   "cell_type": "code",
   "execution_count": 8,
   "metadata": {
    "ExecuteTime": {
     "end_time": "2023-08-31T11:16:07.465669Z",
     "start_time": "2023-08-31T11:16:07.161512Z"
    }
   },
   "outputs": [],
   "source": [
    "\n",
    "# Everything that has 0,0 as coordinates is an outlier\n",
    "data['s__gps_spatial_extreme_outlier'] = data['f__gps_latitude'].apply(lambda x: 1 if x == 0.000000 else 0)\n",
    "data['s__gps_spatial_extreme_outlier'] = data['f__gps_longitude'].apply(lambda x: 1 if x == 0.000000 else 0)\n",
    "\n",
    "\n",
    "\n",
    "\n",
    "mask = (data['s__gps_spatial_extreme_outlier'] < 1)\n",
    "# Convert to cartesian for faster computation\n",
    "data.loc[mask,'x'], data.loc[mask,'y'], data.loc[mask,'z'] = lat_lon_to_cartesian(data[mask]['f__gps_latitude'],\n",
    "                                                       data[mask]['f__gps_longitude'])\n",
    "median_x = data[mask].drop_duplicates(subset='x')['x'].median()\n",
    "median_y = data[mask].drop_duplicates(subset='y')['y'].median()\n",
    "median_z = data[mask].drop_duplicates(subset='z')['z'].median()\n",
    "\n",
    "# Calculate distances from the median point\n",
    "data['distance_to_median'] = np.sqrt((data[mask]['x'] - median_x)**2 + \n",
    "                                   (data[mask]['y'] - median_y)**2 +\n",
    "                                   (data[mask]['z'] - median_z)**2 \n",
    "                                     )\n",
    "\n",
    "# Set a threshold (e.g., 95th percentile of distances)\n",
    "threshold = data[mask]['distance_to_median'].quantile(0.95) + 30\n",
    "\n",
    "# Everything that is above 30 + the median distance is an outlier\n",
    "data.loc[mask, 's__gps_spatial_extreme_outlier'] = data[mask]['distance_to_median'] > threshold\n",
    "\n",
    "\n",
    "# Convert accuracy from meters to kilometers\n",
    "data['accuracy'] = data['f__gps_accuracy'] / 1e6\n",
    "\n",
    "# Create KDTree\n",
    "tree = cKDTree(data[['x', 'y', 'z']])\n",
    "\n",
    "# Convert 10 meters to kilometers, the unit of the Earth's radius\n",
    "radius = 10 / 1e6\n",
    "\n",
    "# Query for counts accounting for accuracy\n",
    "counts = [len(tree.query_ball_point(xyz, r=radius + accuracy)) - 1 for xyz, accuracy in\n",
    "          zip(data[['x', 'y', 'z']].values, data['accuracy'])]\n",
    "\n",
    "data['s__gps_proximity_counts'] = counts"
   ]
  },
  {
   "cell_type": "code",
   "execution_count": 9,
   "outputs": [
    {
     "data": {
      "text/plain": "False    72473\nTrue        61\nName: s__gps_spatial_extreme_outlier, dtype: int64"
     },
     "execution_count": 9,
     "metadata": {},
     "output_type": "execute_result"
    }
   ],
   "source": [
    "data['s__gps_spatial_extreme_outlier'].value_counts()"
   ],
   "metadata": {
    "collapsed": false,
    "ExecuteTime": {
     "end_time": "2023-08-31T11:16:07.498202Z",
     "start_time": "2023-08-31T11:16:07.465589Z"
    }
   }
  },
  {
   "cell_type": "code",
   "execution_count": 10,
   "metadata": {
    "ExecuteTime": {
     "end_time": "2023-08-31T11:17:59.184755Z",
     "start_time": "2023-08-31T11:16:07.494429Z"
    }
   },
   "outputs": [
    {
     "ename": "KeyboardInterrupt",
     "evalue": "",
     "output_type": "error",
     "traceback": [
      "\u001B[0;31m---------------------------------------------------------------------------\u001B[0m",
      "\u001B[0;31mKeyboardInterrupt\u001B[0m                         Traceback (most recent call last)",
      "Cell \u001B[0;32mIn[10], line 4\u001B[0m\n\u001B[1;32m      2\u001B[0m coords_columns \u001B[38;5;241m=\u001B[39m [\u001B[38;5;124m'\u001B[39m\u001B[38;5;124mx\u001B[39m\u001B[38;5;124m'\u001B[39m, \u001B[38;5;124m'\u001B[39m\u001B[38;5;124my\u001B[39m\u001B[38;5;124m'\u001B[39m]\n\u001B[1;32m      3\u001B[0m model \u001B[38;5;241m=\u001B[39m DBSCAN(eps\u001B[38;5;241m=\u001B[39m\u001B[38;5;241m5\u001B[39m, min_samples\u001B[38;5;241m=\u001B[39m\u001B[38;5;241m5\u001B[39m)  \u001B[38;5;66;03m# tune these parameters for your data\u001B[39;00m\n\u001B[0;32m----> 4\u001B[0m \u001B[43mmodel\u001B[49m\u001B[38;5;241;43m.\u001B[39;49m\u001B[43mfit\u001B[49m\u001B[43m(\u001B[49m\u001B[43mdata\u001B[49m\u001B[43m[\u001B[49m\u001B[43mmask\u001B[49m\u001B[43m]\u001B[49m\u001B[43m[\u001B[49m\u001B[43mcoords_columns\u001B[49m\u001B[43m]\u001B[49m\u001B[43m)\u001B[49m\n\u001B[1;32m      5\u001B[0m data\u001B[38;5;241m.\u001B[39mloc[mask, \u001B[38;5;124m'\u001B[39m\u001B[38;5;124moutlier\u001B[39m\u001B[38;5;124m'\u001B[39m] \u001B[38;5;241m=\u001B[39m model\u001B[38;5;241m.\u001B[39mfit_predict(data[mask][coords_columns])\n\u001B[1;32m      6\u001B[0m data[\u001B[38;5;124m'\u001B[39m\u001B[38;5;124ms__gps_spatial_extreme_outlier\u001B[39m\u001B[38;5;124m'\u001B[39m] \u001B[38;5;241m=\u001B[39m data\u001B[38;5;241m.\u001B[39mapply(\u001B[38;5;28;01mlambda\u001B[39;00m row: \u001B[38;5;241m1\u001B[39m \u001B[38;5;28;01mif\u001B[39;00m row[\u001B[38;5;124m'\u001B[39m\u001B[38;5;124moutlier\u001B[39m\u001B[38;5;124m'\u001B[39m]\u001B[38;5;241m==\u001B[39m\u001B[38;5;241m-\u001B[39m\u001B[38;5;241m1\u001B[39m \u001B[38;5;129;01mor\u001B[39;00m row[\u001B[38;5;124m'\u001B[39m\u001B[38;5;124ms__gps_spatial_extreme_outlier\u001B[39m\u001B[38;5;124m'\u001B[39m]\u001B[38;5;241m==\u001B[39m\u001B[38;5;241m1\u001B[39m \u001B[38;5;28;01melse\u001B[39;00m \u001B[38;5;241m0\u001B[39m, \u001B[38;5;241m1\u001B[39m)\n",
      "File \u001B[0;32m~/anaconda3/envs/mlss/lib/python3.8/site-packages/sklearn/base.py:1151\u001B[0m, in \u001B[0;36m_fit_context.<locals>.decorator.<locals>.wrapper\u001B[0;34m(estimator, *args, **kwargs)\u001B[0m\n\u001B[1;32m   1144\u001B[0m     estimator\u001B[38;5;241m.\u001B[39m_validate_params()\n\u001B[1;32m   1146\u001B[0m \u001B[38;5;28;01mwith\u001B[39;00m config_context(\n\u001B[1;32m   1147\u001B[0m     skip_parameter_validation\u001B[38;5;241m=\u001B[39m(\n\u001B[1;32m   1148\u001B[0m         prefer_skip_nested_validation \u001B[38;5;129;01mor\u001B[39;00m global_skip_validation\n\u001B[1;32m   1149\u001B[0m     )\n\u001B[1;32m   1150\u001B[0m ):\n\u001B[0;32m-> 1151\u001B[0m     \u001B[38;5;28;01mreturn\u001B[39;00m \u001B[43mfit_method\u001B[49m\u001B[43m(\u001B[49m\u001B[43mestimator\u001B[49m\u001B[43m,\u001B[49m\u001B[43m \u001B[49m\u001B[38;5;241;43m*\u001B[39;49m\u001B[43margs\u001B[49m\u001B[43m,\u001B[49m\u001B[43m \u001B[49m\u001B[38;5;241;43m*\u001B[39;49m\u001B[38;5;241;43m*\u001B[39;49m\u001B[43mkwargs\u001B[49m\u001B[43m)\u001B[49m\n",
      "File \u001B[0;32m~/anaconda3/envs/mlss/lib/python3.8/site-packages/sklearn/cluster/_dbscan.py:410\u001B[0m, in \u001B[0;36mDBSCAN.fit\u001B[0;34m(self, X, y, sample_weight)\u001B[0m\n\u001B[1;32m    408\u001B[0m \u001B[38;5;66;03m# A list of all core samples found.\u001B[39;00m\n\u001B[1;32m    409\u001B[0m core_samples \u001B[38;5;241m=\u001B[39m np\u001B[38;5;241m.\u001B[39masarray(n_neighbors \u001B[38;5;241m>\u001B[39m\u001B[38;5;241m=\u001B[39m \u001B[38;5;28mself\u001B[39m\u001B[38;5;241m.\u001B[39mmin_samples, dtype\u001B[38;5;241m=\u001B[39mnp\u001B[38;5;241m.\u001B[39muint8)\n\u001B[0;32m--> 410\u001B[0m \u001B[43mdbscan_inner\u001B[49m\u001B[43m(\u001B[49m\u001B[43mcore_samples\u001B[49m\u001B[43m,\u001B[49m\u001B[43m \u001B[49m\u001B[43mneighborhoods\u001B[49m\u001B[43m,\u001B[49m\u001B[43m \u001B[49m\u001B[43mlabels\u001B[49m\u001B[43m)\u001B[49m\n\u001B[1;32m    412\u001B[0m \u001B[38;5;28mself\u001B[39m\u001B[38;5;241m.\u001B[39mcore_sample_indices_ \u001B[38;5;241m=\u001B[39m np\u001B[38;5;241m.\u001B[39mwhere(core_samples)[\u001B[38;5;241m0\u001B[39m]\n\u001B[1;32m    413\u001B[0m \u001B[38;5;28mself\u001B[39m\u001B[38;5;241m.\u001B[39mlabels_ \u001B[38;5;241m=\u001B[39m labels\n",
      "\u001B[0;31mKeyboardInterrupt\u001B[0m: "
     ]
    }
   ],
   "source": [
    "# DO A Further cleaning of extreme outliers by DBSCAN\n",
    "coords_columns = ['x', 'y']\n",
    "model = DBSCAN(eps=5, min_samples=5)  # tune these parameters for your data\n",
    "model.fit(data[mask][coords_columns])\n",
    "data.loc[mask, 'outlier'] = model.fit_predict(data[mask][coords_columns])\n",
    "data['s__gps_spatial_extreme_outlier'] = data.apply(lambda row: 1 if row['outlier']==-1 or row['s__gps_spatial_extreme_outlier']==1 else 0, 1)\n"
   ]
  },
  {
   "cell_type": "code",
   "execution_count": null,
   "metadata": {
    "is_executing": true
   },
   "outputs": [],
   "source": [
    "data['s__gps_spatial_extreme_outlier'].value_counts()"
   ]
  },
  {
   "cell_type": "code",
   "execution_count": null,
   "metadata": {
    "is_executing": true
   },
   "outputs": [],
   "source": [
    "from pyod.models.cof import COF\n",
    "from pyod.models.lof import LOF\n",
    "\n",
    "# FIND OUTLIERS WHICH ARE NOT EXTREMES\n",
    "\n",
    "model = LOF(n_neighbors=20)\n",
    "columns =  ['x', 'y'] #['f__gps_latitude', 'f__gps_longitude', 'f__gps_accuracy']#['f__gps_latitude', 'f__gps_longitude'] #\n",
    "#data = data[mask][columns].drop_duplicates()\n",
    "model.fit(data[mask][columns])"
   ]
  },
  {
   "cell_type": "code",
   "execution_count": null,
   "metadata": {
    "is_executing": true
   },
   "outputs": [],
   "source": [
    "data.loc[mask,'s__gps_spatial_outlier'] = model.predict(data[mask][columns])\n",
    "#data['anomaly'] = model.labels_\n",
    "#data['anomaly'] = data['anomaly'].apply(lambda x: 1 if x==-1 else 0)\n",
    "data['s__gps_spatial_outlier'].value_counts()#, data['anomaly'].value_counts()/data['anomaly'].count()"
   ]
  },
  {
   "cell_type": "code",
   "execution_count": null,
   "metadata": {
    "is_executing": true
   },
   "outputs": [],
   "source": [
    "import folium\n",
    "import matplotlib.colors\n",
    "\n",
    "def get_color(row):\n",
    "    if row['s__gps_spatial_extreme_outlier'] ==1:\n",
    "        return 'red'\n",
    "    elif row['s__gps_spatial_outlier'] ==1:\n",
    "        return 'orange'\n",
    "    elif row['s__gps_proximity_counts'] ==1:\n",
    "        return 'green'\n",
    "    else:\n",
    "        return 'blue'\n",
    "\n",
    "df = data\n",
    "m = folium.Map(location=[df['f__gps_latitude'].mean(), df['f__gps_longitude'].mean()], zoom_start=10)\n",
    "\n",
    "\n",
    "#df['color'] = df['s__proximity_counts'].apply(lambda x: 'green' if x>0 else 'blue')\n",
    "df['color'] = df.apply(lambda row: get_color(row), 1)\n",
    "\n",
    "for idx, row in df.iterrows():\n",
    "\n",
    "\n",
    "    marker = folium.CircleMarker(\n",
    "        location=(row['f__gps_latitude'], row['f__gps_longitude']),\n",
    "        radius=5,#+row['s__proximity_counts'],\n",
    "        color=row['color'],\n",
    "        fill=True,\n",
    "        tooltip = (row['f__gps_latitude'], row['f__gps_longitude'], row['distance_to_median']),\n",
    "        fill_color=row['color']\n",
    "    )\n",
    "\n",
    "    # Add a popup label to display the value of s__spacial_outlier\n",
    "    folium.Popup(f\"Value: \").add_to(marker)\n",
    "\n",
    "    marker.add_to(m)\n",
    "    \n",
    "m.save('map_outliers.html')"
   ]
  },
  {
   "cell_type": "code",
   "execution_count": 44,
   "metadata": {
    "ExecuteTime": {
     "end_time": "2023-08-31T11:08:38.457662Z",
     "start_time": "2023-08-31T11:08:37.959457Z"
    }
   },
   "outputs": [],
   "source": [
    "|m.save('map_with_labels99.html')"
   ]
  },
  {
   "cell_type": "code",
   "execution_count": 38,
   "outputs": [
    {
     "data": {
      "text/plain": "(976, 976)"
     },
     "execution_count": 38,
     "metadata": {},
     "output_type": "execute_result"
    }
   ],
   "source": [
    "data.interview__id.count(),data.interview__id.nunique()"
   ],
   "metadata": {
    "collapsed": false,
    "ExecuteTime": {
     "end_time": "2023-08-31T11:07:02.631999Z",
     "start_time": "2023-08-31T11:07:02.592056Z"
    }
   }
  },
  {
   "cell_type": "code",
   "execution_count": null,
   "outputs": [],
   "source": [],
   "metadata": {
    "collapsed": false
   }
  }
 ],
 "metadata": {
  "kernelspec": {
   "display_name": "mlss",
   "language": "python",
   "name": "mlss"
  },
  "language_info": {
   "codemirror_mode": {
    "name": "ipython",
    "version": 2
   },
   "file_extension": ".py",
   "mimetype": "text/x-python",
   "name": "python",
   "nbconvert_exporter": "python",
   "pygments_lexer": "ipython2",
   "version": "2.7.6"
  }
 },
 "nbformat": 4,
 "nbformat_minor": 0
}
