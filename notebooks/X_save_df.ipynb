{
 "cells": [
  {
   "cell_type": "code",
   "execution_count": null,
   "metadata": {
    "ExecuteTime": {
     "end_time": "2023-08-18T13:12:07.884332Z",
     "start_time": "2023-08-18T13:12:07.751403Z"
    }
   },
   "outputs": [],
   "source": [
    "% load_ext autoreload\n",
    "% autoreload 2"
   ]
  },
  {
   "cell_type": "code",
   "execution_count": null,
   "metadata": {
    "ExecuteTime": {
     "end_time": "2023-08-18T13:12:07.971535Z",
     "start_time": "2023-08-18T13:12:07.918700Z"
    }
   },
   "outputs": [],
   "source": [
    "#%load_ext memory_profiler"
   ]
  },
  {
   "cell_type": "code",
   "execution_count": null,
   "metadata": {
    "ExecuteTime": {
     "end_time": "2023-08-18T13:12:08.350334Z",
     "start_time": "2023-08-18T13:12:08.306178Z"
    }
   },
   "outputs": [],
   "source": [
    "from hydra import initialize, compose\n",
    "\n",
    "from src.unit_proccessing import *\n"
   ]
  },
  {
   "cell_type": "code",
   "execution_count": null,
   "metadata": {},
   "outputs": [],
   "source": [
    "import pandas as pd"
   ]
  },
  {
   "cell_type": "code",
   "execution_count": null,
   "metadata": {},
   "outputs": [],
   "source": [
    "def get_df_save_path(fc: UnitDataProcessing, fname: str):\n",
    "    # todo does not work with surveys all\n",
    "    return os.path.join(fc.config.data.raw, fc.config.surveys[0],\n",
    "                        fc.config.survey_version[0], 'processed_data', fname)\n",
    "\n",
    "def save_df(fc: UnitDataProcessing, df: pd.DataFrame, fname: str):\n",
    "    save_path = get_df_save_path(fc, fname)\n",
    "    print(save_path)\n",
    "    pd.to_pickle(df, save_path)\n"
   ]
  },
  {
   "cell_type": "code",
   "execution_count": null,
   "metadata": {
    "ExecuteTime": {
     "end_time": "2023-08-18T13:12:09.504083Z",
     "start_time": "2023-08-18T13:12:09.322595Z"
    }
   },
   "outputs": [],
   "source": [
    "with initialize(config_path='../configuration', version_base='1.1'):\n",
    "    config = compose(config_name='main.yaml')"
   ]
  },
  {
   "cell_type": "code",
   "execution_count": null,
   "metadata": {
    "ExecuteTime": {
     "end_time": "2023-08-18T13:12:13.140093Z",
     "start_time": "2023-08-18T13:12:12.554172Z"
    }
   },
   "outputs": [],
   "source": [
    "features_class = UnitDataProcessing(config)"
   ]
  },
  {
   "cell_type": "code",
   "execution_count": null,
   "metadata": {
    "ExecuteTime": {
     "end_time": "2023-08-18T13:12:32.725424Z",
     "start_time": "2023-08-18T13:12:32.644454Z"
    }
   },
   "outputs": [],
   "source": [
    "#df_paradata = features_class.df_paradata"
   ]
  },
  {
   "cell_type": "code",
   "execution_count": null,
   "metadata": {
    "ExecuteTime": {
     "end_time": "2023-08-17T17:55:50.922321Z",
     "start_time": "2023-08-17T17:55:47.626733Z"
    }
   },
   "outputs": [],
   "source": [
    "df_item = features_class.df_item"
   ]
  },
  {
   "cell_type": "code",
   "execution_count": null,
   "metadata": {},
   "outputs": [],
   "source": [
    "df_unit = features_class.df_unit"
   ]
  },
  {
   "cell_type": "code",
   "execution_count": null,
   "metadata": {},
   "outputs": [],
   "source": [
    "df_unit_score = features_class.df_unit_score"
   ]
  },
  {
   "cell_type": "code",
   "execution_count": null,
   "metadata": {},
   "outputs": [],
   "source": [
    "save_df(features_class, df_item, 'df_item.pkl')\n",
    "save_df(features_class, df_unit, 'df_unit.pkl')\n",
    "save_df(features_class, df_unit_score, 'df_unit_score.pkl')"
   ]
  }
 ],
 "metadata": {
  "kernelspec": {
   "display_name": "Python 3 (ipykernel)",
   "language": "python",
   "name": "python3"
  },
  "language_info": {
   "codemirror_mode": {
    "name": "ipython",
    "version": 2
   },
   "file_extension": ".py",
   "mimetype": "text/x-python",
   "name": "python",
   "nbconvert_exporter": "python",
   "pygments_lexer": "ipython2",
   "version": "2.7.6"
  }
 },
 "nbformat": 4,
 "nbformat_minor": 0
}
