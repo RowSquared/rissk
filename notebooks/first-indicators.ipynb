{
 "cells": [
  {
   "cell_type": "markdown",
   "source": [
    "# Load dependencies"
   ],
   "metadata": {
    "collapsed": false
   }
  },
  {
   "cell_type": "code",
   "execution_count": 39,
   "metadata": {
    "collapsed": true,
    "ExecuteTime": {
     "end_time": "2023-06-27T12:49:48.534487Z",
     "start_time": "2023-06-27T12:49:48.479141Z"
    }
   },
   "outputs": [],
   "source": [
    "import pandas as pd\n",
    "import json"
   ]
  },
  {
   "cell_type": "code",
   "execution_count": null,
   "outputs": [],
   "source": [],
   "metadata": {
    "collapsed": false
   }
  },
  {
   "cell_type": "code",
   "execution_count": null,
   "outputs": [],
   "source": [
    "%load_ext autoreload\n",
    "%autoreload 2"
   ],
   "metadata": {
    "collapsed": false
   }
  },
  {
   "cell_type": "code",
   "execution_count": 1,
   "outputs": [
    {
     "name": "stderr",
     "output_type": "stream",
     "text": [
      "usage: ipykernel_launcher.py [--help] [--hydra-help] [--version]\n",
      "                             [--cfg {job,hydra,all}] [--resolve]\n",
      "                             [--package PACKAGE] [--run] [--multirun]\n",
      "                             [--shell-completion] [--config-path CONFIG_PATH]\n",
      "                             [--config-name CONFIG_NAME]\n",
      "                             [--config-dir CONFIG_DIR]\n",
      "                             [--experimental-rerun EXPERIMENTAL_RERUN]\n",
      "                             [--info [{all,config,defaults,defaults-tree,plugins,searchpath}]]\n",
      "                             [overrides ...]\n",
      "ipykernel_launcher.py: error: unrecognized arguments: -f\n"
     ]
    },
    {
     "ename": "SystemExit",
     "evalue": "2",
     "output_type": "error",
     "traceback": [
      "An exception has occurred, use %tb to see the full traceback.\n",
      "\u001B[0;31mSystemExit\u001B[0m\u001B[0;31m:\u001B[0m 2\n"
     ]
    },
    {
     "name": "stderr",
     "output_type": "stream",
     "text": [
      "/Users/gabriele/anaconda3/envs/ml4qc/lib/python3.10/site-packages/IPython/core/interactiveshell.py:3513: UserWarning: To exit: use 'exit', 'quit', or Ctrl-D.\n",
      "  warn(\"To exit: use 'exit', 'quit', or Ctrl-D.\", stacklevel=1)\n"
     ]
    }
   ],
   "source": [
    "\n",
    "\n",
    "process_data()"
   ],
   "metadata": {
    "collapsed": false,
    "ExecuteTime": {
     "end_time": "2023-06-27T17:53:18.931841Z",
     "start_time": "2023-06-27T17:53:18.847972Z"
    }
   }
  },
  {
   "cell_type": "code",
   "execution_count": 40,
   "outputs": [],
   "source": [
    "para_path = \"01_sample_data/noonu_prefilled/noonu_mdv_census_2_Paradata_All\"\n",
    "micro_path = \"01_sample_data/ifad_tunesia/EndlineFINALV5_1_STATA_All\"  # not even sure we will need this\n",
    "json_path = \"01_sample_data/noonu_prefilled/noonu_mdv_census_2_Tabular_All/Questionnaire/content\""
   ],
   "metadata": {
    "collapsed": false,
    "ExecuteTime": {
     "end_time": "2023-06-27T12:49:48.545139Z",
     "start_time": "2023-06-27T12:49:48.483198Z"
    }
   }
  },
  {
   "cell_type": "markdown",
   "source": [
    "# Read the qnr structure"
   ],
   "metadata": {
    "collapsed": false
   }
  },
  {
   "cell_type": "code",
   "execution_count": 41,
   "outputs": [],
   "source": [
    "with open(f'{json_path}/document.json', 'r') as file:\n",
    "    qnr_structure = json.load(file)\n",
    "\n",
    "# create a mapping of VariableName to $type\n",
    "type_mapping = {}\n",
    "\n",
    "def process_json_structure(children):\n",
    "    for child in children:\n",
    "        if \"$type\" in child:\n",
    "            variable_name = child.get(\"VariableName\")\n",
    "\n",
    "            type_value = child[\"$type\"]\n",
    "            if \"YesNoView\" in child:\n",
    "                if child[\"YesNoView\"]:\n",
    "                    type_value = \"YesNoQuestion\"  # for yes/no questions, overwrite with custom question type\n",
    "\n",
    "            if variable_name:\n",
    "                type_mapping[variable_name] = type_value\n",
    "\n",
    "        if \"Children\" in child:\n",
    "            process_json_structure(child[\"Children\"])\n",
    "\n",
    "\n",
    "process_json_structure(qnr_structure[\"Children\"])"
   ],
   "metadata": {
    "collapsed": false,
    "ExecuteTime": {
     "end_time": "2023-06-27T12:49:48.558799Z",
     "start_time": "2023-06-27T12:49:48.488910Z"
    }
   }
  },
  {
   "cell_type": "markdown",
   "source": [
    "# Prepare paradata"
   ],
   "metadata": {
    "collapsed": false
   }
  },
  {
   "cell_type": "code",
   "execution_count": 42,
   "outputs": [],
   "source": [
    "df_para = pd.read_csv(f'{para_path}/paradata.tab', delimiter='\\t')\n",
    "df_para[['param', 'answer', 'roster_level']] = df_para['parameters'].str.split('\\|\\|',\n",
    "                                                                               expand=True)  # split the parameter column\n",
    "df_para['datetime_utc'] = pd.to_datetime(df_para['timestamp_utc'])  # generate date-time, TZ not yet considered\n",
    "df_para['type'] = df_para['param'].map(type_mapping)\n",
    "# TODO: set to nan, streamline missing and none, etc"
   ],
   "metadata": {
    "collapsed": false,
    "ExecuteTime": {
     "end_time": "2023-06-27T12:49:52.538626Z",
     "start_time": "2023-06-27T12:49:48.501184Z"
    }
   }
  },
  {
   "cell_type": "code",
   "execution_count": 43,
   "outputs": [],
   "source": [
    "df_para['answer_changed'] = False\n",
    "group_columns = ['interview__id', 'param', 'roster_level']  # group dfs by interview, variable and roster instance"
   ],
   "metadata": {
    "collapsed": false,
    "ExecuteTime": {
     "end_time": "2023-06-27T12:49:52.540839Z",
     "start_time": "2023-06-27T12:49:52.539004Z"
    }
   }
  },
  {
   "cell_type": "markdown",
   "source": [
    "## List questions"
   ],
   "metadata": {
    "collapsed": false
   }
  },
  {
   "cell_type": "code",
   "execution_count": 44,
   "outputs": [],
   "source": [
    "df_para_list = df_para[(df_para['type'] == 'TextListQuestion') & (df_para['event'] == 'AnswerSet')].copy()\n",
    "grouped_list = df_para_list.groupby(group_columns)\n",
    "for _, group in grouped_list:\n",
    "    prev_answers = set()  # set an empty set for previous answers\n",
    "    for index, row in group.iterrows():\n",
    "        row_answers = set(row['answer'].split('|')) if pd.notnull(row['answer']) else set()\n",
    "        if prev_answers.difference(row_answers):\n",
    "            df_para_list.at[\n",
    "                index, 'answer_changed'] = True  # can be removed, just to verify more easily\n",
    "            df_para.at[index, 'answer_changed'] = True\n",
    "        prev_answers = row_answers"
   ],
   "metadata": {
    "collapsed": false,
    "ExecuteTime": {
     "end_time": "2023-06-27T12:49:54.803788Z",
     "start_time": "2023-06-27T12:49:52.627274Z"
    }
   }
  },
  {
   "cell_type": "markdown",
   "source": [
    "Currently counting any change, irrespective if it is deleting a list item, or changing the spelling or updating the list item. There is a lot of the latter, which is not an issue per se, more a sign of better control. Maybe we should redefine how change answer and remove answer are defined. E.g unselecting a multi_select, changing yes/no, removing a list item as remove answer? These actions are worse if they entail a lot of enablements."
   ],
   "metadata": {
    "collapsed": false
   }
  },
  {
   "cell_type": "raw",
   "source": [
    "## Single answer questions"
   ],
   "metadata": {
    "collapsed": false
   }
  },
  {
   "cell_type": "code",
   "execution_count": 45,
   "outputs": [],
   "source": [
    "df_para_question = df_para[(~df_para['type'].isin(['YesNoQuestion', 'MultyOptionsQuestion', 'TextListQuestion', 'Variable'])) & (df_para['event'] == 'AnswerSet')].copy()\n",
    "df_para_question = df_para_question[df_para_question.duplicated(subset=group_columns, keep=False)]\n",
    "if df_para_question.shape[0] > 0:\n",
    "    grouped_question = df_para_question.groupby(group_columns)\n",
    "    for _, group in grouped_question:\n",
    "        prev_answer = None  # set an empty answer for previous answers\n",
    "        for index, row in group.iterrows():\n",
    "            row_answer = row['answer']\n",
    "            if prev_answer is not None and prev_answer != row_answer:\n",
    "                df_para_question.at[index, 'answer_changed'] = True  # can be removed, just to verify more easily\n",
    "                df_para.at[index, 'answer_changed'] = True\n",
    "            prev_answer = row_answer"
   ],
   "metadata": {
    "collapsed": false,
    "ExecuteTime": {
     "end_time": "2023-06-27T12:50:19.032087Z",
     "start_time": "2023-06-27T12:49:54.827587Z"
    }
   }
  },
  {
   "cell_type": "markdown",
   "source": [
    "@Gabriele, above cell takes quite long to execute, can we write this faster?"
   ],
   "metadata": {
    "collapsed": false
   }
  },
  {
   "cell_type": "markdown",
   "source": [
    "## YesNo questions"
   ],
   "metadata": {
    "collapsed": false
   }
  },
  {
   "cell_type": "code",
   "execution_count": 46,
   "outputs": [],
   "source": [
    "df_para_yesno = df_para[(df_para['type'] == 'YesNoQuestion') & (df_para['event'] == 'AnswerSet')].copy()\n",
    "if df_para_yesno.shape[0] > 0:\n",
    "    df_para_yesno[['yes_answers', 'no_answers']] = df_para_yesno['answer'].str.split('|', expand=True)\n",
    "    grouped_yesno = df_para_yesno.groupby(group_columns)\n",
    "\n",
    "    for _, group in grouped_yesno:\n",
    "        prev_yes_answers = set()  # set an empty set for previous yes-answers\n",
    "        for index, row in group.iterrows():\n",
    "            yes_answers = set(row['yes_answers'].split(', ')) if pd.notnull(row['yes_answers']) else set()\n",
    "            no_answers = set(row['no_answers'].split(', ')) if pd.notnull(row['no_answers']) else set()\n",
    "\n",
    "            if len(prev_yes_answers.intersection(no_answers)) > 0:\n",
    "                df_para_yesno.at[\n",
    "                    index, 'answer_changed'] = True  # can be removed, just to verify more easily\n",
    "                df_para.at[index, 'answer_changed'] = True\n",
    "            prev_yes_answers = yes_answers"
   ],
   "metadata": {
    "collapsed": false,
    "ExecuteTime": {
     "end_time": "2023-06-27T12:50:19.120548Z",
     "start_time": "2023-06-27T12:50:19.117707Z"
    }
   }
  },
  {
   "cell_type": "markdown",
   "source": [
    "## Normal multi-answer questions"
   ],
   "metadata": {
    "collapsed": false
   }
  },
  {
   "cell_type": "code",
   "execution_count": 47,
   "outputs": [],
   "source": [
    "df_para_multi = df_para[(df_para['type'] == 'MultyOptionsQuestion') & (df_para['event'] == 'AnswerSet')].copy()\n",
    "if df_para_multi.shape[0] > 0:\n",
    "    grouped_multi = df_para_multi.groupby(group_columns)\n",
    "    for _, group in grouped_multi:\n",
    "        prev_answers = set()  # set an empty set for previous answers\n",
    "        for index, row in group.iterrows():\n",
    "            row_answers = set(row['answer'].split(', ')) if pd.notnull(row['answer']) else set()\n",
    "            if prev_answers.difference(row_answers):\n",
    "                df_para_multi.at[\n",
    "                    index, 'answer_changed'] = True  # can be removed, just to verify more easily\n",
    "                df_para.at[index, 'answer_changed'] = True\n",
    "            prev_answers = row_answers"
   ],
   "metadata": {
    "collapsed": false,
    "ExecuteTime": {
     "end_time": "2023-06-27T12:50:20.447677Z",
     "start_time": "2023-06-27T12:50:19.206313Z"
    }
   }
  },
  {
   "cell_type": "markdown",
   "source": [
    "# Summary"
   ],
   "metadata": {
    "collapsed": false
   }
  },
  {
   "cell_type": "code",
   "execution_count": 48,
   "outputs": [
    {
     "data": {
      "text/plain": "                          interview__id  param  n_answer_changed\n0      000bd8ca8f0e47f49294facfa53c41d8    n10                 1\n1      000bd8ca8f0e47f49294facfa53c41d8    n15                 2\n2      000bd8ca8f0e47f49294facfa53c41d8    n16                 1\n3      000bd8ca8f0e47f49294facfa53c41d8  n16aa                 1\n4      000bd8ca8f0e47f49294facfa53c41d8     n7                 3\n...                                 ...    ...               ...\n65961  fffd69e86d1c474da9f035f4bb8a900c   n13g                 1\n65962  fffd69e86d1c474da9f035f4bb8a900c   n13h                 1\n65963  fffd69e86d1c474da9f035f4bb8a900c    n14                 1\n65964  fffd69e86d1c474da9f035f4bb8a900c    n22                 1\n65965  fffd69e86d1c474da9f035f4bb8a900c    n25                 1\n\n[65966 rows x 3 columns]",
      "text/html": "<div>\n<style scoped>\n    .dataframe tbody tr th:only-of-type {\n        vertical-align: middle;\n    }\n\n    .dataframe tbody tr th {\n        vertical-align: top;\n    }\n\n    .dataframe thead th {\n        text-align: right;\n    }\n</style>\n<table border=\"1\" class=\"dataframe\">\n  <thead>\n    <tr style=\"text-align: right;\">\n      <th></th>\n      <th>interview__id</th>\n      <th>param</th>\n      <th>n_answer_changed</th>\n    </tr>\n  </thead>\n  <tbody>\n    <tr>\n      <th>0</th>\n      <td>000bd8ca8f0e47f49294facfa53c41d8</td>\n      <td>n10</td>\n      <td>1</td>\n    </tr>\n    <tr>\n      <th>1</th>\n      <td>000bd8ca8f0e47f49294facfa53c41d8</td>\n      <td>n15</td>\n      <td>2</td>\n    </tr>\n    <tr>\n      <th>2</th>\n      <td>000bd8ca8f0e47f49294facfa53c41d8</td>\n      <td>n16</td>\n      <td>1</td>\n    </tr>\n    <tr>\n      <th>3</th>\n      <td>000bd8ca8f0e47f49294facfa53c41d8</td>\n      <td>n16aa</td>\n      <td>1</td>\n    </tr>\n    <tr>\n      <th>4</th>\n      <td>000bd8ca8f0e47f49294facfa53c41d8</td>\n      <td>n7</td>\n      <td>3</td>\n    </tr>\n    <tr>\n      <th>...</th>\n      <td>...</td>\n      <td>...</td>\n      <td>...</td>\n    </tr>\n    <tr>\n      <th>65961</th>\n      <td>fffd69e86d1c474da9f035f4bb8a900c</td>\n      <td>n13g</td>\n      <td>1</td>\n    </tr>\n    <tr>\n      <th>65962</th>\n      <td>fffd69e86d1c474da9f035f4bb8a900c</td>\n      <td>n13h</td>\n      <td>1</td>\n    </tr>\n    <tr>\n      <th>65963</th>\n      <td>fffd69e86d1c474da9f035f4bb8a900c</td>\n      <td>n14</td>\n      <td>1</td>\n    </tr>\n    <tr>\n      <th>65964</th>\n      <td>fffd69e86d1c474da9f035f4bb8a900c</td>\n      <td>n22</td>\n      <td>1</td>\n    </tr>\n    <tr>\n      <th>65965</th>\n      <td>fffd69e86d1c474da9f035f4bb8a900c</td>\n      <td>n25</td>\n      <td>1</td>\n    </tr>\n  </tbody>\n</table>\n<p>65966 rows × 3 columns</p>\n</div>"
     },
     "execution_count": 48,
     "metadata": {},
     "output_type": "execute_result"
    }
   ],
   "source": [
    "summarize_group = ['interview__id', 'param']\n",
    "n_answer_changed = df_para[df_para['answer_changed']].groupby(summarize_group).size().reset_index(name='n_answer_changed')\n",
    "#interview_questions = pd.DataFrame(df_para[df_para['event'] == 'AnswerSet'][summarize_group].drop_duplicates())\n",
    "#n_answer_changed = interview_questions.merge(n_answer_changed, on=summarize_group, how='left').fillna({'n_answer_changed': 0})\n",
    "# @Gabriele, so we need the 0 counts?\n",
    "n_answer_changed"
   ],
   "metadata": {
    "collapsed": false,
    "ExecuteTime": {
     "end_time": "2023-06-27T12:50:20.493602Z",
     "start_time": "2023-06-27T12:50:20.448617Z"
    }
   }
  },
  {
   "cell_type": "code",
   "execution_count": 48,
   "outputs": [],
   "source": [],
   "metadata": {
    "collapsed": false,
    "ExecuteTime": {
     "end_time": "2023-06-27T12:50:20.494832Z",
     "start_time": "2023-06-27T12:50:20.493993Z"
    }
   }
  }
 ],
 "metadata": {
  "kernelspec": {
   "name": "ml4qc",
   "language": "python",
   "display_name": "ml4qc"
  },
  "language_info": {
   "codemirror_mode": {
    "name": "ipython",
    "version": 2
   },
   "file_extension": ".py",
   "mimetype": "text/x-python",
   "name": "python",
   "nbconvert_exporter": "python",
   "pygments_lexer": "ipython2",
   "version": "2.7.6"
  }
 },
 "nbformat": 4,
 "nbformat_minor": 0
}
