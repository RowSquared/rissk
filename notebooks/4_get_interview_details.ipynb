{
 "cells": [
  {
   "cell_type": "code",
   "execution_count": 4,
   "metadata": {
    "collapsed": true,
    "ExecuteTime": {
     "end_time": "2023-07-03T08:45:45.138534Z",
     "start_time": "2023-07-03T08:45:44.625299Z"
    }
   },
   "outputs": [],
   "source": [
    "import os\n",
    "import pandas as pd\n",
    "directory = \"raw\""
   ]
  },
  {
   "cell_type": "code",
   "execution_count": 36,
   "outputs": [
    {
     "data": {
      "text/plain": "                       interview__id      interviewer            datetime  \\\n0   5cb9ddfc494844b7bf97930c613be160  AbdelmajM_int_N 2023-03-09 14:48:40   \n1   bba844ccc4f542118079c9411bef68e5  AbdelmajM_int_N 2023-03-15 12:56:58   \n2   4e3f0194aa8d4b8da1b61d25373ad270  AbdelmajM_int_N 2023-03-15 19:58:31   \n3   4ca870c778f648cc986dfdafa83e3755  AbdelmajM_int_N 2023-04-12 08:24:32   \n4   6c0de8d6f11646f69e89a0bf64c57810     HoudaR_int_N 2023-03-13 18:24:22   \n5   0d75e9acc3d24dffba9313c8e6fac8ed     HoudaR_int_N 2023-03-28 21:48:38   \n6   3896dfd4d24143ab9c18eeb0f082392d     HoudaR_int_N 2023-04-13 08:58:10   \n7   f7fe612b614644529b673ecc59e4d18b     HoudaZ_int_N 2023-03-08 19:43:25   \n8   f5d0050536e74bb59c746556398f6e25     HoudaZ_int_N 2023-04-03 19:34:17   \n9   f199b3df198b486b95f4f8ffd9a7090e     HoudaZ_int_N 2023-04-07 10:23:39   \n10  cc9dd7eab45143ed989a5293be3822fa     HoudaZ_int_N 2023-04-07 10:30:00   \n11  57f60fdff2c4415381f62e954fe12a3f     HoudaZ_int_N 2023-04-08 07:33:43   \n12  8383811091bb4be58ac8f053228bd114     HoudaZ_int_N 2023-04-12 21:32:36   \n13  a5e8d8534dfa472ea1e0db01b37acb1b      MoezL_int_N 2023-03-09 10:13:14   \n14  7c4130d8308b4a19a97cac00b1b5e4ff      MoezL_int_N 2023-03-27 09:49:28   \n15  9f80304a22de4ebeabd6876f5fed63a7      MoezL_int_N 2023-03-27 10:02:43   \n16  4e4e7bffdbbb472f9d61c42ab411e872      MoezL_int_N 2023-03-27 10:23:03   \n17  727f050e46fc4214a36e0afcd0c96be7      MoezL_int_N 2023-03-27 11:22:51   \n18  7af362f8e8bc406fa1d2a7dcbe9d216b      MoezL_int_N 2023-03-27 16:25:07   \n19  980e949646334c4aaa0fa95f79ac6548      MoezL_int_N 2023-03-28 08:18:51   \n20  56847c605a1a47ffb288b83efececddb      MoezL_int_N 2023-03-28 08:33:33   \n21  6eb3479c477c4fc1b7deb1bae1b48193              NaN                 NaT   \n22  c99ab0b9b8bf463f8fdfec56e245c66f              NaN                 NaT   \n\n      supervisor  interview_actions_idx  total_interviews  interview_sequence  \\\n0    MoezL_sup_N                   25.0               4.0                 1.0   \n1    MoezL_sup_N                  166.0               4.0                 2.0   \n2    MoezL_sup_N                  135.0               4.0                 3.0   \n3    MoezL_sup_N                  188.0               4.0                 4.0   \n4   HoudaR_sup_N                   81.0               3.0                 1.0   \n5   HoudaR_sup_N                  123.0               3.0                 2.0   \n6   HoudaR_sup_N                  178.0               3.0                 3.0   \n7   HoudaZ_sup_N                   41.0               6.0                 1.0   \n8   HoudaZ_sup_N                  234.0               6.0                 2.0   \n9   HoudaZ_sup_N                  220.0               6.0                 3.0   \n10  HoudaZ_sup_N                  210.0               6.0                 4.0   \n11  HoudaZ_sup_N                  198.0               6.0                 5.0   \n12  HoudaZ_sup_N                  244.0               6.0                 6.0   \n13   MoezL_sup_N                   13.0               8.0                 1.0   \n14   MoezL_sup_N                  101.0               8.0                 2.0   \n15   MoezL_sup_N                  111.0               8.0                 3.0   \n16   MoezL_sup_N                   53.0               8.0                 4.0   \n17   MoezL_sup_N                   71.0               8.0                 5.0   \n18   MoezL_sup_N                   91.0               8.0                 6.0   \n19   MoezL_sup_N                  155.0               8.0                 7.0   \n20   MoezL_sup_N                  145.0               8.0                 8.0   \n21           NaN                    NaN               NaN                 NaN   \n22           NaN                    NaN               NaN                 NaN   \n\n          date  days_since_start interview__key     interview__status  \\\n0   2023-03-09               0.0    47-95-93-34  ApprovedBySupervisor   \n1   2023-03-15               5.0    54-72-27-96  ApprovedBySupervisor   \n2   2023-03-15               6.0    22-49-76-44  ApprovedBySupervisor   \n3   2023-04-12              33.0    63-89-53-12  ApprovedBySupervisor   \n4   2023-03-13               0.0    30-90-89-62  ApprovedBySupervisor   \n5   2023-03-28              15.0    09-53-02-51  ApprovedBySupervisor   \n6   2023-04-13              30.0    00-13-03-79  ApprovedBySupervisor   \n7   2023-03-08               0.0    33-02-53-81  ApprovedBySupervisor   \n8   2023-04-03              25.0    24-57-01-56  ApprovedBySupervisor   \n9   2023-04-07              29.0    18-64-00-44  ApprovedBySupervisor   \n10  2023-04-07              29.0    48-45-62-78  ApprovedBySupervisor   \n11  2023-04-08              30.0    20-83-81-87  ApprovedBySupervisor   \n12  2023-04-12              35.0    68-85-64-59  ApprovedBySupervisor   \n13  2023-03-09               0.0    76-63-47-84  ApprovedBySupervisor   \n14  2023-03-27              17.0    34-11-19-34  ApprovedBySupervisor   \n15  2023-03-27              17.0    71-44-88-28  ApprovedBySupervisor   \n16  2023-03-27              18.0    40-66-18-77  ApprovedBySupervisor   \n17  2023-03-27              18.0    71-31-57-06  ApprovedBySupervisor   \n18  2023-03-27              18.0    38-45-42-26  ApprovedBySupervisor   \n19  2023-03-28              18.0    60-24-91-88  ApprovedBySupervisor   \n20  2023-03-28              18.0    81-99-21-89  ApprovedBySupervisor   \n21         NaN               NaN    53-92-01-59   InterviewerAssigned   \n22         NaN               NaN    67-88-68-86   InterviewerAssigned   \n\n        responsible  interviewers  rejections__sup  rejections__hq  \\\n0   AbdelmajM_int_N             1                0               0   \n1   AbdelmajM_int_N             1                0               0   \n2   AbdelmajM_int_N             1                0               0   \n3   AbdelmajM_int_N             1                0               0   \n4      HoudaR_int_N             1                0               0   \n5      HoudaR_int_N             1                0               0   \n6      HoudaR_int_N             1                0               0   \n7      HoudaZ_int_N             1                1               0   \n8      HoudaZ_int_N             1                0               0   \n9      HoudaZ_int_N             1                0               0   \n10     HoudaZ_int_N             1                0               0   \n11     HoudaZ_int_N             1                0               0   \n12     HoudaZ_int_N             1                0               0   \n13      MoezL_int_N             1                0               0   \n14      MoezL_int_N             1                0               0   \n15      MoezL_int_N             1                0               0   \n16      MoezL_int_N             1                0               0   \n17      MoezL_int_N             1                0               0   \n18      MoezL_int_N             1                0               0   \n19      MoezL_int_N             1                0               0   \n20      MoezL_int_N             1                0               0   \n21       RimL_int_N             1                0               0   \n22      ImenR_int_N             1                0               0   \n\n    entities__errors  questions__comments interview__duration  \\\n0                  0                    0         00.00:10:09   \n1                  0                    0         00.01:11:31   \n2                  0                    0         00.00:49:03   \n3                  0                    0         00.03:23:17   \n4                  0                    0         00.00:46:54   \n5                  0                    0         00.00:28:40   \n6                  0                    0         00.00:21:16   \n7                  0                    0         00.00:10:57   \n8                  0                    0         00.01:37:35   \n9                  0                    0         00.00:23:50   \n10                 0                    0         00.00:36:41   \n11                 0                    0         00.00:10:35   \n12                 0                    0         00.00:53:25   \n13                 0                    0         00.00:13:00   \n14                 0                    0         00.00:22:45   \n15                 0                    0         00.00:12:49   \n16                 0                    0         00.00:06:54   \n17                 0                    0         00.00:26:26   \n18                 0                    0         00.00:09:05   \n19                 0                    0         00.00:10:49   \n20                 0                    0         00.00:14:14   \n21                 0                    0                       \n22                 0                    0                       \n\n    n_questions_unanswered  \n0                        0  \n1                        0  \n2                        0  \n3                        0  \n4                        0  \n5                        0  \n6                        0  \n7                        0  \n8                        0  \n9                        0  \n10                       0  \n11                       0  \n12                       0  \n13                       0  \n14                       0  \n15                       0  \n16                       0  \n17                       0  \n18                       0  \n19                       0  \n20                       0  \n21                       4  \n22                       4  ",
      "text/html": "<div>\n<style scoped>\n    .dataframe tbody tr th:only-of-type {\n        vertical-align: middle;\n    }\n\n    .dataframe tbody tr th {\n        vertical-align: top;\n    }\n\n    .dataframe thead th {\n        text-align: right;\n    }\n</style>\n<table border=\"1\" class=\"dataframe\">\n  <thead>\n    <tr style=\"text-align: right;\">\n      <th></th>\n      <th>interview__id</th>\n      <th>interviewer</th>\n      <th>datetime</th>\n      <th>supervisor</th>\n      <th>interview_actions_idx</th>\n      <th>total_interviews</th>\n      <th>interview_sequence</th>\n      <th>date</th>\n      <th>days_since_start</th>\n      <th>interview__key</th>\n      <th>interview__status</th>\n      <th>responsible</th>\n      <th>interviewers</th>\n      <th>rejections__sup</th>\n      <th>rejections__hq</th>\n      <th>entities__errors</th>\n      <th>questions__comments</th>\n      <th>interview__duration</th>\n      <th>n_questions_unanswered</th>\n    </tr>\n  </thead>\n  <tbody>\n    <tr>\n      <th>0</th>\n      <td>5cb9ddfc494844b7bf97930c613be160</td>\n      <td>AbdelmajM_int_N</td>\n      <td>2023-03-09 14:48:40</td>\n      <td>MoezL_sup_N</td>\n      <td>25.0</td>\n      <td>4.0</td>\n      <td>1.0</td>\n      <td>2023-03-09</td>\n      <td>0.0</td>\n      <td>47-95-93-34</td>\n      <td>ApprovedBySupervisor</td>\n      <td>AbdelmajM_int_N</td>\n      <td>1</td>\n      <td>0</td>\n      <td>0</td>\n      <td>0</td>\n      <td>0</td>\n      <td>00.00:10:09</td>\n      <td>0</td>\n    </tr>\n    <tr>\n      <th>1</th>\n      <td>bba844ccc4f542118079c9411bef68e5</td>\n      <td>AbdelmajM_int_N</td>\n      <td>2023-03-15 12:56:58</td>\n      <td>MoezL_sup_N</td>\n      <td>166.0</td>\n      <td>4.0</td>\n      <td>2.0</td>\n      <td>2023-03-15</td>\n      <td>5.0</td>\n      <td>54-72-27-96</td>\n      <td>ApprovedBySupervisor</td>\n      <td>AbdelmajM_int_N</td>\n      <td>1</td>\n      <td>0</td>\n      <td>0</td>\n      <td>0</td>\n      <td>0</td>\n      <td>00.01:11:31</td>\n      <td>0</td>\n    </tr>\n    <tr>\n      <th>2</th>\n      <td>4e3f0194aa8d4b8da1b61d25373ad270</td>\n      <td>AbdelmajM_int_N</td>\n      <td>2023-03-15 19:58:31</td>\n      <td>MoezL_sup_N</td>\n      <td>135.0</td>\n      <td>4.0</td>\n      <td>3.0</td>\n      <td>2023-03-15</td>\n      <td>6.0</td>\n      <td>22-49-76-44</td>\n      <td>ApprovedBySupervisor</td>\n      <td>AbdelmajM_int_N</td>\n      <td>1</td>\n      <td>0</td>\n      <td>0</td>\n      <td>0</td>\n      <td>0</td>\n      <td>00.00:49:03</td>\n      <td>0</td>\n    </tr>\n    <tr>\n      <th>3</th>\n      <td>4ca870c778f648cc986dfdafa83e3755</td>\n      <td>AbdelmajM_int_N</td>\n      <td>2023-04-12 08:24:32</td>\n      <td>MoezL_sup_N</td>\n      <td>188.0</td>\n      <td>4.0</td>\n      <td>4.0</td>\n      <td>2023-04-12</td>\n      <td>33.0</td>\n      <td>63-89-53-12</td>\n      <td>ApprovedBySupervisor</td>\n      <td>AbdelmajM_int_N</td>\n      <td>1</td>\n      <td>0</td>\n      <td>0</td>\n      <td>0</td>\n      <td>0</td>\n      <td>00.03:23:17</td>\n      <td>0</td>\n    </tr>\n    <tr>\n      <th>4</th>\n      <td>6c0de8d6f11646f69e89a0bf64c57810</td>\n      <td>HoudaR_int_N</td>\n      <td>2023-03-13 18:24:22</td>\n      <td>HoudaR_sup_N</td>\n      <td>81.0</td>\n      <td>3.0</td>\n      <td>1.0</td>\n      <td>2023-03-13</td>\n      <td>0.0</td>\n      <td>30-90-89-62</td>\n      <td>ApprovedBySupervisor</td>\n      <td>HoudaR_int_N</td>\n      <td>1</td>\n      <td>0</td>\n      <td>0</td>\n      <td>0</td>\n      <td>0</td>\n      <td>00.00:46:54</td>\n      <td>0</td>\n    </tr>\n    <tr>\n      <th>5</th>\n      <td>0d75e9acc3d24dffba9313c8e6fac8ed</td>\n      <td>HoudaR_int_N</td>\n      <td>2023-03-28 21:48:38</td>\n      <td>HoudaR_sup_N</td>\n      <td>123.0</td>\n      <td>3.0</td>\n      <td>2.0</td>\n      <td>2023-03-28</td>\n      <td>15.0</td>\n      <td>09-53-02-51</td>\n      <td>ApprovedBySupervisor</td>\n      <td>HoudaR_int_N</td>\n      <td>1</td>\n      <td>0</td>\n      <td>0</td>\n      <td>0</td>\n      <td>0</td>\n      <td>00.00:28:40</td>\n      <td>0</td>\n    </tr>\n    <tr>\n      <th>6</th>\n      <td>3896dfd4d24143ab9c18eeb0f082392d</td>\n      <td>HoudaR_int_N</td>\n      <td>2023-04-13 08:58:10</td>\n      <td>HoudaR_sup_N</td>\n      <td>178.0</td>\n      <td>3.0</td>\n      <td>3.0</td>\n      <td>2023-04-13</td>\n      <td>30.0</td>\n      <td>00-13-03-79</td>\n      <td>ApprovedBySupervisor</td>\n      <td>HoudaR_int_N</td>\n      <td>1</td>\n      <td>0</td>\n      <td>0</td>\n      <td>0</td>\n      <td>0</td>\n      <td>00.00:21:16</td>\n      <td>0</td>\n    </tr>\n    <tr>\n      <th>7</th>\n      <td>f7fe612b614644529b673ecc59e4d18b</td>\n      <td>HoudaZ_int_N</td>\n      <td>2023-03-08 19:43:25</td>\n      <td>HoudaZ_sup_N</td>\n      <td>41.0</td>\n      <td>6.0</td>\n      <td>1.0</td>\n      <td>2023-03-08</td>\n      <td>0.0</td>\n      <td>33-02-53-81</td>\n      <td>ApprovedBySupervisor</td>\n      <td>HoudaZ_int_N</td>\n      <td>1</td>\n      <td>1</td>\n      <td>0</td>\n      <td>0</td>\n      <td>0</td>\n      <td>00.00:10:57</td>\n      <td>0</td>\n    </tr>\n    <tr>\n      <th>8</th>\n      <td>f5d0050536e74bb59c746556398f6e25</td>\n      <td>HoudaZ_int_N</td>\n      <td>2023-04-03 19:34:17</td>\n      <td>HoudaZ_sup_N</td>\n      <td>234.0</td>\n      <td>6.0</td>\n      <td>2.0</td>\n      <td>2023-04-03</td>\n      <td>25.0</td>\n      <td>24-57-01-56</td>\n      <td>ApprovedBySupervisor</td>\n      <td>HoudaZ_int_N</td>\n      <td>1</td>\n      <td>0</td>\n      <td>0</td>\n      <td>0</td>\n      <td>0</td>\n      <td>00.01:37:35</td>\n      <td>0</td>\n    </tr>\n    <tr>\n      <th>9</th>\n      <td>f199b3df198b486b95f4f8ffd9a7090e</td>\n      <td>HoudaZ_int_N</td>\n      <td>2023-04-07 10:23:39</td>\n      <td>HoudaZ_sup_N</td>\n      <td>220.0</td>\n      <td>6.0</td>\n      <td>3.0</td>\n      <td>2023-04-07</td>\n      <td>29.0</td>\n      <td>18-64-00-44</td>\n      <td>ApprovedBySupervisor</td>\n      <td>HoudaZ_int_N</td>\n      <td>1</td>\n      <td>0</td>\n      <td>0</td>\n      <td>0</td>\n      <td>0</td>\n      <td>00.00:23:50</td>\n      <td>0</td>\n    </tr>\n    <tr>\n      <th>10</th>\n      <td>cc9dd7eab45143ed989a5293be3822fa</td>\n      <td>HoudaZ_int_N</td>\n      <td>2023-04-07 10:30:00</td>\n      <td>HoudaZ_sup_N</td>\n      <td>210.0</td>\n      <td>6.0</td>\n      <td>4.0</td>\n      <td>2023-04-07</td>\n      <td>29.0</td>\n      <td>48-45-62-78</td>\n      <td>ApprovedBySupervisor</td>\n      <td>HoudaZ_int_N</td>\n      <td>1</td>\n      <td>0</td>\n      <td>0</td>\n      <td>0</td>\n      <td>0</td>\n      <td>00.00:36:41</td>\n      <td>0</td>\n    </tr>\n    <tr>\n      <th>11</th>\n      <td>57f60fdff2c4415381f62e954fe12a3f</td>\n      <td>HoudaZ_int_N</td>\n      <td>2023-04-08 07:33:43</td>\n      <td>HoudaZ_sup_N</td>\n      <td>198.0</td>\n      <td>6.0</td>\n      <td>5.0</td>\n      <td>2023-04-08</td>\n      <td>30.0</td>\n      <td>20-83-81-87</td>\n      <td>ApprovedBySupervisor</td>\n      <td>HoudaZ_int_N</td>\n      <td>1</td>\n      <td>0</td>\n      <td>0</td>\n      <td>0</td>\n      <td>0</td>\n      <td>00.00:10:35</td>\n      <td>0</td>\n    </tr>\n    <tr>\n      <th>12</th>\n      <td>8383811091bb4be58ac8f053228bd114</td>\n      <td>HoudaZ_int_N</td>\n      <td>2023-04-12 21:32:36</td>\n      <td>HoudaZ_sup_N</td>\n      <td>244.0</td>\n      <td>6.0</td>\n      <td>6.0</td>\n      <td>2023-04-12</td>\n      <td>35.0</td>\n      <td>68-85-64-59</td>\n      <td>ApprovedBySupervisor</td>\n      <td>HoudaZ_int_N</td>\n      <td>1</td>\n      <td>0</td>\n      <td>0</td>\n      <td>0</td>\n      <td>0</td>\n      <td>00.00:53:25</td>\n      <td>0</td>\n    </tr>\n    <tr>\n      <th>13</th>\n      <td>a5e8d8534dfa472ea1e0db01b37acb1b</td>\n      <td>MoezL_int_N</td>\n      <td>2023-03-09 10:13:14</td>\n      <td>MoezL_sup_N</td>\n      <td>13.0</td>\n      <td>8.0</td>\n      <td>1.0</td>\n      <td>2023-03-09</td>\n      <td>0.0</td>\n      <td>76-63-47-84</td>\n      <td>ApprovedBySupervisor</td>\n      <td>MoezL_int_N</td>\n      <td>1</td>\n      <td>0</td>\n      <td>0</td>\n      <td>0</td>\n      <td>0</td>\n      <td>00.00:13:00</td>\n      <td>0</td>\n    </tr>\n    <tr>\n      <th>14</th>\n      <td>7c4130d8308b4a19a97cac00b1b5e4ff</td>\n      <td>MoezL_int_N</td>\n      <td>2023-03-27 09:49:28</td>\n      <td>MoezL_sup_N</td>\n      <td>101.0</td>\n      <td>8.0</td>\n      <td>2.0</td>\n      <td>2023-03-27</td>\n      <td>17.0</td>\n      <td>34-11-19-34</td>\n      <td>ApprovedBySupervisor</td>\n      <td>MoezL_int_N</td>\n      <td>1</td>\n      <td>0</td>\n      <td>0</td>\n      <td>0</td>\n      <td>0</td>\n      <td>00.00:22:45</td>\n      <td>0</td>\n    </tr>\n    <tr>\n      <th>15</th>\n      <td>9f80304a22de4ebeabd6876f5fed63a7</td>\n      <td>MoezL_int_N</td>\n      <td>2023-03-27 10:02:43</td>\n      <td>MoezL_sup_N</td>\n      <td>111.0</td>\n      <td>8.0</td>\n      <td>3.0</td>\n      <td>2023-03-27</td>\n      <td>17.0</td>\n      <td>71-44-88-28</td>\n      <td>ApprovedBySupervisor</td>\n      <td>MoezL_int_N</td>\n      <td>1</td>\n      <td>0</td>\n      <td>0</td>\n      <td>0</td>\n      <td>0</td>\n      <td>00.00:12:49</td>\n      <td>0</td>\n    </tr>\n    <tr>\n      <th>16</th>\n      <td>4e4e7bffdbbb472f9d61c42ab411e872</td>\n      <td>MoezL_int_N</td>\n      <td>2023-03-27 10:23:03</td>\n      <td>MoezL_sup_N</td>\n      <td>53.0</td>\n      <td>8.0</td>\n      <td>4.0</td>\n      <td>2023-03-27</td>\n      <td>18.0</td>\n      <td>40-66-18-77</td>\n      <td>ApprovedBySupervisor</td>\n      <td>MoezL_int_N</td>\n      <td>1</td>\n      <td>0</td>\n      <td>0</td>\n      <td>0</td>\n      <td>0</td>\n      <td>00.00:06:54</td>\n      <td>0</td>\n    </tr>\n    <tr>\n      <th>17</th>\n      <td>727f050e46fc4214a36e0afcd0c96be7</td>\n      <td>MoezL_int_N</td>\n      <td>2023-03-27 11:22:51</td>\n      <td>MoezL_sup_N</td>\n      <td>71.0</td>\n      <td>8.0</td>\n      <td>5.0</td>\n      <td>2023-03-27</td>\n      <td>18.0</td>\n      <td>71-31-57-06</td>\n      <td>ApprovedBySupervisor</td>\n      <td>MoezL_int_N</td>\n      <td>1</td>\n      <td>0</td>\n      <td>0</td>\n      <td>0</td>\n      <td>0</td>\n      <td>00.00:26:26</td>\n      <td>0</td>\n    </tr>\n    <tr>\n      <th>18</th>\n      <td>7af362f8e8bc406fa1d2a7dcbe9d216b</td>\n      <td>MoezL_int_N</td>\n      <td>2023-03-27 16:25:07</td>\n      <td>MoezL_sup_N</td>\n      <td>91.0</td>\n      <td>8.0</td>\n      <td>6.0</td>\n      <td>2023-03-27</td>\n      <td>18.0</td>\n      <td>38-45-42-26</td>\n      <td>ApprovedBySupervisor</td>\n      <td>MoezL_int_N</td>\n      <td>1</td>\n      <td>0</td>\n      <td>0</td>\n      <td>0</td>\n      <td>0</td>\n      <td>00.00:09:05</td>\n      <td>0</td>\n    </tr>\n    <tr>\n      <th>19</th>\n      <td>980e949646334c4aaa0fa95f79ac6548</td>\n      <td>MoezL_int_N</td>\n      <td>2023-03-28 08:18:51</td>\n      <td>MoezL_sup_N</td>\n      <td>155.0</td>\n      <td>8.0</td>\n      <td>7.0</td>\n      <td>2023-03-28</td>\n      <td>18.0</td>\n      <td>60-24-91-88</td>\n      <td>ApprovedBySupervisor</td>\n      <td>MoezL_int_N</td>\n      <td>1</td>\n      <td>0</td>\n      <td>0</td>\n      <td>0</td>\n      <td>0</td>\n      <td>00.00:10:49</td>\n      <td>0</td>\n    </tr>\n    <tr>\n      <th>20</th>\n      <td>56847c605a1a47ffb288b83efececddb</td>\n      <td>MoezL_int_N</td>\n      <td>2023-03-28 08:33:33</td>\n      <td>MoezL_sup_N</td>\n      <td>145.0</td>\n      <td>8.0</td>\n      <td>8.0</td>\n      <td>2023-03-28</td>\n      <td>18.0</td>\n      <td>81-99-21-89</td>\n      <td>ApprovedBySupervisor</td>\n      <td>MoezL_int_N</td>\n      <td>1</td>\n      <td>0</td>\n      <td>0</td>\n      <td>0</td>\n      <td>0</td>\n      <td>00.00:14:14</td>\n      <td>0</td>\n    </tr>\n    <tr>\n      <th>21</th>\n      <td>6eb3479c477c4fc1b7deb1bae1b48193</td>\n      <td>NaN</td>\n      <td>NaT</td>\n      <td>NaN</td>\n      <td>NaN</td>\n      <td>NaN</td>\n      <td>NaN</td>\n      <td>NaN</td>\n      <td>NaN</td>\n      <td>53-92-01-59</td>\n      <td>InterviewerAssigned</td>\n      <td>RimL_int_N</td>\n      <td>1</td>\n      <td>0</td>\n      <td>0</td>\n      <td>0</td>\n      <td>0</td>\n      <td></td>\n      <td>4</td>\n    </tr>\n    <tr>\n      <th>22</th>\n      <td>c99ab0b9b8bf463f8fdfec56e245c66f</td>\n      <td>NaN</td>\n      <td>NaT</td>\n      <td>NaN</td>\n      <td>NaN</td>\n      <td>NaN</td>\n      <td>NaN</td>\n      <td>NaN</td>\n      <td>NaN</td>\n      <td>67-88-68-86</td>\n      <td>InterviewerAssigned</td>\n      <td>ImenR_int_N</td>\n      <td>1</td>\n      <td>0</td>\n      <td>0</td>\n      <td>0</td>\n      <td>0</td>\n      <td></td>\n      <td>4</td>\n    </tr>\n  </tbody>\n</table>\n</div>"
     },
     "execution_count": 36,
     "metadata": {},
     "output_type": "execute_result"
    }
   ],
   "source": [
    "df = pd.read_stata(os.path.join(directory, 'interview__actions.dta'))\n",
    "df['datetime'] = pd.to_datetime(df['date'] + ' ' + df['time'])\n",
    "\n",
    "df['interview_actions_idx'] = df.groupby('interview__id').transform('first').index\n",
    "\n",
    "# we assume the interview__actions file to be sorted by survey solutions, if not add row below\n",
    "# df.sort_values(['interview__id', 'datetime'], inplace=True)\n",
    "\n",
    "# get the index of the first reject/review event for each interview\n",
    "df_rejected = df[df['action'].isin(['RejectedBySupervisor', 'RejectedByHQ', 'OpenedBySupervisor', 'OpenedByHQ'])]\n",
    "first_reject_idx = df_rejected.groupby('interview__id')['datetime'].idxmin()\n",
    "\n",
    "# get dataframe where each row is the last 'Completed' event prior to first reject event for each interview\n",
    "def get_last_complete(group):\n",
    "    reject_time = first_reject_idx.get(group.name)\n",
    "    if reject_time is not None:\n",
    "        group = group.loc[group.index < reject_time]\n",
    "    if any(group['action'] == 'Completed'):\n",
    "        return group[group['action'] == 'Completed'].iloc[[-1]]\n",
    "    else:\n",
    "        return pd.DataFrame()\n",
    "\n",
    "last_complete_df = df.groupby('interview__id').apply(get_last_complete)\n",
    "\n",
    "# create a new dataframe with interviewer and datetime\n",
    "interview_df = last_complete_df[['originator', 'datetime', 'responsible__name', 'interview_actions_idx']].copy()\n",
    "interview_df.columns = ['interviewer', 'datetime', 'supervisor', 'interview_actions_idx']\n",
    "\n",
    "# Add column for the total number of interviews per interviewer\n",
    "interview_df['total_interviews'] = interview_df.groupby('interviewer')['interviewer'].transform('count')\n",
    "\n",
    "# Add column for the sequential number of each interview per interviewer\n",
    "interview_df.sort_values(['interviewer', 'datetime'], inplace=True)\n",
    "interview_df['interview_sequence'] = interview_df.groupby('interviewer').cumcount() + 1\n",
    "\n",
    "# Add column for the date of each interview\n",
    "interview_df['date'] = interview_df['datetime'].dt.date\n",
    "\n",
    "# Calculate the number of days passed since the first date\n",
    "interview_df['days_since_start'] = (interview_df['datetime'] - interview_df.groupby('interviewer')['datetime'].transform('min')).dt.days\n",
    "\n",
    "\n",
    "# bring in columns from the diagnostics file\n",
    "diagnostics_df = pd.read_stata(os.path.join(directory, 'interview__diagnostics.dta'))\n",
    "interview_df = interview_df.merge(diagnostics_df, on='interview__id', how='outer')  # or left join, if we want to filter out those who do not have a completed event\n",
    "\n",
    "\n",
    "#interview_df = interview_df.sort_values(by='interview_actions_idx')\n",
    "interview_df"
   ],
   "metadata": {
    "collapsed": false,
    "ExecuteTime": {
     "end_time": "2023-07-03T12:09:01.646783Z",
     "start_time": "2023-07-03T12:09:01.600063Z"
    }
   }
  },
  {
   "cell_type": "markdown",
   "source": [
    "# variables\n",
    "interviewer: interviewer who first completed the interviewer (note: may be reassigned to other interviewer afterwards, but rare)\n",
    "datetime: the datetime of the first completion (note: may be rejected and again marked as complete, several times)\n",
    "supervisor: the supervisor assigned to interviewer at the time (note: field organisation may differ)\n",
    "interview_actions_idx: index of the row on the interview_actions file from which information was picked\n",
    "total_interview: total interviews done by the interviewer\n",
    "interview_sequence: sequential number by interviewer of the interview, by first completion date\n",
    "date: date of first completion\n",
    "days_since_start: first completion date in days since first completion in the data set\n",
    "rest of variables is from interview_diagnostics\n",
    "\n"
   ],
   "metadata": {
    "collapsed": false
   }
  },
  {
   "cell_type": "code",
   "execution_count": null,
   "outputs": [],
   "source": [],
   "metadata": {
    "collapsed": false
   }
  }
 ],
 "metadata": {
  "kernelspec": {
   "display_name": "Python 3",
   "language": "python",
   "name": "python3"
  },
  "language_info": {
   "codemirror_mode": {
    "name": "ipython",
    "version": 2
   },
   "file_extension": ".py",
   "mimetype": "text/x-python",
   "name": "python",
   "nbconvert_exporter": "python",
   "pygments_lexer": "ipython2",
   "version": "2.7.6"
  }
 },
 "nbformat": 4,
 "nbformat_minor": 0
}
