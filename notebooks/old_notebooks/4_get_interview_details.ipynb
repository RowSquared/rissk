{
 "cells": [
  {
   "cell_type": "code",
   "execution_count": null,
   "metadata": {
    "ExecuteTime": {
     "end_time": "2023-07-03T08:45:45.138534Z",
     "start_time": "2023-07-03T08:45:44.625299Z"
    }
   },
   "outputs": [],
   "source": [
    "import os\n",
    "import pandas as pd\n",
    "directory = \"raw\""
   ]
  },
  {
   "cell_type": "code",
   "execution_count": null,
   "metadata": {
    "ExecuteTime": {
     "end_time": "2023-07-03T12:09:01.646783Z",
     "start_time": "2023-07-03T12:09:01.600063Z"
    }
   },
   "outputs": [],
   "source": [
    "df = pd.read_stata(os.path.join(directory, 'interview__actions.dta'))\n",
    "df['datetime'] = pd.to_datetime(df['date'] + ' ' + df['time'])\n",
    "\n",
    "df['interview_actions_idx'] = df.groupby('interview__id').transform('first').index\n",
    "\n",
    "# we assume the interview__actions file to be sorted by survey solutions, if not add row below\n",
    "# df.sort_values(['interview__id', 'datetime'], inplace=True)\n",
    "\n",
    "# get the index of the first reject/review event for each interview\n",
    "df_rejected = df[df['action'].isin(['RejectedBySupervisor', 'RejectedByHQ', 'OpenedBySupervisor', 'OpenedByHQ'])]\n",
    "first_reject_idx = df_rejected.groupby('interview__id')['datetime'].idxmin()\n",
    "\n",
    "# get dataframe where each row is the last 'Completed' event prior to first reject event for each interview\n",
    "def get_last_complete(group):\n",
    "    reject_time = first_reject_idx.get(group.name)\n",
    "    if reject_time is not None:\n",
    "        group = group.loc[group.index < reject_time]\n",
    "    if any(group['action'] == 'Completed'):\n",
    "        return group[group['action'] == 'Completed'].iloc[[-1]]\n",
    "    else:\n",
    "        return pd.DataFrame()\n",
    "\n",
    "last_complete_df = df.groupby('interview__id').apply(get_last_complete)\n",
    "\n",
    "# create a new dataframe with interviewer and datetime\n",
    "interview_df = last_complete_df[['originator', 'datetime', 'responsible__name', 'interview_actions_idx']].copy()\n",
    "interview_df.columns = ['interviewer', 'datetime', 'supervisor', 'interview_actions_idx']\n",
    "\n",
    "# Add column for the total number of interviews per interviewer\n",
    "interview_df['total_interviews'] = interview_df.groupby('interviewer')['interviewer'].transform('count')\n",
    "\n",
    "# Add column for the sequential number of each interview per interviewer\n",
    "interview_df.sort_values(['interviewer', 'datetime'], inplace=True)\n",
    "interview_df['interview_sequence'] = interview_df.groupby('interviewer').cumcount() + 1\n",
    "\n",
    "# Add column for the date of each interview\n",
    "interview_df['date'] = interview_df['datetime'].dt.date\n",
    "\n",
    "# Calculate the number of days passed since the first date\n",
    "interview_df['days_since_start'] = (interview_df['datetime'] - interview_df.groupby('interviewer')['datetime'].transform('min')).dt.days\n",
    "\n",
    "\n",
    "# bring in columns from the diagnostics file\n",
    "diagnostics_df = pd.read_stata(os.path.join(directory, 'interview__diagnostics.dta'))\n",
    "interview_df = interview_df.merge(diagnostics_df, on='interview__id', how='outer')  # or left join, if we want to filter out those who do not have a completed event\n",
    "\n",
    "\n",
    "#interview_df = interview_df.sort_values(by='interview_actions_idx')\n",
    "interview_df"
   ]
  },
  {
   "cell_type": "markdown",
   "metadata": {
    "collapsed": false
   },
   "source": [
    "# variables\n",
    "interviewer: interviewer who first completed the interviewer (note: may be reassigned to other interviewer afterwards, but rare)\n",
    "datetime: the datetime of the first completion (note: may be rejected and again marked as complete, several times)\n",
    "supervisor: the supervisor assigned to interviewer at the time (note: field organisation may differ)\n",
    "interview_actions_idx: index of the row on the interview_actions file from which information was picked\n",
    "total_interview: total interviews done by the interviewer\n",
    "interview_sequence: sequential number by interviewer of the interview, by first completion date\n",
    "date: date of first completion\n",
    "days_since_start: first completion date in days since first completion in the data set\n",
    "rest of variables is from interview_diagnostics\n",
    "\n"
   ]
  },
  {
   "cell_type": "code",
   "execution_count": null,
   "metadata": {},
   "outputs": [],
   "source": []
  }
 ],
 "metadata": {
  "kernelspec": {
   "display_name": "Python 3",
   "language": "python",
   "name": "python3"
  },
  "language_info": {
   "codemirror_mode": {
    "name": "ipython",
    "version": 2
   },
   "file_extension": ".py",
   "mimetype": "text/x-python",
   "name": "python",
   "nbconvert_exporter": "python",
   "pygments_lexer": "ipython2",
   "version": "2.7.6"
  }
 },
 "nbformat": 4,
 "nbformat_minor": 0
}
